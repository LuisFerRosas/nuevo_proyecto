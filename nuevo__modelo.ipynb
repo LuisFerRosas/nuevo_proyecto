{
  "nbformat": 4,
  "nbformat_minor": 0,
  "metadata": {
    "colab": {
      "name": "nuevo_ modelo.ipynb",
      "provenance": [],
      "collapsed_sections": [],
      "machine_shape": "hm",
      "include_colab_link": true
    },
    "kernelspec": {
      "display_name": "Python 3",
      "name": "python3"
    },
    "language_info": {
      "name": "python"
    },
    "accelerator": "GPU"
  },
  "cells": [
    {
      "cell_type": "markdown",
      "metadata": {
        "id": "view-in-github",
        "colab_type": "text"
      },
      "source": [
        "<a href=\"https://colab.research.google.com/github/LuisFerRosas/nuevo_proyecto/blob/main/nuevo__modelo.ipynb\" target=\"_parent\"><img src=\"https://colab.research.google.com/assets/colab-badge.svg\" alt=\"Open In Colab\"/></a>"
      ]
    },
    {
      "cell_type": "code",
      "metadata": {
        "colab": {
          "base_uri": "https://localhost:8080/"
        },
        "id": "qhpnY-7pCEC7",
        "outputId": "50716c08-3517-4157-9d4c-e45d2be6377f"
      },
      "source": [
        "from google.colab import drive\n",
        "drive.mount('/gdrive')\n",
        "%cd /gdrive/My Drive/Colab Notebooks/Proyecto_ia3"
      ],
      "execution_count": null,
      "outputs": [
        {
          "output_type": "stream",
          "text": [
            "Drive already mounted at /gdrive; to attempt to forcibly remount, call drive.mount(\"/gdrive\", force_remount=True).\n",
            "/gdrive/My Drive/Colab Notebooks/Proyecto_ia3\n"
          ],
          "name": "stdout"
        }
      ]
    },
    {
      "cell_type": "code",
      "metadata": {
        "id": "U6Z1r58emPvZ"
      },
      "source": [
        "import torch\n",
        "import torch.nn as nn\n",
        "import numpy as np\n",
        "from torch import Tensor \n",
        "import math\n",
        "import json"
      ],
      "execution_count": null,
      "outputs": []
    },
    {
      "cell_type": "code",
      "metadata": {
        "colab": {
          "base_uri": "https://localhost:8080/"
        },
        "id": "mL1nfOKNC7k-",
        "outputId": "9720b4b5-3f69-42c8-bfe6-c0322b4ce0bb"
      },
      "source": [
        "!ls"
      ],
      "execution_count": null,
      "outputs": [
        {
          "output_type": "stream",
          "text": [
            " checkpoint\t\t\t    'nuevo_ modelo.ipynb'\n",
            "'Copia de Final Transformer.ipynb'  'nuevo_ modelo_local.ipynb'\n",
            "'Copia de nuevo_ modelo.ipynb'\t     nuevo_proyecto\n",
            " datos2\t\t\t\t     transcripcion_de_Musica\n",
            "'Final Transformer.ipynb'\n"
          ],
          "name": "stdout"
        }
      ]
    },
    {
      "cell_type": "code",
      "metadata": {
        "colab": {
          "base_uri": "https://localhost:8080/"
        },
        "id": "t7EoQnpDC_yq",
        "outputId": "0d62ca9a-1f1d-4bba-a3a4-c5a80835cbda"
      },
      "source": [
        "with open(\"./datos2/vocabulario2.json\", \"r\") as fp:\n",
        "        vocabPart = json.load(fp)\n",
        "\n",
        "len(vocabPart)"
      ],
      "execution_count": null,
      "outputs": [
        {
          "output_type": "execute_result",
          "data": {
            "text/plain": [
              "233"
            ]
          },
          "metadata": {
            "tags": []
          },
          "execution_count": 5
        }
      ]
    },
    {
      "cell_type": "code",
      "metadata": {
        "colab": {
          "base_uri": "https://localhost:8080/"
        },
        "id": "111mOsYKCwwp",
        "outputId": "fb277a14-246f-4185-ca5a-ffa69ef5205c"
      },
      "source": [
        "!git clone https://github.com/LuisFerRosas/nuevo_proyecto.git"
      ],
      "execution_count": null,
      "outputs": [
        {
          "output_type": "stream",
          "text": [
            "fatal: destination path 'nuevo_proyecto' already exists and is not an empty directory.\n"
          ],
          "name": "stdout"
        }
      ]
    },
    {
      "cell_type": "code",
      "metadata": {
        "colab": {
          "base_uri": "https://localhost:8080/"
        },
        "id": "4DS_rRpxDUOn",
        "outputId": "829682a2-62ce-4643-c73f-91f0e8f79f8d"
      },
      "source": [
        "cd nuevo_proyecto/"
      ],
      "execution_count": null,
      "outputs": [
        {
          "output_type": "stream",
          "text": [
            "/gdrive/My Drive/Colab Notebooks/Proyecto_ia3/nuevo_proyecto\n"
          ],
          "name": "stdout"
        }
      ]
    },
    {
      "cell_type": "code",
      "metadata": {
        "colab": {
          "base_uri": "https://localhost:8080/"
        },
        "id": "pNEOJHBFJqu3",
        "outputId": "942b7196-476e-4c4f-b4bb-174a6f1d78eb"
      },
      "source": [
        "!pip install -r requirements.txt"
      ],
      "execution_count": null,
      "outputs": [
        {
          "output_type": "stream",
          "text": [
            "Collecting tensorboardX\n",
            "  Downloading tensorboardX-2.4-py2.py3-none-any.whl (124 kB)\n",
            "\u001b[?25l\r\u001b[K     |██▋                             | 10 kB 40.5 MB/s eta 0:00:01\r\u001b[K     |█████▎                          | 20 kB 42.3 MB/s eta 0:00:01\r\u001b[K     |████████                        | 30 kB 47.9 MB/s eta 0:00:01\r\u001b[K     |██████████▌                     | 40 kB 28.9 MB/s eta 0:00:01\r\u001b[K     |█████████████▏                  | 51 kB 16.6 MB/s eta 0:00:01\r\u001b[K     |███████████████▉                | 61 kB 14.6 MB/s eta 0:00:01\r\u001b[K     |██████████████████▍             | 71 kB 16.4 MB/s eta 0:00:01\r\u001b[K     |█████████████████████           | 81 kB 15.6 MB/s eta 0:00:01\r\u001b[K     |███████████████████████▊        | 92 kB 13.5 MB/s eta 0:00:01\r\u001b[K     |██████████████████████████▎     | 102 kB 14.7 MB/s eta 0:00:01\r\u001b[K     |█████████████████████████████   | 112 kB 14.7 MB/s eta 0:00:01\r\u001b[K     |███████████████████████████████▋| 122 kB 14.7 MB/s eta 0:00:01\r\u001b[K     |████████████████████████████████| 124 kB 14.7 MB/s \n",
            "\u001b[?25hRequirement already satisfied: tqdm in /usr/local/lib/python3.7/dist-packages (from -r requirements.txt (line 2)) (4.41.1)\n",
            "Collecting pydub\n",
            "  Downloading pydub-0.25.1-py2.py3-none-any.whl (32 kB)\n",
            "Requirement already satisfied: protobuf>=3.8.0 in /usr/local/lib/python3.7/dist-packages (from tensorboardX->-r requirements.txt (line 1)) (3.17.3)\n",
            "Requirement already satisfied: numpy in /usr/local/lib/python3.7/dist-packages (from tensorboardX->-r requirements.txt (line 1)) (1.19.5)\n",
            "Requirement already satisfied: six>=1.9 in /usr/local/lib/python3.7/dist-packages (from protobuf>=3.8.0->tensorboardX->-r requirements.txt (line 1)) (1.15.0)\n",
            "Installing collected packages: tensorboardX, pydub\n",
            "Successfully installed pydub-0.25.1 tensorboardX-2.4\n"
          ],
          "name": "stdout"
        }
      ]
    },
    {
      "cell_type": "code",
      "metadata": {
        "id": "9dXDdelqn6jP"
      },
      "source": [
        "class TokenEmbedding(nn.Module):\n",
        "    def __init__(self, vocab_size: int, emb_size):\n",
        "        super(TokenEmbedding, self).__init__()\n",
        "        self.embedding = nn.Embedding(vocab_size, emb_size)\n",
        "        self.emb_size = emb_size\n",
        "\n",
        "    def forward(self, tokens: Tensor):\n",
        "        return self.embedding(tokens.long()) * math.sqrt(self.emb_size)\n",
        "\n",
        "\n",
        "class PositionalEncoding(nn.Module):\n",
        "  def __init__(self,\n",
        "                emb_size: int,\n",
        "                dropout: float,\n",
        "                maxlen: int = 6000):\n",
        "      super(PositionalEncoding, self).__init__()\n",
        "      den = torch.exp(- torch.arange(0, emb_size, 2)* math.log(10000) / emb_size)\n",
        "      pos = torch.arange(0, maxlen).reshape(maxlen, 1)\n",
        "      pos_embedding = torch.zeros((maxlen, emb_size))\n",
        "      pos_embedding[:, 0::2] = torch.sin(pos * den)\n",
        "      pos_embedding[:, 1::2] = torch.cos(pos * den)\n",
        "      pos_embedding = pos_embedding.unsqueeze(-2)\n",
        "\n",
        "      self.dropout = nn.Dropout(dropout)\n",
        "      self.register_buffer('pos_embedding', pos_embedding)\n",
        "\n",
        "  def forward(self, token_embedding: Tensor):\n",
        "      return self.dropout(token_embedding + self.pos_embedding[:token_embedding.size(0), :])"
      ],
      "execution_count": null,
      "outputs": []
    },
    {
      "cell_type": "code",
      "metadata": {
        "id": "pM1DWqnZm7K3"
      },
      "source": [
        "class TmusicTrasforms(nn.Module):\n",
        "  def __init__(self,tgt_vocabulario,emb=40):\n",
        "    super().__init__() \n",
        "    \n",
        "    ################ TRANSFORMER BLOCK #############################\n",
        "    # maxpool the input feature map/tensor to the transformer \n",
        "    # a rectangular kernel worked better here for the rectangular input spectrogram feature map/tensor\n",
        "    self.transformer_maxpool = nn.MaxPool2d(kernel_size=[1,4], stride=[1,4])\n",
        "    \n",
        "    \n",
        "    self.tgt_tok_emb = TokenEmbedding(tgt_vocabulario, emb)\n",
        "    self.positional_encoding = PositionalEncoding(emb, dropout=0.1)\n",
        "    \n",
        "    transformer_layer = nn.TransformerEncoderLayer(\n",
        "        d_model=40, # input feature (frequency) dim after maxpooling 40*1723 -> 40*430 (MFC*time)\n",
        "        nhead=8, # 4 self-attention layers in each multi-head self-attention layer in each encoder block\n",
        "        dim_feedforward=512, # 2 linear layers in each encoder block's feedforward network: dim 40-->512--->40\n",
        "        dropout=0.4, \n",
        "        activation='relu' # ReLU: avoid saturation/tame gradient/reduce compute time\n",
        "    )\n",
        "    \n",
        "    self.transformer_encoder = nn.TransformerEncoder(transformer_layer, num_layers=6)\n",
        "    \n",
        "    transformer_decoder_layer=nn.TransformerDecoderLayer(\n",
        "        d_model=emb,\n",
        "        nhead=8,\n",
        "        dim_feedforward=512,\n",
        "        dropout=0.4,\n",
        "        activation='relu'\n",
        "    )\n",
        "    self.transformer_decoder=nn.TransformerDecoder(transformer_decoder_layer,num_layers=6)\n",
        "\n",
        "    ############### 1ST PARALLEL 2D CONVOLUTION BLOCK ############\n",
        "    # 3 sequential conv2D layers:  (1,40,1723) --> (8, 20, 861) -> (16, 4, 172) -> (32, 2, 86) -> (64,1,43)\n",
        "    self.conv2Dblock1 = nn.Sequential(\n",
        "        \n",
        "        # 1st 2D convolution layer\n",
        "        nn.Conv2d(\n",
        "            in_channels=1, # input volume depth == input channel dim == 1\n",
        "            out_channels=2, # expand output feature map volume's depth to 16\n",
        "            kernel_size=3, # typical 3*3 stride 1 kernel\n",
        "            stride=1,\n",
        "            padding=1,\n",
        "            \n",
        "                  ),\n",
        "        nn.BatchNorm2d(2), # batch normalize the output feature map before activation\n",
        "        nn.ReLU(), # feature map --> activation map\n",
        "        nn.MaxPool2d(kernel_size=2, stride=2), #typical maxpool kernel size\n",
        "        nn.Dropout(p=0.3), #randomly zero 30% of 1st layer's output feature map in training\n",
        "        \n",
        "        # 2nd 2D convolution layer identical to last except output dim, maxpool kernel\n",
        "        nn.Conv2d(\n",
        "            in_channels=2, \n",
        "            out_channels=4, # expand output feature map volume's depth to 32\n",
        "            kernel_size=3,\n",
        "            stride=1,\n",
        "            padding=1,\n",
        "            \n",
        "                  ),\n",
        "        nn.BatchNorm2d(4),\n",
        "        nn.ReLU(),\n",
        "        nn.MaxPool2d(kernel_size=2, stride=2), # increase maxpool kernel for subsequent filters\n",
        "        nn.Dropout(p=0.3), \n",
        "\n",
        "       \n",
        "    )\n",
        "    ############### 2ND PARALLEL 2D CONVOLUTION BLOCK ############\n",
        "    # 3 sequential conv2D layers: (1,40,1723) --> (8, 20, 861) -> (16, 4, 172) -> (32, 2, 86) -> (64,1,43)\n",
        "    self.conv2Dblock2 = nn.Sequential(\n",
        "       # 1st 2D convolution layer\n",
        "        nn.Conv2d(\n",
        "            in_channels=1, # input volume depth == input channel dim == 1\n",
        "            out_channels=2, # expand output feature map volume's depth to 16\n",
        "            kernel_size=3, # typical 3*3 stride 1 kernel\n",
        "            stride=1,\n",
        "            padding=1,\n",
        "            \n",
        "                  ),\n",
        "        nn.BatchNorm2d(2), # batch normalize the output feature map before activation\n",
        "        nn.ReLU(), # feature map --> activation map\n",
        "        nn.MaxPool2d(kernel_size=2, stride=2), #typical maxpool kernel size\n",
        "        nn.Dropout(p=0.3), #randomly zero 30% of 1st layer's output feature map in training\n",
        "        \n",
        "        # 2nd 2D convolution layer identical to last except output dim, maxpool kernel\n",
        "        nn.Conv2d(\n",
        "            in_channels=2, \n",
        "            out_channels=4, # expand output feature map volume's depth to 32\n",
        "            kernel_size=3,\n",
        "            stride=1,\n",
        "            padding=1,\n",
        "            \n",
        "                  ),\n",
        "        nn.BatchNorm2d(4),\n",
        "        nn.ReLU(),\n",
        "        nn.MaxPool2d(kernel_size=2, stride=2), # increase maxpool kernel for subsequent filters\n",
        "        nn.Dropout(p=0.3), \n",
        "       \n",
        "    )\n",
        "\n",
        "   \n",
        "    \n",
        "    self.fc2_linear = nn.Linear(emb,tgt_vocabulario)\n",
        "    \n",
        "    \n",
        "    self.softmax_out = nn.Softmax(dim=2) # dim==1 is the freq embedding\n",
        "  \n",
        "  def forward(self,x,partitura_tok,wave_comple):\n",
        "    # print(\"x input : \"+str(x.shape))# (1,1,40,1723)\n",
        "    ############ 1st parallel Conv2D block: 4 Convolutional layers ############################\n",
        "    \n",
        "    conv2d_embedding1 = self.conv2Dblock1(x) # x == N/batch * channel * freq * time\n",
        "    # print(\"conv2d_embedding1 : \"+str(conv2d_embedding1.shape))# [N, 4, 10, 215]\n",
        "    \n",
        "    conv2d_embedding1 = conv2d_embedding1.reshape(conv2d_embedding1.shape[0],-1,conv2d_embedding1.shape[-1]) #[n,40,215]\n",
        "    # print(\"conv2d_embedding1 Reshape : \"+str(conv2d_embedding1.shape))#[n,40,215]\n",
        "    ############ 2nd parallel Conv2D block: 4 Convolutional layers #############################\n",
        "    \n",
        "    conv2d_embedding2 = self.conv2Dblock2(x) # x == N/batch * channel * freq * time\n",
        "    # print(\"conv2d_embedding2 : \"+str(conv2d_embedding2.shape))# [N, 4, 10, 215]\n",
        "   \n",
        "    conv2d_embedding2 = conv2d_embedding2.reshape(conv2d_embedding2.shape[0],-1,conv2d_embedding2.shape[-1])#[n,40,215]\n",
        "    # print(\"conv2d_embedding2 Reshape : \"+str(conv2d_embedding2.shape))#[n,40,215]\n",
        "   \n",
        "    # x_maxpool = self.transformer_maxpool(x)\n",
        "    # print(\"x_maxpool  : \"+str(x_maxpool.shape))#[1, 1, 40, 430]\n",
        "    \n",
        "    x_maxpool_reduced = wave_comple\n",
        "    print(\"wave 2 : \"+str(x_maxpool_reduced.shape))#[1, 40, 581]\n",
        "    \n",
        "    wave_comple = wave_comple.permute(2,0,1) \n",
        "    print(\"x------>entrada Encoder : \"+str(wave_comple.shape))#[581, 1, 40]\n",
        "\n",
        "    transformer_output = self.transformer_encoder(wave_comple)\n",
        "    print(\"salida  Encoder : \"+str(transformer_output.shape))#[581, 1, 40]\n",
        "    transformer_output=transformer_output.permute(1,2,0) #[1, 40, 581] \n",
        "    \n",
        "    \n",
        "    sumaTensores=torch.cat((conv2d_embedding1, conv2d_embedding2, transformer_output), 2)\n",
        "    print(\"sumaTensores : \"+str(sumaTensores.shape))#[1, 40, 1011]\n",
        "    entrada_Decoder=sumaTensores.permute(2,0,1)#[430,n,40]\n",
        "\n",
        "    print(\"entrada_Decoder : \"+str(entrada_Decoder.shape))#[1011, 1, 40]\n",
        "    memory=self.positional_encoding(entrada_Decoder)\n",
        "    # print(\"memory positional  : \"+str(memory.shape))#[1011, 1, 40]\n",
        "\n",
        "    partitura_tok=partitura_tok.transpose(1,0)#[1,45]\n",
        "    # print(\"partitura_tok  : \"+str(partitura_tok.shape))#[45, 1]\n",
        "    partitura_tok= self.tgt_tok_emb(partitura_tok)\n",
        "    # print(\"partitura_tok2  : \"+str(partitura_tok.shape))#[45, 1, 40]\n",
        "    tgt_emb = self.positional_encoding(partitura_tok)\n",
        "    # print(\"tgt_emb_positional  : \"+str(tgt_emb.shape))#[45, 1, 40]\n",
        "\n",
        "    mask_tgt=generate_square_subsequent_mask(tgt_emb.shape[0])\n",
        "    ouput_decoder=self.transformer_decoder(tgt_emb,memory,mask_tgt)\n",
        "    ouput_decoder=ouput_decoder.transpose(1,0)\n",
        "    # print(\"ouput_decoder  : \"+str(ouput_decoder.shape))#[45, N, 40]\n",
        "    linear_decoder=self.fc2_linear(ouput_decoder)\n",
        "    # print(\"linear_decoder  : \"+str(linear_decoder.shape))#[45, N, 233]\n",
        "    \n",
        "   \n",
        "  \n",
        "    output_softmax = self.softmax_out(linear_decoder)\n",
        "    # print(\"output_softmax  : \"+str(output_softmax.shape))#[N, 45, 233]\n",
        "    \n",
        "    return  output_softmax \n",
        "\n",
        "  def memoria(self,x,wave_comple):\n",
        "    conv2d_embedding1 = self.conv2Dblock1(x) # x == N/batch * channel * freq * time\n",
        "    # print(\"conv2d_embedding1 : \"+str(conv2d_embedding1.shape))# [N, 4, 10, 215]\n",
        "    \n",
        "    conv2d_embedding1 = conv2d_embedding1.reshape(conv2d_embedding1.shape[0],-1,conv2d_embedding1.shape[-1]) #[n,40,215]\n",
        "    # print(\"conv2d_embedding1 Reshape : \"+str(conv2d_embedding1.shape))#[n,40,215]\n",
        "    ############ 2nd parallel Conv2D block: 4 Convolutional layers #############################\n",
        "    \n",
        "    conv2d_embedding2 = self.conv2Dblock2(x) # x == N/batch * channel * freq * time\n",
        "    # print(\"conv2d_embedding2 : \"+str(conv2d_embedding2.shape))# [N, 4, 10, 215]\n",
        "   \n",
        "    conv2d_embedding2 = conv2d_embedding2.reshape(conv2d_embedding2.shape[0],-1,conv2d_embedding2.shape[-1])#[n,40,215]\n",
        "    # print(\"conv2d_embedding2 Reshape : \"+str(conv2d_embedding2.shape))#[n,40,215]\n",
        "   \n",
        "    # x_maxpool = self.transformer_maxpool(x)\n",
        "    # print(\"x_maxpool  : \"+str(x_maxpool.shape))#[1, 1, 40, 430]\n",
        "    \n",
        "    x_maxpool_reduced = wave_comple\n",
        "    # print(\"wave 2 : \"+str(x_maxpool_reduced.shape))#[1, 40, 581]\n",
        "    \n",
        "    wave_comple = wave_comple.permute(2,0,1) \n",
        "    # print(\"x------>entrada Encoder : \"+str(wave_comple.shape))#[581, 1, 40]\n",
        "\n",
        "    transformer_output = self.transformer_encoder(wave_comple)\n",
        "    # print(\"salida  Encoder : \"+str(transformer_output.shape))#[581, 1, 40]\n",
        "    transformer_output=transformer_output.permute(1,2,0) #[1, 40, 581] \n",
        "    \n",
        "    #sumaTensores=conv2d_embedding1 + conv2d_embedding2 + transformer_output\n",
        "    sumaTensores=torch.cat((conv2d_embedding1, conv2d_embedding2, transformer_output), 2)\n",
        "    # print(\"sumaTensores : \"+str(sumaTensores.shape))#[1, 40, 1011]\n",
        "    entrada_Decoder=sumaTensores.permute(2,0,1)#[430,n,40]\n",
        "\n",
        "    # print(\"entrada_Decoder : \"+str(entrada_Decoder.shape))#[1011, 1, 40]\n",
        "    memory=self.positional_encoding(entrada_Decoder)\n",
        "    # print(\"memory positional  : \"+str(memory.shape))#[430,n,40]\n",
        "    return memory\n",
        "\n",
        "  def decoder(self,memory,partitura_tok):\n",
        "    partitura_tok=partitura_tok.transpose(1,0)#[1,45]\n",
        "    # print(\"partitura_tok  : \"+str(partitura_tok.shape))#[45, 1]\n",
        "    partitura_tok= self.tgt_tok_emb(partitura_tok)\n",
        "    # print(\"partitura_tok2  : \"+str(partitura_tok.shape))#[45, 1, 40]\n",
        "    tgt_emb = self.positional_encoding(partitura_tok)\n",
        "    # print(\"tgt_emb_positional  : \"+str(tgt_emb.shape))#[45, 1, 40]\n",
        "\n",
        "    mask_tgt=generate_square_subsequent_mask(tgt_emb.shape[0])\n",
        "    ouput_decoder=self.transformer_decoder(tgt_emb,memory,mask_tgt)\n",
        "   \n",
        "    return ouput_decoder\n",
        "  \n",
        "\n",
        "\n",
        "def generate_square_subsequent_mask(sz):\n",
        "    DEVICE = torch.device('cuda:0' if torch.cuda.is_available() else 'cpu')\n",
        "    mask = (torch.triu(torch.ones((sz, sz), device=DEVICE)) == 1).transpose(0, 1)\n",
        "    mask = mask.float().masked_fill(mask == 0, float('-inf')).masked_fill(mask == 1, float(0.0))\n",
        "    return mask"
      ],
      "execution_count": null,
      "outputs": []
    },
    {
      "cell_type": "code",
      "metadata": {
        "id": "kL4Klr8ek2e9"
      },
      "source": [
        "class TmusicTrasforms2(nn.Module):\n",
        "  def __init__(self,tgt_vocabulario,emb=40):\n",
        "    super().__init__() \n",
        "    \n",
        "    ################ TRANSFORMER BLOCK #############################\n",
        "    # maxpool the input feature map/tensor to the transformer \n",
        "    # a rectangular kernel worked better here for the rectangular input spectrogram feature map/tensor\n",
        "    self.transformer_maxpool = nn.MaxPool2d(kernel_size=[1,4], stride=[1,4])\n",
        "    \n",
        "    \n",
        "    self.tgt_tok_emb = TokenEmbedding(tgt_vocabulario, emb)\n",
        "    self.positional_encoding = PositionalEncoding(emb, dropout=0.1)\n",
        "    \n",
        "    transformer_layer = nn.TransformerEncoderLayer(\n",
        "        d_model=40, # input feature (frequency) dim after maxpooling 40*1723 -> 40*430 (MFC*time)\n",
        "        nhead=8, # 4 self-attention layers in each multi-head self-attention layer in each encoder block\n",
        "        dim_feedforward=512, # 2 linear layers in each encoder block's feedforward network: dim 40-->512--->40\n",
        "        dropout=0.4, \n",
        "        activation='relu' # ReLU: avoid saturation/tame gradient/reduce compute time\n",
        "    )\n",
        "    \n",
        "    self.transformer_encoder = nn.TransformerEncoder(transformer_layer, num_layers=6)\n",
        "    \n",
        "    transformer_decoder_layer=nn.TransformerDecoderLayer(\n",
        "        d_model=emb,\n",
        "        nhead=8,\n",
        "        dim_feedforward=512,\n",
        "        dropout=0.4,\n",
        "        activation='relu'\n",
        "    )\n",
        "    self.transformer_decoder=nn.TransformerDecoder(transformer_decoder_layer,num_layers=6)\n",
        "\n",
        "   \n",
        "\n",
        "   \n",
        "    \n",
        "    self.fc2_linear = nn.Linear(emb,tgt_vocabulario)\n",
        "    \n",
        "    \n",
        "    self.softmax_out = nn.Softmax(dim=2) # dim==1 is the freq embedding\n",
        "  \n",
        "  def forward(self,x,partitura_tok,wave_comple):\n",
        "    \n",
        "    x_maxpool_reduced = wave_comple\n",
        "    # print(\"wave 2 : \"+str(x_maxpool_reduced.shape))#[1, 40, 581]\n",
        "    \n",
        "    wave_comple = wave_comple.permute(2,0,1) \n",
        "    # print(\"x------>entrada Encoder : \"+str(wave_comple.shape))#[581, 1, 40]\n",
        "    wave_comple = self.positional_encoding(wave_comple)\n",
        "    transformer_output = self.transformer_encoder(wave_comple)\n",
        "    # print(\"salida  Encoder : \"+str(transformer_output.shape))#[581, 1, 40]\n",
        "    \n",
        "    \n",
        "    \n",
        "    \n",
        "\n",
        "   \n",
        "    memory=transformer_output\n",
        "    # print(\"memory positional  : \"+str(memory.shape))#[1011, 1, 40]\n",
        "\n",
        "    partitura_tok=partitura_tok.transpose(1,0)#[1,45]\n",
        "    # print(\"partitura_tok  : \"+str(partitura_tok.shape))#[45, 1]\n",
        "    partitura_tok= self.tgt_tok_emb(partitura_tok)\n",
        "    # print(\"partitura_tok2  : \"+str(partitura_tok.shape))#[45, 1, 40]\n",
        "    tgt_emb = self.positional_encoding(partitura_tok)\n",
        "    # print(\"tgt_emb_positional  : \"+str(tgt_emb.shape))#[45, 1, 40]\n",
        "\n",
        "    mask_tgt=generate_square_subsequent_mask(tgt_emb.shape[0])\n",
        "    ouput_decoder=self.transformer_decoder(tgt_emb,memory,mask_tgt)\n",
        "    ouput_decoder=ouput_decoder.transpose(1,0)\n",
        "    # print(\"ouput_decoder  : \"+str(ouput_decoder.shape))#[45, N, 40]\n",
        "    linear_decoder=self.fc2_linear(ouput_decoder)\n",
        "    # print(\"linear_decoder  : \"+str(linear_decoder.shape))#[45, N, 233]\n",
        "    \n",
        "   \n",
        "  \n",
        "    output_softmax = self.softmax_out(linear_decoder)\n",
        "    # print(\"output_softmax  : \"+str(output_softmax.shape))#[N, 45, 233]\n",
        "    \n",
        "    return  output_softmax \n",
        "\n",
        "  def memoria(self,x,wave_comple):\n",
        "    x_maxpool_reduced = wave_comple\n",
        "    print(\"wave 2 : \"+str(x_maxpool_reduced.shape))#[1, 40, 581]\n",
        "    \n",
        "    wave_comple = wave_comple.permute(2,0,1) \n",
        "    print(\"x------>entrada Encoder : \"+str(wave_comple.shape))#[581, 1, 40]\n",
        "\n",
        "    transformer_output = self.transformer_encoder(wave_comple)\n",
        "    print(\"salida  Encoder : \"+str(transformer_output.shape))#[581, 1, 40]\n",
        "    \n",
        "    \n",
        "    \n",
        "    \n",
        "\n",
        "   \n",
        "    memory=transformer_output\n",
        "    return memory\n",
        "\n",
        "  def decoder(self,memory,partitura_tok):\n",
        "    partitura_tok=partitura_tok.transpose(1,0)#[1,45]\n",
        "    # print(\"partitura_tok  : \"+str(partitura_tok.shape))#[45, 1]\n",
        "    partitura_tok= self.tgt_tok_emb(partitura_tok)\n",
        "    # print(\"partitura_tok2  : \"+str(partitura_tok.shape))#[45, 1, 40]\n",
        "    tgt_emb = self.positional_encoding(partitura_tok)\n",
        "    # print(\"tgt_emb_positional  : \"+str(tgt_emb.shape))#[45, 1, 40]\n",
        "\n",
        "    mask_tgt=generate_square_subsequent_mask(tgt_emb.shape[0])\n",
        "    ouput_decoder=self.transformer_decoder(tgt_emb,memory,mask_tgt)\n",
        "   \n",
        "    return ouput_decoder\n",
        "  \n",
        "\n",
        "\n",
        "def generate_square_subsequent_mask(sz):\n",
        "    DEVICE = torch.device('cuda:0' if torch.cuda.is_available() else 'cpu')\n",
        "    mask = (torch.triu(torch.ones((sz, sz), device=DEVICE)) == 1).transpose(0, 1)\n",
        "    mask = mask.float().masked_fill(mask == 0, float('-inf')).masked_fill(mask == 1, float(0.0))\n",
        "    return mask"
      ],
      "execution_count": null,
      "outputs": []
    },
    {
      "cell_type": "code",
      "metadata": {
        "id": "5oSvJLGhcYBI"
      },
      "source": [
        "class TmusicTrasforms3(nn.Module):\n",
        "  def __init__(self,tgt_vocabulario,emb=512):\n",
        "    super().__init__() \n",
        "    \n",
        "    ################ TRANSFORMER BLOCK #############################\n",
        "    # maxpool the input feature map/tensor to the transformer \n",
        "    # a rectangular kernel worked better here for the rectangular input spectrogram feature map/tensor\n",
        "    self.transformer_maxpool = nn.MaxPool2d(kernel_size=[1,4], stride=[1,4])\n",
        "    \n",
        "    \n",
        "    self.tgt_tok_emb = TokenEmbedding(tgt_vocabulario, emb)\n",
        "    self.entrada_emb = TokenEmbedding(64*26, emb)\n",
        "    self.positional_encoding = PositionalEncoding(emb, dropout=0.1)\n",
        "    \n",
        "    transformer_layer = nn.TransformerEncoderLayer(\n",
        "        d_model=emb, # input feature (frequency) dim after maxpooling 40*1723 -> 40*430 (MFC*time)\n",
        "        nhead=8, # 4 self-attention layers in each multi-head self-attention layer in each encoder block\n",
        "        dim_feedforward=512, # 2 linear layers in each encoder block's feedforward network: dim 40-->512--->40\n",
        "        dropout=0.4, \n",
        "        activation='relu' # ReLU: avoid saturation/tame gradient/reduce compute time\n",
        "    )\n",
        "    \n",
        "    self.transformer_encoder = nn.TransformerEncoder(transformer_layer, num_layers=6)\n",
        "    \n",
        "    transformer_decoder_layer=nn.TransformerDecoderLayer(\n",
        "        d_model=emb,\n",
        "        nhead=8,\n",
        "        dim_feedforward=512,\n",
        "        dropout=0.4,\n",
        "        activation='relu'\n",
        "    )\n",
        "    self.transformer_decoder=nn.TransformerDecoder(transformer_decoder_layer,num_layers=6)\n",
        "\n",
        "    ############### 1ST PARALLEL 2D CONVOLUTION BLOCK ############\n",
        "    # 3 sequential conv2D layers:  (1,40,1723) --> (8, 20, 861) -> (16, 4, 172) -> (32, 2, 86) -> (64,1,43)\n",
        "    self.conv2Dblock1 = nn.Sequential(\n",
        "        \n",
        "       # 1st 2D convolution layer\n",
        "            nn.Conv2d(\n",
        "                in_channels=1, # input volume depth == input channel dim == 1\n",
        "                out_channels=8, # expand output feature map volume's depth to 16\n",
        "                kernel_size=3, # typical 3*3 stride 1 kernel\n",
        "                stride=1,\n",
        "                padding=1\n",
        "                      ),\n",
        "            nn.BatchNorm2d(8), # batch normalize the output feature map before activation\n",
        "            nn.ReLU(), # feature map --> activation map\n",
        "            nn.MaxPool2d(kernel_size=2, stride=2), #typical maxpool kernel size\n",
        "            nn.Dropout(p=0.3), #randomly zero 30% of 1st layer's output feature map in training\n",
        "            \n",
        "            # 2nd 2D convolution layer identical to last except output dim, maxpool kernel\n",
        "            nn.Conv2d(\n",
        "                in_channels=8, \n",
        "                out_channels=16, # expand output feature map volume's depth to 32\n",
        "                kernel_size=3,\n",
        "                stride=1,\n",
        "                padding=1\n",
        "                      ),\n",
        "            nn.BatchNorm2d(16),\n",
        "            nn.ReLU(),\n",
        "            nn.MaxPool2d(kernel_size=4, stride=4), # increase maxpool kernel for subsequent filters\n",
        "            nn.Dropout(p=0.3), \n",
        "            \n",
        "            # 3rd 2D convolution layer identical to last except output dim\n",
        "            nn.Conv2d(\n",
        "                in_channels=16,\n",
        "                out_channels=32, # expand output feature map volume's depth to 64\n",
        "                kernel_size=3,\n",
        "                stride=1,\n",
        "                padding=1\n",
        "                      ),\n",
        "            nn.BatchNorm2d(32),\n",
        "            nn.ReLU(),\n",
        "            nn.MaxPool2d(kernel_size=4, stride=4),\n",
        "            nn.Dropout(p=0.3),\n",
        "\n",
        "       \n",
        "    )\n",
        "    \n",
        "\n",
        "   \n",
        "    \n",
        "    self.fc2_linear = nn.Linear(emb,tgt_vocabulario)\n",
        "    \n",
        "    \n",
        "    self.softmax_out = nn.Softmax(dim=2) # dim==1 is the freq embedding\n",
        "  \n",
        "  def forward(self,x,partitura_tok,wave_comple):\n",
        "    # print(\"x input : \"+str(x.shape))# (1,1,40,1723)\n",
        "    ############ 1st parallel Conv2D block: 4 Convolutional layers ############################\n",
        "    \n",
        "    conv2d_embedding1 = self.conv2Dblock1(x) # #[32,1,26]\n",
        "    # print(\"conv2d_embedding1 : \"+str(conv2d_embedding1.shape))# [N, 4, 10, 215]\n",
        "    \n",
        "    conv2d_embedding1 = torch.flatten(conv2d_embedding1, start_dim=1)  #[832]\n",
        "    \n",
        "    entrada_encoder = self.entrada_emb(conv2d_embedding1)\n",
        "   \n",
        "    # print(\"entrada_encoder  : \"+str(entrada_encoder.shape))#[n,832,512]\n",
        "    entrada_encoder=entrada_encoder.transpose(1,0)\n",
        "    # print(\"entrada_encoder  : \"+str(entrada_encoder.shape))\n",
        "    entrada_encoder=self.positional_encoding(entrada_encoder)\n",
        "    transformer_output = self.transformer_encoder(entrada_encoder)\n",
        "    # print(\"salida  Encoder : \"+str(transformer_output.shape))#[581, 1, 40]\n",
        "  \n",
        "    memory=transformer_output\n",
        "    # print(\"memory positional  : \"+str(memory.shape))#[1011, 1, 40]\n",
        "\n",
        "    partitura_tok=partitura_tok.transpose(1,0)#[1,45]\n",
        "    # print(\"partitura_tok  : \"+str(partitura_tok.shape))#[45, 1]\n",
        "    partitura_tok= self.tgt_tok_emb(partitura_tok)\n",
        "    # print(\"partitura_tok2  : \"+str(partitura_tok.shape))#[45, 1, 40]\n",
        "    tgt_emb = self.positional_encoding(partitura_tok)\n",
        "    # print(\"tgt_emb_positional  : \"+str(tgt_emb.shape))#[45, 1, 40]\n",
        "\n",
        "    mask_tgt=generate_square_subsequent_mask(tgt_emb.shape[0])\n",
        "    ouput_decoder=self.transformer_decoder(tgt_emb,memory,mask_tgt)\n",
        "    ouput_decoder=ouput_decoder.transpose(1,0)\n",
        "    # print(\"ouput_decoder  : \"+str(ouput_decoder.shape))#[45, N, 40]\n",
        "    linear_decoder=self.fc2_linear(ouput_decoder)\n",
        "    # print(\"linear_decoder  : \"+str(linear_decoder.shape))#[45, N, 233]\n",
        "    \n",
        "   \n",
        "  \n",
        "    output_softmax = self.softmax_out(linear_decoder)\n",
        "    # print(\"output_softmax  : \"+str(output_softmax.shape))#[N, 45, 233]\n",
        "    \n",
        "    return  output_softmax \n",
        "\n",
        "  def memoria(self,x,wave_comple):\n",
        "    conv2d_embedding1 = self.conv2Dblock1(x) # x == N/batch * channel * freq * time\n",
        "    # print(\"conv2d_embedding1 : \"+str(conv2d_embedding1.shape))# [N, 4, 10, 215]\n",
        "    \n",
        "    conv2d_embedding1 = conv2d_embedding1.reshape(conv2d_embedding1.shape[0],-1,conv2d_embedding1.shape[-1]) #[n,40,215]\n",
        "    # print(\"conv2d_embedding1 Reshape : \"+str(conv2d_embedding1.shape))#[n,40,215]\n",
        "    ############ 2nd parallel Conv2D block: 4 Convolutional layers #############################\n",
        "    \n",
        "    conv2d_embedding2 = self.conv2Dblock2(x) # x == N/batch * channel * freq * time\n",
        "    # print(\"conv2d_embedding2 : \"+str(conv2d_embedding2.shape))# [N, 4, 10, 215]\n",
        "   \n",
        "    conv2d_embedding2 = conv2d_embedding2.reshape(conv2d_embedding2.shape[0],-1,conv2d_embedding2.shape[-1])#[n,40,215]\n",
        "    # print(\"conv2d_embedding2 Reshape : \"+str(conv2d_embedding2.shape))#[n,40,215]\n",
        "   \n",
        "    # x_maxpool = self.transformer_maxpool(x)\n",
        "    # print(\"x_maxpool  : \"+str(x_maxpool.shape))#[1, 1, 40, 430]\n",
        "    \n",
        "    x_maxpool_reduced = wave_comple\n",
        "    # print(\"wave 2 : \"+str(x_maxpool_reduced.shape))#[1, 40, 581]\n",
        "    \n",
        "    wave_comple = wave_comple.permute(2,0,1) \n",
        "    # print(\"x------>entrada Encoder : \"+str(wave_comple.shape))#[581, 1, 40]\n",
        "\n",
        "    transformer_output = self.transformer_encoder(wave_comple)\n",
        "    # print(\"salida  Encoder : \"+str(transformer_output.shape))#[581, 1, 40]\n",
        "    transformer_output=transformer_output.permute(1,2,0) #[1, 40, 581] \n",
        "    \n",
        "    #sumaTensores=conv2d_embedding1 + conv2d_embedding2 + transformer_output\n",
        "    sumaTensores=torch.cat((conv2d_embedding1, conv2d_embedding2, transformer_output), 2)\n",
        "    # print(\"sumaTensores : \"+str(sumaTensores.shape))#[1, 40, 1011]\n",
        "    entrada_Decoder=sumaTensores.permute(2,0,1)#[430,n,40]\n",
        "\n",
        "    # print(\"entrada_Decoder : \"+str(entrada_Decoder.shape))#[1011, 1, 40]\n",
        "    memory=self.positional_encoding(entrada_Decoder)\n",
        "    # print(\"memory positional  : \"+str(memory.shape))#[430,n,40]\n",
        "    return memory\n",
        "\n",
        "  def decoder(self,memory,partitura_tok):\n",
        "    partitura_tok=partitura_tok.transpose(1,0)#[1,45]\n",
        "    # print(\"partitura_tok  : \"+str(partitura_tok.shape))#[45, 1]\n",
        "    partitura_tok= self.tgt_tok_emb(partitura_tok)\n",
        "    # print(\"partitura_tok2  : \"+str(partitura_tok.shape))#[45, 1, 40]\n",
        "    tgt_emb = self.positional_encoding(partitura_tok)\n",
        "    # print(\"tgt_emb_positional  : \"+str(tgt_emb.shape))#[45, 1, 40]\n",
        "\n",
        "    mask_tgt=generate_square_subsequent_mask(tgt_emb.shape[0])\n",
        "    ouput_decoder=self.transformer_decoder(tgt_emb,memory,mask_tgt)\n",
        "   \n",
        "    return ouput_decoder\n",
        "  \n",
        "\n",
        "\n",
        "def generate_square_subsequent_mask(sz):\n",
        "    DEVICE = torch.device('cuda:0' if torch.cuda.is_available() else 'cpu')\n",
        "    mask = (torch.triu(torch.ones((sz, sz), device=DEVICE)) == 1).transpose(0, 1)\n",
        "    mask = mask.float().masked_fill(mask == 0, float('-inf')).masked_fill(mask == 1, float(0.0))\n",
        "    return mask"
      ],
      "execution_count": null,
      "outputs": []
    },
    {
      "cell_type": "code",
      "metadata": {
        "id": "eMz699GqFy5J"
      },
      "source": [
        " from sklearn.metrics import precision_score, accuracy_score\n",
        "def make_train_step(model, criterion, optimizer):\n",
        "    \n",
        "  def train_step(espectro,wave_comple,partituraT,lenPartituras):\n",
        "    model.train() \n",
        "    \n",
        "    output_softmax = model(espectro,partituraT,wave_comple)\n",
        "    salida =output_softmax #[n,45,233]\n",
        "    output_softmax =output_softmax.transpose(0,1)#[45,N,233]\n",
        "\n",
        "    part_onehot=nn.functional.one_hot(partituraT, 233)\n",
        "    sumAcuraccy=0\n",
        "    for i in range(partituraT.shape[0]):\n",
        "      # predictions=torch.argmax(salida[i],dim=1)\n",
        "      # pred=predictions.detach().cpu().numpy()\n",
        "      # parti=partituraT[i].detach().cpu().numpy()\n",
        "      # acuraccy=precision_score(pred,parti,average='micro')\n",
        "      preds=np.argmax(salida[i].detach().cpu().numpy(), axis=1)\n",
        "      acuraccy_bin=accuracy_score(preds, partituraT[i].detach().cpu().numpy())\n",
        "      \n",
        "      # print(\"acuraccy :: \"+str(acuraccy))\n",
        "      \n",
        "      sumAcuraccy+=acuraccy_bin\n",
        "\n",
        "    sumAcuraccy=sumAcuraccy/salida.shape[0]\n",
        "    # print(\"acuraccy_bin: \"+str(sumAcuraccy))\n",
        "    \n",
        "   \n",
        "   \n",
        "    # print(\"partitura t :\"+str(partituraT[0].shape))\n",
        "    # print(\"predictions :\"+str(output_softmax[0].shape))\n",
        "    loss=criterion(output_softmax.reshape(-1, output_softmax.shape[-1]), partituraT.reshape(-1))\n",
        "  \n",
        "    loss.backward()\n",
        "    \n",
        "    optimizer.step()\n",
        "    \n",
        "    # zero out gradients for next pass\n",
        "    # pytorch accumulates gradients from backwards passes (convenient for RNNs)\n",
        "    optimizer.zero_grad() \n",
        "    # print('***************')\n",
        "    # print(loss)\n",
        "    return loss.item(),sumAcuraccy\n",
        "  return train_step"
      ],
      "execution_count": null,
      "outputs": []
    },
    {
      "cell_type": "code",
      "metadata": {
        "id": "dCyh-upyeh7G"
      },
      "source": [
        "def make_validate_fnc(model,criterion):\n",
        "  def validate(espectro,partituraT,lenPartituras,wave_comple2):\n",
        "      \n",
        "    # don't want to update any network parameters on validation passes: don't need gradient\n",
        "    # wrap in torch.no_grad to save memory and compute in validation phase: \n",
        "    with torch.no_grad(): \n",
        "        \n",
        "      # set model to validation phase i.e. turn off dropout and batchnorm layers \n",
        "      model.eval()\n",
        "\n",
        "      output_softmax = model(espectro,partituraT,wave_comple2)\n",
        "      salida =output_softmax #[n,45,233]\n",
        "      output_softmax =output_softmax.transpose(0,1)#[45,N,233]\n",
        "   \n",
        "    part_onehot=nn.functional.one_hot(partituraT, 233)\n",
        "    sumAcuraccy=0\n",
        "    for i in range(partituraT.shape[0]):\n",
        "      preds=np.argmax(salida[i].detach().cpu().numpy(), axis=1)\n",
        "      acuraccy_bin=accuracy_score(preds, partituraT[i].detach().cpu().numpy())\n",
        "      \n",
        "      # print(\"acuraccy :: \"+str(acuraccy))\n",
        "      \n",
        "      sumAcuraccy+=acuraccy_bin\n",
        "\n",
        "    sumAcuraccy=sumAcuraccy/salida.shape[0]\n",
        "    # print(\"acuraccy_VAL: \"+str(sumAcuraccy))\n",
        "    \n",
        "    loss=criterion(output_softmax.reshape(-1, output_softmax.shape[-1]), partituraT.reshape(-1))\n",
        "    # print('*************** EVAL ')\n",
        "    # print(loss)\n",
        "    return loss.item(),sumAcuraccy\n",
        "  return validate"
      ],
      "execution_count": null,
      "outputs": []
    },
    {
      "cell_type": "code",
      "metadata": {
        "id": "w2rD88zEgdQK"
      },
      "source": [
        "def make_save_checkpoint(): \n",
        "  def save_checkpoint(optimizer, model, epoch, filename):\n",
        "    checkpoint_dict = {\n",
        "        'optimizer': optimizer.state_dict(),\n",
        "        'model': model.state_dict(),\n",
        "        'epoch': epoch\n",
        "    }\n",
        "    torch.save(checkpoint_dict, filename)\n",
        "  return save_checkpoint\n",
        "\n",
        "def load_checkpoint(optimizer, model, filename):\n",
        "  checkpoint_dict = torch.load(filename)\n",
        "  epoch = checkpoint_dict['epoch']\n",
        "  model.load_state_dict(checkpoint_dict['model'])\n",
        "  if optimizer is not None:\n",
        "    optimizer.load_state_dict(checkpoint_dict['optimizer'])\n",
        "  return epoch,model\n",
        "\n",
        "def load_model_predic(filename,model,device):\n",
        "  checkpoint_dict = torch.load(filename,map_location=device)\n",
        "  model.load_state_dict(checkpoint_dict['model'])\n",
        "  return model"
      ],
      "execution_count": null,
      "outputs": []
    },
    {
      "cell_type": "code",
      "metadata": {
        "id": "HHuNJNJqpzjd"
      },
      "source": [
        "#hiperparametros\n",
        "batch_size=2\n",
        "inicio_EPOCH='900'\n",
        "final_EPOCH=1100\n",
        "tgt_vocabulario=len(vocabPart)\n",
        "SAVE_STEP=20\n",
        "cargado=True"
      ],
      "execution_count": null,
      "outputs": []
    },
    {
      "cell_type": "code",
      "metadata": {
        "id": "AohCzU_3v6oD"
      },
      "source": [
        "from preprocess import collate_fn_nuevo, obtenerDatos\n",
        "from tensorboardX import SummaryWriter\n",
        "from tqdm import tqdm\n",
        "from torch.utils.data import  DataLoader"
      ],
      "execution_count": null,
      "outputs": []
    },
    {
      "cell_type": "code",
      "metadata": {
        "colab": {
          "base_uri": "https://localhost:8080/"
        },
        "id": "LwRVQ_RHh_ox",
        "outputId": "7663a75d-f201-421e-b848-cdd9ef8b9c02"
      },
      "source": [
        "\n",
        "\n",
        "\n",
        "\n",
        "# set device to GPU\n",
        "device = torch.device('cuda:0' if torch.cuda.is_available() else 'cpu')\n",
        "print(f'{device} selected')\n",
        "\n",
        "# instantiate model and move to GPU for training\n",
        "model=TmusicTrasforms3(tgt_vocabulario=tgt_vocabulario)\n",
        "model=model.to(device)\n",
        "print('Numero de parametros entrenable: ',sum(p.numel() for p in model.parameters()) )\n",
        "\n",
        "\n",
        "optimizer = torch.optim.Adam(model.parameters(), lr=0.0001, betas=(0.9, 0.98), eps=1e-9)\n",
        "criterion = torch.nn.CrossEntropyLoss(ignore_index=0)\n",
        "\n",
        "criterion = criterion.to(device)\n",
        "\n",
        "save_checkpoint = make_save_checkpoint()\n",
        "\n",
        "\n",
        "train_step = make_train_step(model, criterion, optimizer=optimizer)\n",
        "\n",
        "\n",
        "validate = make_validate_fnc(model,criterion)\n",
        "\n",
        "if cargado:\n",
        "  inicio_EPOCH,model =load_checkpoint(optimizer,model,f\"../checkpoint/forma4/transMusica-{inicio_EPOCH}.pkl\")\n",
        "else:\n",
        "  inicio_EPOCH=0\n",
        "\n",
        "def train(inicio_EPOCH,num_epochs,model):\n",
        "  device = torch.device('cuda:0' if torch.cuda.is_available() else 'cpu')\n",
        "  dataset_train =obtenerDatos(pathPartituras='../datos2/partituras',pathVocabulario='../datos2/vocabulario2.json',\n",
        "                          pathArchivoNPY='../datos2/archivosnumpy/train_audio_nombre.npy',pathcomple='../datos2/archivosnumpy/train_sinrecorte.npy')\n",
        "    \n",
        "  dataset_valid =obtenerDatos(pathPartituras='../datos2/partituras',pathVocabulario='../datos2/vocabulario2.json',\n",
        "                          pathArchivoNPY='../datos2/archivosnumpy/valid_audio_nombre.npy',pathcomple='../datos2/archivosnumpy/valid_sinrecorte.npy')\n",
        "  writer = SummaryWriter(\"runs/forma4\")\n",
        "  dataloader_train = DataLoader(dataset_train, batch_size=1, collate_fn=collate_fn_nuevo ,shuffle=True)\n",
        "  dataloader_valid = DataLoader(dataset_valid, batch_size=1, collate_fn=collate_fn_nuevo ,shuffle=True)\n",
        "  estep=0\n",
        "  for epoch in range(inicio_EPOCH,num_epochs+1):      \n",
        "    estep+=1\n",
        "    pbar_train = tqdm(dataloader_train)\n",
        "    pbar_valid = tqdm(dataloader_valid)\n",
        "    loss_train=[]\n",
        "    acuraccy_train=[]\n",
        "    loss_valid=[]\n",
        "    acuraccy_valid=[]\n",
        "    for i, data in enumerate(pbar_train):\n",
        "      pbar_train.set_description(\"Procesos train : %d\"%epoch)\n",
        "      partitura_tokenizada,wave_mfcc,len_partitura ,wave_comple= data\n",
        "      # print(wave_mfcc.type())\n",
        "      partitura_tokenizada = partitura_tokenizada.to(device)\n",
        "      # wave_mfcc=wave_mfcc.float()\n",
        "      wave_mfcc = wave_mfcc.to(device)\n",
        "      wave_comple=wave_comple.to(device)\n",
        "      \n",
        "      loss,acuraccy= train_step(wave_mfcc,wave_comple,partitura_tokenizada,len_partitura)\n",
        "      # print(\"loss :\"+str(loss))\n",
        "      # print('////////////////')\n",
        "      loss_train.append(loss)\n",
        "      acuraccy_train.append(acuraccy)\n",
        "      \n",
        "      if estep==1:\n",
        "        writer.add_graph(model ,input_to_model=[wave_mfcc,partitura_tokenizada,wave_comple])\n",
        "\n",
        "    for i, data2 in enumerate(pbar_valid):   \n",
        "      # pbar_valid.set_description(\"Procesos Valid : %d\"%epoch)s\n",
        "      partitura_tokenizada2,wave_mfcc2,len_partitura2,wave_comple2 = data2\n",
        "      partitura_tokenizada2=partitura_tokenizada2.to(device)\n",
        "      # wave_mfcc=wave_mfcc.float()\n",
        "      wave_mfcc2=wave_mfcc2.to(device)\n",
        "      wave_comple2=wave_comple2.to(device)\n",
        "      len_partitura2=len_partitura2.to(device)\n",
        "\n",
        "      loss_val2,acuraccy_val2=validate(wave_mfcc2,partitura_tokenizada2,len_partitura2,wave_comple2)\n",
        "      loss_valid.append(loss_val2)\n",
        "      # print(loss_val2)\n",
        "      # print('////////////////')\n",
        "      acuraccy_valid.append(acuraccy_val2)\n",
        "      \n",
        "\n",
        "    final_loss_train=sum(loss_train)/len(loss_train)\n",
        "    final_acuraccy_train=(sum(acuraccy_train)/len(acuraccy_train))*100\n",
        "    final_loss_valid=sum(loss_valid)/len(loss_valid)\n",
        "    final_acuraccy_valid=(sum(acuraccy_valid)/len(acuraccy_valid))*100\n",
        "    writer.add_scalar(\"loss_train :\",final_loss_train ,epoch)\n",
        "    writer.add_scalar(\"acuraccy_train :\",final_acuraccy_train ,epoch)\n",
        "    writer.add_scalar(\"loss_valid :\",final_loss_valid ,epoch)\n",
        "    writer.add_scalar(\"acuraccy_valid :\",final_acuraccy_valid ,epoch)\n",
        "\n",
        "    if epoch % SAVE_STEP==0:\n",
        "      checkpoint_filename = '../checkpoint/forma4/transMusica-{:03d}.pkl'.format(epoch)\n",
        "      save_checkpoint(optimizer, model, epoch, checkpoint_filename)\n",
        "    \n",
        "    print('loss_train: '+str(final_loss_train)+', loss_valid: '+str(final_loss_valid)+' , acuraccy_train: '+str(final_acuraccy_train)+', acuraccy_valid:'+str(final_acuraccy_valid))\n",
        "  writer.close()   \n",
        "    \n"
      ],
      "execution_count": null,
      "outputs": [
        {
          "output_type": "stream",
          "text": [
            "cuda:0 selected\n",
            "Numero de parametros entrenable:  26342489\n"
          ],
          "name": "stdout"
        }
      ]
    },
    {
      "cell_type": "code",
      "metadata": {
        "id": "ERVjPio-vor8"
      },
      "source": [
        "\n",
        "\n",
        "\n",
        "for p in model.parameters():\n",
        "    if p.dim() > 1:\n",
        "        nn.init.xavier_uniform_(p)"
      ],
      "execution_count": null,
      "outputs": []
    },
    {
      "cell_type": "code",
      "metadata": {
        "id": "y_LHhQRGL2Xz",
        "colab": {
          "base_uri": "https://localhost:8080/"
        },
        "outputId": "69789c0c-a62e-4b7d-88a4-1939951df59e"
      },
      "source": [
        "train(inicio_EPOCH,final_EPOCH,model)"
      ],
      "execution_count": null,
      "outputs": [
        {
          "output_type": "stream",
          "text": [
            "  0%|          | 0/300 [00:00<?, ?it/s]\n",
            "Procesos train : 900:   0%|          | 0/300 [00:07<?, ?it/s]/usr/local/lib/python3.7/dist-packages/torch/nn/functional.py:718: UserWarning: Named tensors and all their associated APIs are an experimental feature and subject to change. Please do not use them for anything important until they are released as stable. (Triggered internally at  /pytorch/c10/core/TensorImpl.h:1156.)\n",
            "  return torch.max_pool2d(input, kernel_size, stride, padding, dilation, ceil_mode)\n",
            "Procesos train : 900: 100%|██████████| 300/300 [11:03<00:00,  2.06s/it]\n",
            "Procesos train : 900: 100%|██████████| 300/300 [11:03<00:00,  2.21s/it]\n",
            "100%|██████████| 90/90 [11:38<00:00,  7.77s/it]\n",
            "  0%|          | 0/300 [00:00<?, ?it/s]\n",
            "Procesos train : 901:   1%|          | 2/300 [00:00<00:18, 16.49it/s]"
          ],
          "name": "stderr"
        },
        {
          "output_type": "stream",
          "text": [
            "loss_train: 5.396339888572693, loss_valid: 5.368678914176093 , acuraccy_train: 6.275912082556336, acuraccy_valid:8.970859892431665\n"
          ],
          "name": "stdout"
        },
        {
          "output_type": "stream",
          "text": [
            "Procesos train : 901: 100%|██████████| 300/300 [00:16<00:00, 18.52it/s]\n",
            "Procesos train : 901: 100%|██████████| 300/300 [00:16<00:00, 17.91it/s]\n",
            "100%|██████████| 90/90 [00:18<00:00,  4.81it/s]\n",
            "  0%|          | 0/300 [00:00<?, ?it/s]\n",
            "Procesos train : 902:   1%|          | 2/300 [00:00<00:17, 17.39it/s]"
          ],
          "name": "stderr"
        },
        {
          "output_type": "stream",
          "text": [
            "loss_train: 5.39378766854604, loss_valid: 5.368678914176093 , acuraccy_train: 6.460113160839047, acuraccy_valid:8.970859892431664\n"
          ],
          "name": "stdout"
        },
        {
          "output_type": "stream",
          "text": [
            "Procesos train : 902: 100%|██████████| 300/300 [00:16<00:00, 18.60it/s]\n",
            "Procesos train : 902: 100%|██████████| 300/300 [00:16<00:00, 17.95it/s]\n",
            "100%|██████████| 90/90 [00:18<00:00,  4.82it/s]\n",
            "  0%|          | 0/300 [00:00<?, ?it/s]\n",
            "Procesos train : 903:   1%|          | 2/300 [00:00<00:17, 17.49it/s]"
          ],
          "name": "stderr"
        },
        {
          "output_type": "stream",
          "text": [
            "loss_train: 5.393786141077677, loss_valid: 5.368678914176093 , acuraccy_train: 6.4601131608390485, acuraccy_valid:8.970859892431662\n"
          ],
          "name": "stdout"
        },
        {
          "output_type": "stream",
          "text": [
            "Procesos train : 903: 100%|██████████| 300/300 [00:17<00:00, 17.97it/s]\n",
            "Procesos train : 903: 100%|██████████| 300/300 [00:17<00:00, 17.35it/s]\n",
            "100%|██████████| 90/90 [00:19<00:00,  4.66it/s]\n",
            "  0%|          | 0/300 [00:00<?, ?it/s]\n",
            "Procesos train : 904:   1%|          | 2/300 [00:00<00:17, 17.26it/s]"
          ],
          "name": "stderr"
        },
        {
          "output_type": "stream",
          "text": [
            "loss_train: 5.39378608862559, loss_valid: 5.368678914176093 , acuraccy_train: 6.4601131608390565, acuraccy_valid:8.970859892431665\n"
          ],
          "name": "stdout"
        },
        {
          "output_type": "stream",
          "text": [
            "Procesos train : 904: 100%|██████████| 300/300 [00:16<00:00, 16.11it/s]\n",
            "Procesos train : 904: 100%|██████████| 300/300 [00:16<00:00, 17.77it/s]\n",
            "100%|██████████| 90/90 [00:18<00:00,  4.78it/s]\n",
            "  0%|          | 0/300 [00:00<?, ?it/s]\n",
            "Procesos train : 905:   1%|          | 2/300 [00:00<00:16, 17.69it/s]"
          ],
          "name": "stderr"
        },
        {
          "output_type": "stream",
          "text": [
            "loss_train: 5.393786093393961, loss_valid: 5.368678914176093 , acuraccy_train: 6.460113160839049, acuraccy_valid:8.970859892431665\n"
          ],
          "name": "stdout"
        },
        {
          "output_type": "stream",
          "text": [
            "Procesos train : 905: 100%|██████████| 300/300 [00:16<00:00, 18.40it/s]\n",
            "Procesos train : 905: 100%|██████████| 300/300 [00:16<00:00, 18.43it/s]\n",
            "100%|██████████| 90/90 [00:18<00:00,  4.94it/s]\n",
            "  0%|          | 0/300 [00:00<?, ?it/s]\n",
            "Procesos train : 906:   1%|          | 2/300 [00:00<00:16, 18.03it/s]"
          ],
          "name": "stderr"
        },
        {
          "output_type": "stream",
          "text": [
            "loss_train: 5.393786094983419, loss_valid: 5.368678914176093 , acuraccy_train: 6.460113160839051, acuraccy_valid:8.970859892431662\n"
          ],
          "name": "stdout"
        },
        {
          "output_type": "stream",
          "text": [
            "Procesos train : 906: 100%|██████████| 300/300 [00:16<00:00, 17.98it/s]\n",
            "Procesos train : 906: 100%|██████████| 300/300 [00:16<00:00, 17.68it/s]\n",
            "100%|██████████| 90/90 [00:18<00:00,  4.74it/s]\n",
            "  0%|          | 0/300 [00:00<?, ?it/s]\n",
            "Procesos train : 907:   1%|          | 2/300 [00:00<00:16, 17.72it/s]"
          ],
          "name": "stderr"
        },
        {
          "output_type": "stream",
          "text": [
            "loss_train: 5.393786093393961, loss_valid: 5.368678914176093 , acuraccy_train: 6.4601131608390485, acuraccy_valid:8.970859892431665\n"
          ],
          "name": "stdout"
        },
        {
          "output_type": "stream",
          "text": [
            "Procesos train : 907: 100%|██████████| 300/300 [00:17<00:00, 17.84it/s]\n",
            "Procesos train : 907: 100%|██████████| 300/300 [00:17<00:00, 17.28it/s]\n",
            "100%|██████████| 90/90 [00:19<00:00,  4.65it/s]\n",
            "  0%|          | 0/300 [00:00<?, ?it/s]\n",
            "Procesos train : 908:   1%|          | 2/300 [00:00<00:17, 16.91it/s]"
          ],
          "name": "stderr"
        },
        {
          "output_type": "stream",
          "text": [
            "loss_train: 5.39378608862559, loss_valid: 5.368678914176093 , acuraccy_train: 6.4601131608390485, acuraccy_valid:8.970859892431664\n"
          ],
          "name": "stdout"
        },
        {
          "output_type": "stream",
          "text": [
            "Procesos train : 908: 100%|██████████| 300/300 [00:17<00:00, 17.69it/s]\n",
            "Procesos train : 908: 100%|██████████| 300/300 [00:17<00:00, 17.42it/s]\n",
            "100%|██████████| 90/90 [00:19<00:00,  4.68it/s]\n",
            "  0%|          | 0/300 [00:00<?, ?it/s]\n",
            "Procesos train : 909:   1%|          | 2/300 [00:00<00:17, 16.81it/s]"
          ],
          "name": "stderr"
        },
        {
          "output_type": "stream",
          "text": [
            "loss_train: 5.393786096572876, loss_valid: 5.368678914176093 , acuraccy_train: 6.460113160839049, acuraccy_valid:8.970859892431662\n"
          ],
          "name": "stdout"
        },
        {
          "output_type": "stream",
          "text": [
            "Procesos train : 909: 100%|██████████| 300/300 [00:16<00:00, 18.28it/s]\n",
            "Procesos train : 909: 100%|██████████| 300/300 [00:16<00:00, 18.01it/s]\n",
            "100%|██████████| 90/90 [00:19<00:00,  4.72it/s]\n",
            "  0%|          | 0/300 [00:00<?, ?it/s]\n",
            "Procesos train : 910:   1%|          | 2/300 [00:00<00:17, 17.35it/s]"
          ],
          "name": "stderr"
        },
        {
          "output_type": "stream",
          "text": [
            "loss_train: 5.393786090215047, loss_valid: 5.368678914176093 , acuraccy_train: 6.460113160839049, acuraccy_valid:8.970859892431664\n"
          ],
          "name": "stdout"
        },
        {
          "output_type": "stream",
          "text": [
            "Procesos train : 910: 100%|██████████| 300/300 [00:16<00:00, 18.57it/s]\n",
            "Procesos train : 910: 100%|██████████| 300/300 [00:16<00:00, 18.41it/s]\n",
            "100%|██████████| 90/90 [00:18<00:00,  4.93it/s]\n",
            "  0%|          | 0/300 [00:00<?, ?it/s]\n",
            "Procesos train : 911:   1%|          | 2/300 [00:00<00:16, 17.59it/s]"
          ],
          "name": "stderr"
        },
        {
          "output_type": "stream",
          "text": [
            "loss_train: 5.393786091804504, loss_valid: 5.368678914176093 , acuraccy_train: 6.460113160839052, acuraccy_valid:8.970859892431664\n"
          ],
          "name": "stdout"
        },
        {
          "output_type": "stream",
          "text": [
            "Procesos train : 911: 100%|██████████| 300/300 [00:16<00:00, 17.99it/s]\n",
            "Procesos train : 911: 100%|██████████| 300/300 [00:16<00:00, 17.82it/s]\n",
            "100%|██████████| 90/90 [00:18<00:00,  4.77it/s]\n",
            "  0%|          | 0/300 [00:00<?, ?it/s]\n",
            "Procesos train : 912:   1%|          | 2/300 [00:00<00:18, 16.30it/s]"
          ],
          "name": "stderr"
        },
        {
          "output_type": "stream",
          "text": [
            "loss_train: 5.39378608862559, loss_valid: 5.368678914176093 , acuraccy_train: 6.460113160839051, acuraccy_valid:8.970859892431665\n"
          ],
          "name": "stdout"
        },
        {
          "output_type": "stream",
          "text": [
            "Procesos train : 912: 100%|██████████| 300/300 [00:17<00:00, 17.79it/s]\n",
            "Procesos train : 912: 100%|██████████| 300/300 [00:17<00:00, 17.33it/s]\n",
            "100%|██████████| 90/90 [00:19<00:00,  4.66it/s]\n",
            "  0%|          | 0/300 [00:00<?, ?it/s]\n",
            "Procesos train : 913:   1%|          | 2/300 [00:00<00:17, 17.04it/s]"
          ],
          "name": "stderr"
        },
        {
          "output_type": "stream",
          "text": [
            "loss_train: 5.393786096572876, loss_valid: 5.368678914176093 , acuraccy_train: 6.4601131608390485, acuraccy_valid:8.970859892431662\n"
          ],
          "name": "stdout"
        },
        {
          "output_type": "stream",
          "text": [
            "Procesos train : 913: 100%|██████████| 300/300 [00:16<00:00, 18.12it/s]\n",
            "Procesos train : 913: 100%|██████████| 300/300 [00:16<00:00, 17.93it/s]\n",
            "100%|██████████| 90/90 [00:18<00:00,  4.82it/s]\n",
            "  0%|          | 0/300 [00:00<?, ?it/s]\n",
            "Procesos train : 914:   1%|          | 2/300 [00:00<00:17, 17.48it/s]"
          ],
          "name": "stderr"
        },
        {
          "output_type": "stream",
          "text": [
            "loss_train: 5.393786094983419, loss_valid: 5.368678914176093 , acuraccy_train: 6.460113160839052, acuraccy_valid:8.970859892431664\n"
          ],
          "name": "stdout"
        },
        {
          "output_type": "stream",
          "text": [
            "Procesos train : 914: 100%|██████████| 300/300 [00:16<00:00, 18.41it/s]\n",
            "Procesos train : 914: 100%|██████████| 300/300 [00:16<00:00, 18.24it/s]\n",
            "100%|██████████| 90/90 [00:18<00:00,  4.89it/s]\n",
            "  0%|          | 0/300 [00:00<?, ?it/s]\n",
            "Procesos train : 915:   1%|          | 2/300 [00:00<00:16, 17.96it/s]"
          ],
          "name": "stderr"
        },
        {
          "output_type": "stream",
          "text": [
            "loss_train: 5.393786094983419, loss_valid: 5.368678914176093 , acuraccy_train: 6.460113160839054, acuraccy_valid:8.970859892431665\n"
          ],
          "name": "stdout"
        },
        {
          "output_type": "stream",
          "text": [
            "Procesos train : 915: 100%|██████████| 300/300 [00:17<00:00, 17.38it/s]\n",
            "Procesos train : 915: 100%|██████████| 300/300 [00:17<00:00, 17.14it/s]\n",
            "100%|██████████| 90/90 [00:19<00:00,  4.60it/s]\n",
            "  0%|          | 0/300 [00:00<?, ?it/s]\n",
            "Procesos train : 916:   1%|          | 2/300 [00:00<00:17, 16.79it/s]"
          ],
          "name": "stderr"
        },
        {
          "output_type": "stream",
          "text": [
            "loss_train: 5.393788688977559, loss_valid: 5.368678914176093 , acuraccy_train: 6.460113160839052, acuraccy_valid:8.970859892431664\n"
          ],
          "name": "stdout"
        },
        {
          "output_type": "stream",
          "text": [
            "Procesos train : 916: 100%|██████████| 300/300 [00:17<00:00, 17.95it/s]\n",
            "Procesos train : 916: 100%|██████████| 300/300 [00:17<00:00, 17.16it/s]\n",
            "100%|██████████| 90/90 [00:19<00:00,  4.62it/s]\n",
            "  0%|          | 0/300 [00:00<?, ?it/s]\n",
            "Procesos train : 917:   1%|          | 2/300 [00:00<00:17, 17.07it/s]"
          ],
          "name": "stderr"
        },
        {
          "output_type": "stream",
          "text": [
            "loss_train: 5.3701507266362505, loss_valid: 5.32854864332411 , acuraccy_train: 8.81743501447964, acuraccy_valid:12.976202007293352\n"
          ],
          "name": "stdout"
        },
        {
          "output_type": "stream",
          "text": [
            "Procesos train : 917: 100%|██████████| 300/300 [00:17<00:00, 18.04it/s]\n",
            "Procesos train : 917: 100%|██████████| 300/300 [00:17<00:00, 17.40it/s]\n",
            "100%|██████████| 90/90 [00:19<00:00,  4.68it/s]\n",
            "  0%|          | 0/300 [00:00<?, ?it/s]\n",
            "Procesos train : 918:   1%|          | 2/300 [00:00<00:16, 17.60it/s]"
          ],
          "name": "stderr"
        },
        {
          "output_type": "stream",
          "text": [
            "loss_train: 5.333706467946371, loss_valid: 5.327250470055474 , acuraccy_train: 12.506363693575576, acuraccy_valid:13.081023810228363\n"
          ],
          "name": "stdout"
        },
        {
          "output_type": "stream",
          "text": [
            "Procesos train : 918: 100%|██████████| 300/300 [00:16<00:00, 17.66it/s]\n",
            "Procesos train : 918: 100%|██████████| 300/300 [00:16<00:00, 18.03it/s]\n",
            "100%|██████████| 90/90 [00:18<00:00,  4.82it/s]\n",
            "  0%|          | 0/300 [00:00<?, ?it/s]\n",
            "Procesos train : 919:   1%|          | 2/300 [00:00<00:17, 17.29it/s]"
          ],
          "name": "stderr"
        },
        {
          "output_type": "stream",
          "text": [
            "loss_train: 5.408124613761902, loss_valid: 5.427235762278239 , acuraccy_train: 5.030431604882093, acuraccy_valid:3.115163373928259\n"
          ],
          "name": "stdout"
        },
        {
          "output_type": "stream",
          "text": [
            "Procesos train : 919: 100%|██████████| 300/300 [00:17<00:00, 17.61it/s]\n",
            "Procesos train : 919: 100%|██████████| 300/300 [00:17<00:00, 17.33it/s]\n",
            "100%|██████████| 90/90 [00:19<00:00,  4.66it/s]\n",
            "  0%|          | 0/300 [00:00<?, ?it/s]\n",
            "Procesos train : 920:   1%|          | 2/300 [00:00<00:16, 18.00it/s]"
          ],
          "name": "stderr"
        },
        {
          "output_type": "stream",
          "text": [
            "loss_train: 5.411060770352681, loss_valid: 5.4272356033325195 , acuraccy_train: 4.746450509550312, acuraccy_valid:3.1151633739282594\n"
          ],
          "name": "stdout"
        },
        {
          "output_type": "stream",
          "text": [
            "Procesos train : 920: 100%|██████████| 300/300 [00:16<00:00, 18.44it/s]\n",
            "Procesos train : 920: 100%|██████████| 300/300 [00:16<00:00, 17.85it/s]\n",
            "100%|██████████| 90/90 [00:18<00:00,  4.80it/s]\n",
            "  0%|          | 0/300 [00:00<?, ?it/s]\n",
            "Procesos train : 921:   1%|          | 2/300 [00:00<00:17, 16.78it/s]"
          ],
          "name": "stderr"
        },
        {
          "output_type": "stream",
          "text": [
            "loss_train: 5.383498020172119, loss_valid: 5.328625520070394 , acuraccy_train: 7.481858948961999, acuraccy_valid:12.976202007293352\n"
          ],
          "name": "stdout"
        },
        {
          "output_type": "stream",
          "text": [
            "Procesos train : 921: 100%|██████████| 300/300 [00:17<00:00, 18.45it/s]\n",
            "Procesos train : 921: 100%|██████████| 300/300 [00:17<00:00, 17.42it/s]\n",
            "100%|██████████| 90/90 [00:19<00:00,  4.70it/s]\n",
            "  0%|          | 0/300 [00:00<?, ?it/s]\n",
            "Procesos train : 922:   1%|          | 2/300 [00:00<00:17, 17.19it/s]"
          ],
          "name": "stderr"
        },
        {
          "output_type": "stream",
          "text": [
            "loss_train: 5.331338132222493, loss_valid: 5.318590630425347 , acuraccy_train: 12.715525851815576, acuraccy_valid:12.976202007293352\n"
          ],
          "name": "stdout"
        },
        {
          "output_type": "stream",
          "text": [
            "Procesos train : 922: 100%|██████████| 300/300 [00:16<00:00, 17.70it/s]\n",
            "Procesos train : 922: 100%|██████████| 300/300 [00:16<00:00, 17.89it/s]\n",
            "100%|██████████| 90/90 [00:19<00:00,  4.67it/s]\n",
            "  0%|          | 0/300 [00:00<?, ?it/s]\n",
            "Procesos train : 923:   1%|          | 2/300 [00:00<00:18, 16.26it/s]"
          ],
          "name": "stderr"
        },
        {
          "output_type": "stream",
          "text": [
            "loss_train: 5.325662417411804, loss_valid: 5.313476986355251 , acuraccy_train: 13.370115396385685, acuraccy_valid:14.49385011006998\n"
          ],
          "name": "stdout"
        },
        {
          "output_type": "stream",
          "text": [
            "Procesos train : 923: 100%|██████████| 300/300 [00:16<00:00, 18.28it/s]\n",
            "Procesos train : 923: 100%|██████████| 300/300 [00:16<00:00, 18.10it/s]\n",
            "100%|██████████| 90/90 [00:18<00:00,  4.85it/s]\n",
            "  0%|          | 0/300 [00:00<?, ?it/s]\n",
            "Procesos train : 924:   1%|          | 2/300 [00:00<00:17, 16.95it/s]"
          ],
          "name": "stderr"
        },
        {
          "output_type": "stream",
          "text": [
            "loss_train: 5.313257624308268, loss_valid: 5.31715276506212 , acuraccy_train: 14.526401059523932, acuraccy_valid:14.123479739699599\n"
          ],
          "name": "stdout"
        },
        {
          "output_type": "stream",
          "text": [
            "Procesos train : 924: 100%|██████████| 300/300 [00:16<00:00, 18.44it/s]\n",
            "Procesos train : 924: 100%|██████████| 300/300 [00:16<00:00, 17.87it/s]\n",
            "100%|██████████| 90/90 [00:18<00:00,  4.80it/s]\n",
            "  0%|          | 0/300 [00:00<?, ?it/s]\n",
            "Procesos train : 925:   1%|          | 2/300 [00:00<00:16, 17.78it/s]"
          ],
          "name": "stderr"
        },
        {
          "output_type": "stream",
          "text": [
            "loss_train: 5.31330892086029, loss_valid: 5.31715276506212 , acuraccy_train: 14.508949251214409, acuraccy_valid:14.123479739699599\n"
          ],
          "name": "stdout"
        },
        {
          "output_type": "stream",
          "text": [
            "Procesos train : 925: 100%|██████████| 300/300 [00:17<00:00, 17.70it/s]\n",
            "Procesos train : 925: 100%|██████████| 300/300 [00:17<00:00, 17.57it/s]\n",
            "100%|██████████| 90/90 [00:19<00:00,  4.71it/s]\n",
            "  0%|          | 0/300 [00:00<?, ?it/s]\n",
            "Procesos train : 926:   1%|          | 2/300 [00:00<00:17, 16.74it/s]"
          ],
          "name": "stderr"
        },
        {
          "output_type": "stream",
          "text": [
            "loss_train: 5.313933857282003, loss_valid: 5.31715276506212 , acuraccy_train: 14.446936670391974, acuraccy_valid:14.123479739699599\n"
          ],
          "name": "stdout"
        },
        {
          "output_type": "stream",
          "text": [
            "Procesos train : 926: 100%|██████████| 300/300 [00:17<00:00, 18.22it/s]\n",
            "Procesos train : 926: 100%|██████████| 300/300 [00:17<00:00, 17.33it/s]\n",
            "100%|██████████| 90/90 [00:19<00:00,  4.67it/s]\n",
            "  0%|          | 0/300 [00:00<?, ?it/s]\n",
            "Procesos train : 927:   1%|          | 2/300 [00:00<00:17, 17.33it/s]"
          ],
          "name": "stderr"
        },
        {
          "output_type": "stream",
          "text": [
            "loss_train: 5.313160271644592, loss_valid: 5.274696853425768 , acuraccy_train: 14.55079255096907, acuraccy_valid:18.369075288684467\n"
          ],
          "name": "stdout"
        },
        {
          "output_type": "stream",
          "text": [
            "Procesos train : 927: 100%|██████████| 300/300 [00:16<00:00, 17.64it/s]\n",
            "Procesos train : 927: 100%|██████████| 300/300 [00:16<00:00, 17.97it/s]\n",
            "100%|██████████| 90/90 [00:19<00:00,  4.69it/s]\n",
            "  0%|          | 0/300 [00:00<?, ?it/s]\n",
            "Procesos train : 928:   1%|          | 2/300 [00:00<00:17, 16.97it/s]"
          ],
          "name": "stderr"
        },
        {
          "output_type": "stream",
          "text": [
            "loss_train: 5.309960559209188, loss_valid: 5.274696985880534 , acuraccy_train: 14.84610156211007, acuraccy_valid:18.36907528868446\n"
          ],
          "name": "stdout"
        },
        {
          "output_type": "stream",
          "text": [
            "Procesos train : 928: 100%|██████████| 300/300 [00:16<00:00, 18.44it/s]\n",
            "Procesos train : 928: 100%|██████████| 300/300 [00:16<00:00, 17.97it/s]\n",
            "100%|██████████| 90/90 [00:18<00:00,  4.83it/s]\n",
            "  0%|          | 0/300 [00:00<?, ?it/s]\n",
            "Procesos train : 929:   1%|          | 2/300 [00:00<00:17, 17.52it/s]"
          ],
          "name": "stderr"
        },
        {
          "output_type": "stream",
          "text": [
            "loss_train: 5.3098803234100345, loss_valid: 5.268435796101888 , acuraccy_train: 14.853003919012444, acuraccy_valid:18.995177581453422\n"
          ],
          "name": "stdout"
        },
        {
          "output_type": "stream",
          "text": [
            "Procesos train : 929: 100%|██████████| 300/300 [00:16<00:00, 18.41it/s]\n",
            "Procesos train : 929: 100%|██████████| 300/300 [00:16<00:00, 17.80it/s]\n",
            "100%|██████████| 90/90 [00:18<00:00,  4.78it/s]\n",
            "  0%|          | 0/300 [00:00<?, ?it/s]\n",
            "Procesos train : 930:   1%|          | 2/300 [00:00<00:16, 17.96it/s]"
          ],
          "name": "stderr"
        },
        {
          "output_type": "stream",
          "text": [
            "loss_train: 5.310722864468892, loss_valid: 5.268435796101888 , acuraccy_train: 14.767159155849921, acuraccy_valid:18.995177581453422\n"
          ],
          "name": "stdout"
        },
        {
          "output_type": "stream",
          "text": [
            "Procesos train : 930: 100%|██████████| 300/300 [00:16<00:00, 17.75it/s]\n",
            "Procesos train : 930: 100%|██████████| 300/300 [00:16<00:00, 17.80it/s]\n",
            "100%|██████████| 90/90 [00:18<00:00,  4.76it/s]\n",
            "  0%|          | 0/300 [00:00<?, ?it/s]\n",
            "Procesos train : 931:   1%|          | 2/300 [00:00<00:18, 16.49it/s]"
          ],
          "name": "stderr"
        },
        {
          "output_type": "stream",
          "text": [
            "loss_train: 5.310550853411357, loss_valid: 5.268435769610935 , acuraccy_train: 14.755892905885808, acuraccy_valid:18.99517758145342\n"
          ],
          "name": "stdout"
        },
        {
          "output_type": "stream",
          "text": [
            "Procesos train : 931: 100%|██████████| 300/300 [00:16<00:00, 18.00it/s]\n",
            "Procesos train : 931: 100%|██████████| 300/300 [00:16<00:00, 17.79it/s]\n",
            "100%|██████████| 90/90 [00:19<00:00,  4.64it/s]\n",
            "  0%|          | 0/300 [00:00<?, ?it/s]\n",
            "Procesos train : 932:   1%|          | 2/300 [00:00<00:17, 16.88it/s]"
          ],
          "name": "stderr"
        },
        {
          "output_type": "stream",
          "text": [
            "loss_train: 5.309872357050578, loss_valid: 5.268435796101888 , acuraccy_train: 14.851488767497278, acuraccy_valid:18.995177581453422\n"
          ],
          "name": "stdout"
        },
        {
          "output_type": "stream",
          "text": [
            "Procesos train : 932: 100%|██████████| 300/300 [00:16<00:00, 18.25it/s]\n",
            "Procesos train : 932: 100%|██████████| 300/300 [00:16<00:00, 18.32it/s]\n",
            "100%|██████████| 90/90 [00:18<00:00,  4.91it/s]\n",
            "  0%|          | 0/300 [00:00<?, ?it/s]\n",
            "Procesos train : 933:   1%|          | 2/300 [00:00<00:17, 17.30it/s]"
          ],
          "name": "stderr"
        },
        {
          "output_type": "stream",
          "text": [
            "loss_train: 5.309364887873332, loss_valid: 5.314771731694539 , acuraccy_train: 14.892664071975364, acuraccy_valid:14.361574977794838\n"
          ],
          "name": "stdout"
        },
        {
          "output_type": "stream",
          "text": [
            "Procesos train : 933: 100%|██████████| 300/300 [00:16<00:00, 18.45it/s]\n",
            "Procesos train : 933: 100%|██████████| 300/300 [00:16<00:00, 17.84it/s]\n",
            "100%|██████████| 90/90 [00:18<00:00,  4.79it/s]\n",
            "  0%|          | 0/300 [00:00<?, ?it/s]\n",
            "Procesos train : 934:   1%|          | 2/300 [00:00<00:17, 17.34it/s]"
          ],
          "name": "stderr"
        },
        {
          "output_type": "stream",
          "text": [
            "loss_train: 5.314109193483988, loss_valid: 5.315987295574612 , acuraccy_train: 14.4354620524019, acuraccy_valid:14.238118187671384\n"
          ],
          "name": "stdout"
        },
        {
          "output_type": "stream",
          "text": [
            "Procesos train : 934: 100%|██████████| 300/300 [00:17<00:00, 17.95it/s]\n",
            "Procesos train : 934: 100%|██████████| 300/300 [00:17<00:00, 17.46it/s]\n",
            "100%|██████████| 90/90 [00:19<00:00,  4.68it/s]\n",
            "  0%|          | 0/300 [00:00<?, ?it/s]\n",
            "Procesos train : 935:   1%|          | 2/300 [00:00<00:17, 16.72it/s]"
          ],
          "name": "stderr"
        },
        {
          "output_type": "stream",
          "text": [
            "loss_train: 5.311163743336995, loss_valid: 5.2709931002722845 , acuraccy_train: 14.713455420012084, acuraccy_valid:18.73944565905483\n"
          ],
          "name": "stdout"
        },
        {
          "output_type": "stream",
          "text": [
            "Procesos train : 935: 100%|██████████| 300/300 [00:17<00:00, 18.62it/s]\n",
            "Procesos train : 935: 100%|██████████| 300/300 [00:17<00:00, 17.54it/s]\n",
            "100%|██████████| 90/90 [00:19<00:00,  4.72it/s]\n",
            "  0%|          | 0/300 [00:00<?, ?it/s]\n",
            "Procesos train : 936:   1%|          | 2/300 [00:00<00:17, 16.87it/s]"
          ],
          "name": "stderr"
        },
        {
          "output_type": "stream",
          "text": [
            "loss_train: 5.309797196388245, loss_valid: 5.2709931002722845 , acuraccy_train: 14.859064525073043, acuraccy_valid:18.73944565905483\n"
          ],
          "name": "stdout"
        },
        {
          "output_type": "stream",
          "text": [
            "Procesos train : 936: 100%|██████████| 300/300 [00:16<00:00, 18.45it/s]\n",
            "Procesos train : 936: 100%|██████████| 300/300 [00:16<00:00, 18.36it/s]\n",
            "100%|██████████| 90/90 [00:18<00:00,  4.80it/s]\n",
            "  0%|          | 0/300 [00:00<?, ?it/s]\n",
            "Procesos train : 937:   1%|          | 2/300 [00:00<00:16, 17.83it/s]"
          ],
          "name": "stderr"
        },
        {
          "output_type": "stream",
          "text": [
            "loss_train: 5.309854321479797, loss_valid: 5.2709931002722845 , acuraccy_train: 14.85289168556687, acuraccy_valid:18.739445659054827\n"
          ],
          "name": "stdout"
        },
        {
          "output_type": "stream",
          "text": [
            "Procesos train : 937: 100%|██████████| 300/300 [00:16<00:00, 17.97it/s]\n",
            "Procesos train : 937: 100%|██████████| 300/300 [00:16<00:00, 18.30it/s]\n",
            "100%|██████████| 90/90 [00:18<00:00,  4.89it/s]\n",
            "  0%|          | 0/300 [00:00<?, ?it/s]\n",
            "Procesos train : 938:   1%|          | 2/300 [00:00<00:17, 16.57it/s]"
          ],
          "name": "stderr"
        },
        {
          "output_type": "stream",
          "text": [
            "loss_train: 5.309972008069356, loss_valid: 5.26978784137302 , acuraccy_train: 14.827020274518585, acuraccy_valid:18.862902449178286\n"
          ],
          "name": "stdout"
        },
        {
          "output_type": "stream",
          "text": [
            "Procesos train : 938: 100%|██████████| 300/300 [00:17<00:00, 17.73it/s]\n",
            "Procesos train : 938: 100%|██████████| 300/300 [00:17<00:00, 17.32it/s]\n",
            "100%|██████████| 90/90 [00:19<00:00,  4.65it/s]\n",
            "  0%|          | 0/300 [00:00<?, ?it/s]\n",
            "Procesos train : 939:   1%|          | 2/300 [00:00<00:17, 17.20it/s]"
          ],
          "name": "stderr"
        },
        {
          "output_type": "stream",
          "text": [
            "loss_train: 5.321219081878662, loss_valid: 5.388485537634955 , acuraccy_train: 13.637635770248746, acuraccy_valid:6.402468832586565\n"
          ],
          "name": "stdout"
        },
        {
          "output_type": "stream",
          "text": [
            "Procesos train : 939: 100%|██████████| 300/300 [00:16<00:00, 18.49it/s]\n",
            "Procesos train : 939: 100%|██████████| 300/300 [00:16<00:00, 17.80it/s]\n",
            "100%|██████████| 90/90 [00:18<00:00,  4.78it/s]\n",
            "  0%|          | 0/300 [00:00<?, ?it/s]\n",
            "Procesos train : 940:   1%|          | 2/300 [00:00<00:17, 17.08it/s]"
          ],
          "name": "stderr"
        },
        {
          "output_type": "stream",
          "text": [
            "loss_train: 5.372866129875183, loss_valid: 5.349350346459283 , acuraccy_train: 8.561042019175218, acuraccy_valid:10.903796303970012\n"
          ],
          "name": "stdout"
        },
        {
          "output_type": "stream",
          "text": [
            "Procesos train : 940: 100%|██████████| 300/300 [00:16<00:00, 18.46it/s]\n",
            "Procesos train : 940: 100%|██████████| 300/300 [00:16<00:00, 18.31it/s]\n",
            "100%|██████████| 90/90 [00:18<00:00,  4.78it/s]\n",
            "  0%|          | 0/300 [00:00<?, ?it/s]\n",
            "Procesos train : 941:   1%|          | 2/300 [00:00<00:16, 17.62it/s]"
          ],
          "name": "stderr"
        },
        {
          "output_type": "stream",
          "text": [
            "loss_train: 5.373966801961263, loss_valid: 5.349387195375231 , acuraccy_train: 8.44178067038579, acuraccy_valid:10.903796303970008\n"
          ],
          "name": "stdout"
        },
        {
          "output_type": "stream",
          "text": [
            "Procesos train : 941: 100%|██████████| 300/300 [00:17<00:00, 17.74it/s]\n",
            "Procesos train : 941: 100%|██████████| 300/300 [00:17<00:00, 17.34it/s]\n",
            "100%|██████████| 90/90 [00:19<00:00,  4.65it/s]\n",
            "  0%|          | 0/300 [00:00<?, ?it/s]\n",
            "Procesos train : 942:   1%|          | 2/300 [00:00<00:17, 16.99it/s]"
          ],
          "name": "stderr"
        },
        {
          "output_type": "stream",
          "text": [
            "loss_train: 5.374723471005757, loss_valid: 5.349351618025038 , acuraccy_train: 8.278139267156801, acuraccy_valid:10.903796303970006\n"
          ],
          "name": "stdout"
        },
        {
          "output_type": "stream",
          "text": [
            "Procesos train : 942: 100%|██████████| 300/300 [00:17<00:00, 18.49it/s]\n",
            "Procesos train : 942: 100%|██████████| 300/300 [00:17<00:00, 17.48it/s]\n",
            "100%|██████████| 90/90 [00:19<00:00,  4.69it/s]\n",
            "  0%|          | 0/300 [00:00<?, ?it/s]\n",
            "Procesos train : 943:   1%|          | 2/300 [00:00<00:17, 16.92it/s]"
          ],
          "name": "stderr"
        },
        {
          "output_type": "stream",
          "text": [
            "loss_train: 5.373152461051941, loss_valid: 5.349349604712592 , acuraccy_train: 8.525055649776188, acuraccy_valid:10.903796303970008\n"
          ],
          "name": "stdout"
        },
        {
          "output_type": "stream",
          "text": [
            "Procesos train : 943: 100%|██████████| 300/300 [00:17<00:00, 18.05it/s]\n",
            "Procesos train : 943: 100%|██████████| 300/300 [00:17<00:00, 17.31it/s]\n",
            "100%|██████████| 90/90 [00:19<00:00,  4.64it/s]\n",
            "  0%|          | 0/300 [00:00<?, ?it/s]\n",
            "Procesos train : 944:   1%|          | 2/300 [00:00<00:18, 16.54it/s]"
          ],
          "name": "stderr"
        },
        {
          "output_type": "stream",
          "text": [
            "loss_train: 5.37295757929484, loss_valid: 5.349350293477376 , acuraccy_train: 8.543121631810529, acuraccy_valid:10.903796303970006\n"
          ],
          "name": "stdout"
        },
        {
          "output_type": "stream",
          "text": [
            "Procesos train : 944: 100%|██████████| 300/300 [00:16<00:00, 18.30it/s]\n",
            "Procesos train : 944: 100%|██████████| 300/300 [00:16<00:00, 17.73it/s]\n",
            "100%|██████████| 90/90 [00:18<00:00,  4.76it/s]\n",
            "  0%|          | 0/300 [00:00<?, ?it/s]\n",
            "Procesos train : 945:   1%|          | 2/300 [00:00<00:16, 17.63it/s]"
          ],
          "name": "stderr"
        },
        {
          "output_type": "stream",
          "text": [
            "loss_train: 5.372555910746256, loss_valid: 5.349349631203546 , acuraccy_train: 8.583349552038445, acuraccy_valid:10.903796303970006\n"
          ],
          "name": "stdout"
        },
        {
          "output_type": "stream",
          "text": [
            "Procesos train : 945: 100%|██████████| 300/300 [00:16<00:00, 18.33it/s]\n",
            "Procesos train : 945: 100%|██████████| 300/300 [00:16<00:00, 18.39it/s]\n",
            "100%|██████████| 90/90 [00:18<00:00,  4.93it/s]\n",
            "  0%|          | 0/300 [00:00<?, ?it/s]\n",
            "Procesos train : 946:   0%|          | 0/300 [00:00<?, ?it/s]"
          ],
          "name": "stderr"
        },
        {
          "output_type": "stream",
          "text": [
            "loss_train: 5.371502855618795, loss_valid: 5.349349631203546 , acuraccy_train: 8.68846539346269, acuraccy_valid:10.903796303970005\n"
          ],
          "name": "stdout"
        },
        {
          "output_type": "stream",
          "text": [
            "Procesos train : 946: 100%|██████████| 300/300 [00:17<00:00, 17.62it/s]\n",
            "Procesos train : 946: 100%|██████████| 300/300 [00:17<00:00, 17.51it/s]\n",
            "100%|██████████| 90/90 [00:19<00:00,  4.70it/s]\n",
            "  0%|          | 0/300 [00:00<?, ?it/s]\n",
            "Procesos train : 947:   1%|          | 2/300 [00:00<00:17, 16.57it/s]"
          ],
          "name": "stderr"
        },
        {
          "output_type": "stream",
          "text": [
            "loss_train: 5.372943757375081, loss_valid: 5.3493496841854515 , acuraccy_train: 8.543121631810521, acuraccy_valid:10.903796303970013\n"
          ],
          "name": "stdout"
        },
        {
          "output_type": "stream",
          "text": [
            "Procesos train : 947: 100%|██████████| 300/300 [00:17<00:00, 18.47it/s]\n",
            "Procesos train : 947: 100%|██████████| 300/300 [00:17<00:00, 17.40it/s]\n",
            "100%|██████████| 90/90 [00:19<00:00,  4.69it/s]\n",
            "  0%|          | 0/300 [00:00<?, ?it/s]\n",
            "Procesos train : 948:   1%|          | 2/300 [00:00<00:17, 17.18it/s]"
          ],
          "name": "stderr"
        },
        {
          "output_type": "stream",
          "text": [
            "loss_train: 5.369976558685303, loss_valid: 5.349349631203546 , acuraccy_train: 8.841290530367694, acuraccy_valid:10.90379630397001\n"
          ],
          "name": "stdout"
        },
        {
          "output_type": "stream",
          "text": [
            "Procesos train : 948: 100%|██████████| 300/300 [00:16<00:00, 18.31it/s]\n",
            "Procesos train : 948: 100%|██████████| 300/300 [00:16<00:00, 17.83it/s]\n",
            "100%|██████████| 90/90 [00:18<00:00,  4.79it/s]\n",
            "  0%|          | 0/300 [00:00<?, ?it/s]\n",
            "Procesos train : 949:   1%|          | 2/300 [00:00<00:17, 16.97it/s]"
          ],
          "name": "stderr"
        },
        {
          "output_type": "stream",
          "text": [
            "loss_train: 5.367370621363322, loss_valid: 5.349349631203546 , acuraccy_train: 9.10363756962457, acuraccy_valid:10.903796303970008\n"
          ],
          "name": "stdout"
        },
        {
          "output_type": "stream",
          "text": [
            "Procesos train : 949: 100%|██████████| 300/300 [00:16<00:00, 18.47it/s]\n",
            "Procesos train : 949: 100%|██████████| 300/300 [00:16<00:00, 18.37it/s]\n",
            "100%|██████████| 90/90 [00:18<00:00,  4.78it/s]\n",
            "  0%|          | 0/300 [00:00<?, ?it/s]\n",
            "Procesos train : 950:   1%|          | 2/300 [00:00<00:18, 16.12it/s]"
          ],
          "name": "stderr"
        },
        {
          "output_type": "stream",
          "text": [
            "loss_train: 5.3727102899551396, loss_valid: 5.349349631203546 , acuraccy_train: 8.567653581342473, acuraccy_valid:10.903796303970006\n"
          ],
          "name": "stdout"
        },
        {
          "output_type": "stream",
          "text": [
            "Procesos train : 950: 100%|██████████| 300/300 [00:16<00:00, 17.53it/s]\n",
            "Procesos train : 950: 100%|██████████| 300/300 [00:16<00:00, 17.67it/s]\n",
            "100%|██████████| 90/90 [00:19<00:00,  4.73it/s]\n",
            "  0%|          | 0/300 [00:00<?, ?it/s]\n",
            "Procesos train : 951:   1%|          | 2/300 [00:00<00:17, 16.90it/s]"
          ],
          "name": "stderr"
        },
        {
          "output_type": "stream",
          "text": [
            "loss_train: 5.344054082234701, loss_valid: 5.27346224255032 , acuraccy_train: 11.4349781578538, acuraccy_valid:18.49253207880792\n"
          ],
          "name": "stdout"
        },
        {
          "output_type": "stream",
          "text": [
            "Procesos train : 951: 100%|██████████| 300/300 [00:17<00:00, 18.27it/s]\n",
            "Procesos train : 951: 100%|██████████| 300/300 [00:17<00:00, 17.61it/s]\n",
            "100%|██████████| 90/90 [00:19<00:00,  4.73it/s]\n",
            "  0%|          | 0/300 [00:00<?, ?it/s]\n",
            "Procesos train : 952:   1%|          | 2/300 [00:00<00:17, 17.31it/s]"
          ],
          "name": "stderr"
        },
        {
          "output_type": "stream",
          "text": [
            "loss_train: 5.349568457603454, loss_valid: 5.349349631203546 , acuraccy_train: 10.882866154542299, acuraccy_valid:10.903796303970006\n"
          ],
          "name": "stdout"
        },
        {
          "output_type": "stream",
          "text": [
            "Procesos train : 952: 100%|██████████| 300/300 [00:16<00:00, 18.25it/s]\n",
            "Procesos train : 952: 100%|██████████| 300/300 [00:16<00:00, 17.70it/s]\n",
            "100%|██████████| 90/90 [00:18<00:00,  4.76it/s]\n",
            "  0%|          | 0/300 [00:00<?, ?it/s]\n",
            "Procesos train : 953:   1%|          | 2/300 [00:00<00:17, 17.24it/s]"
          ],
          "name": "stderr"
        },
        {
          "output_type": "stream",
          "text": [
            "loss_train: 5.36485903263092, loss_valid: 5.329194280836317 , acuraccy_train: 9.354368674171564, acuraccy_valid:12.919329920940564\n"
          ],
          "name": "stdout"
        },
        {
          "output_type": "stream",
          "text": [
            "Procesos train : 953: 100%|██████████| 300/300 [00:17<00:00,  9.29it/s]\n",
            "Procesos train : 953: 100%|██████████| 300/300 [00:17<00:00, 17.37it/s]\n",
            "100%|██████████| 90/90 [00:19<00:00,  4.66it/s]\n",
            "  0%|          | 0/300 [00:00<?, ?it/s]\n",
            "Procesos train : 954:   1%|          | 2/300 [00:00<00:17, 16.64it/s]"
          ],
          "name": "stderr"
        },
        {
          "output_type": "stream",
          "text": [
            "loss_train: 5.329276776313781, loss_valid: 5.349349604712592 , acuraccy_train: 12.914951425009258, acuraccy_valid:10.90379630397001\n"
          ],
          "name": "stdout"
        },
        {
          "output_type": "stream",
          "text": [
            "Procesos train : 954: 100%|██████████| 300/300 [00:16<00:00, 18.48it/s]\n",
            "Procesos train : 954: 100%|██████████| 300/300 [00:16<00:00, 17.94it/s]\n",
            "100%|██████████| 90/90 [00:18<00:00,  4.82it/s]\n",
            "  0%|          | 0/300 [00:00<?, ?it/s]\n",
            "Procesos train : 955:   1%|          | 2/300 [00:00<00:17, 17.41it/s]"
          ],
          "name": "stderr"
        },
        {
          "output_type": "stream",
          "text": [
            "loss_train: 5.358187786738077, loss_valid: 5.349349604712592 , acuraccy_train: 10.021581302822911, acuraccy_valid:10.903796303970006\n"
          ],
          "name": "stdout"
        },
        {
          "output_type": "stream",
          "text": [
            "Procesos train : 955: 100%|██████████| 300/300 [00:16<00:00, 18.02it/s]\n",
            "Procesos train : 955: 100%|██████████| 300/300 [00:16<00:00, 17.84it/s]\n",
            "100%|██████████| 90/90 [00:18<00:00,  4.80it/s]\n",
            "  0%|          | 0/300 [00:00<?, ?it/s]\n",
            "Procesos train : 956:   1%|          | 2/300 [00:00<00:17, 17.37it/s]"
          ],
          "name": "stderr"
        },
        {
          "output_type": "stream",
          "text": [
            "loss_train: 5.356879625320435, loss_valid: 5.347995307710436 , acuraccy_train: 10.142887981922117, acuraccy_valid:11.039297658983559\n"
          ],
          "name": "stdout"
        },
        {
          "output_type": "stream",
          "text": [
            "Procesos train : 956: 100%|██████████| 300/300 [00:16<00:00, 17.89it/s]\n",
            "Procesos train : 956: 100%|██████████| 300/300 [00:16<00:00, 17.69it/s]\n",
            "100%|██████████| 90/90 [00:18<00:00,  4.74it/s]\n",
            "  0%|          | 0/300 [00:00<?, ?it/s]\n",
            "Procesos train : 957:   1%|          | 2/300 [00:00<00:18, 16.24it/s]"
          ],
          "name": "stderr"
        },
        {
          "output_type": "stream",
          "text": [
            "loss_train: 5.370424650510152, loss_valid: 5.349349631203546 , acuraccy_train: 8.796590910995974, acuraccy_valid:10.903796303970008\n"
          ],
          "name": "stdout"
        },
        {
          "output_type": "stream",
          "text": [
            "Procesos train : 957: 100%|██████████| 300/300 [00:17<00:00, 17.47it/s]\n",
            "Procesos train : 957: 100%|██████████| 300/300 [00:17<00:00, 17.30it/s]\n",
            "100%|██████████| 90/90 [00:19<00:00,  4.65it/s]\n",
            "  0%|          | 0/300 [00:00<?, ?it/s]\n",
            "Procesos train : 958:   1%|          | 2/300 [00:00<00:17, 16.96it/s]"
          ],
          "name": "stderr"
        },
        {
          "output_type": "stream",
          "text": [
            "loss_train: 5.372319960594178, loss_valid: 5.349349631203546 , acuraccy_train: 8.606707682020616, acuraccy_valid:10.903796303970008\n"
          ],
          "name": "stdout"
        },
        {
          "output_type": "stream",
          "text": [
            "Procesos train : 958: 100%|██████████| 300/300 [00:16<00:00, 18.60it/s]\n",
            "Procesos train : 958: 100%|██████████| 300/300 [00:16<00:00, 18.22it/s]\n",
            "100%|██████████| 90/90 [00:18<00:00,  4.88it/s]\n",
            "  0%|          | 0/300 [00:00<?, ?it/s]\n",
            "Procesos train : 959:   1%|          | 2/300 [00:00<00:17, 17.40it/s]"
          ],
          "name": "stderr"
        },
        {
          "output_type": "stream",
          "text": [
            "loss_train: 5.362980063756307, loss_valid: 5.269758542378743 , acuraccy_train: 9.541052359990214, acuraccy_valid:18.862902449178293\n"
          ],
          "name": "stdout"
        },
        {
          "output_type": "stream",
          "text": [
            "Procesos train : 959: 100%|██████████| 300/300 [00:16<00:00, 18.31it/s]\n",
            "Procesos train : 959: 100%|██████████| 300/300 [00:16<00:00, 17.82it/s]\n",
            "100%|██████████| 90/90 [00:18<00:00,  4.79it/s]\n",
            "  0%|          | 0/300 [00:00<?, ?it/s]\n",
            "Procesos train : 960:   1%|          | 2/300 [00:00<00:16, 17.65it/s]"
          ],
          "name": "stderr"
        },
        {
          "output_type": "stream",
          "text": [
            "loss_train: 5.3135807259877526, loss_valid: 5.2760518656836615 , acuraccy_train: 14.480323548589002, acuraccy_valid:18.233573933670915\n"
          ],
          "name": "stdout"
        },
        {
          "output_type": "stream",
          "text": [
            "Procesos train : 960: 100%|██████████| 300/300 [00:17<00:00, 18.12it/s]\n",
            "Procesos train : 960: 100%|██████████| 300/300 [00:17<00:00, 17.56it/s]\n",
            "100%|██████████| 90/90 [00:19<00:00,  4.71it/s]\n",
            "  0%|          | 0/300 [00:00<?, ?it/s]\n",
            "Procesos train : 961:   1%|          | 2/300 [00:00<00:17, 17.00it/s]"
          ],
          "name": "stderr"
        },
        {
          "output_type": "stream",
          "text": [
            "loss_train: 5.381879281997681, loss_valid: 5.434416347079807 , acuraccy_train: 7.650851102485744, acuraccy_valid:2.397126717724883\n"
          ],
          "name": "stdout"
        },
        {
          "output_type": "stream",
          "text": [
            "Procesos train : 961: 100%|██████████| 300/300 [00:17<00:00, 18.49it/s]\n",
            "Procesos train : 961: 100%|██████████| 300/300 [00:17<00:00, 17.00it/s]\n",
            "100%|██████████| 90/90 [00:19<00:00,  4.59it/s]\n",
            "  0%|          | 0/300 [00:00<?, ?it/s]\n",
            "Procesos train : 962:   1%|          | 2/300 [00:00<00:17, 16.89it/s]"
          ],
          "name": "stderr"
        },
        {
          "output_type": "stream",
          "text": [
            "loss_train: 5.43596373240153, loss_valid: 5.434416347079807 , acuraccy_train: 2.2434754695948356, acuraccy_valid:2.397126717724883\n"
          ],
          "name": "stdout"
        },
        {
          "output_type": "stream",
          "text": [
            "Procesos train : 962: 100%|██████████| 300/300 [00:17<00:00, 12.35it/s]\n",
            "Procesos train : 962: 100%|██████████| 300/300 [00:17<00:00, 17.30it/s]\n",
            "100%|██████████| 90/90 [00:19<00:00,  4.65it/s]\n",
            "  0%|          | 0/300 [00:00<?, ?it/s]\n",
            "Procesos train : 963:   1%|          | 2/300 [00:00<00:17, 16.97it/s]"
          ],
          "name": "stderr"
        },
        {
          "output_type": "stream",
          "text": [
            "loss_train: 5.436405234336853, loss_valid: 5.434416347079807 , acuraccy_train: 2.1981947486107907, acuraccy_valid:2.397126717724883\n"
          ],
          "name": "stdout"
        },
        {
          "output_type": "stream",
          "text": [
            "Procesos train : 963: 100%|██████████| 300/300 [00:16<00:00, 18.38it/s]\n",
            "Procesos train : 963: 100%|██████████| 300/300 [00:16<00:00, 18.17it/s]\n",
            "100%|██████████| 90/90 [00:18<00:00,  4.87it/s]\n",
            "  0%|          | 0/300 [00:00<?, ?it/s]\n",
            "Procesos train : 964:   1%|          | 2/300 [00:00<00:17, 16.91it/s]"
          ],
          "name": "stderr"
        },
        {
          "output_type": "stream",
          "text": [
            "loss_train: 5.436413427988688, loss_valid: 5.434416347079807 , acuraccy_train: 2.1974437235630893, acuraccy_valid:2.3971267177248827\n"
          ],
          "name": "stdout"
        },
        {
          "output_type": "stream",
          "text": [
            "Procesos train : 964: 100%|██████████| 300/300 [00:16<00:00, 18.48it/s]\n",
            "Procesos train : 964: 100%|██████████| 300/300 [00:16<00:00, 17.83it/s]\n",
            "100%|██████████| 90/90 [00:18<00:00,  4.79it/s]\n",
            "  0%|          | 0/300 [00:00<?, ?it/s]\n",
            "Procesos train : 965:   1%|          | 2/300 [00:00<00:17, 17.39it/s]"
          ],
          "name": "stderr"
        },
        {
          "output_type": "stream",
          "text": [
            "loss_train: 5.436767555872599, loss_valid: 5.434416347079807 , acuraccy_train: 2.1619628645528195, acuraccy_valid:2.397126717724883\n"
          ],
          "name": "stdout"
        },
        {
          "output_type": "stream",
          "text": [
            "Procesos train : 965: 100%|██████████| 300/300 [00:17<00:00, 17.94it/s]\n",
            "Procesos train : 965: 100%|██████████| 300/300 [00:17<00:00, 17.62it/s]\n",
            "100%|██████████| 90/90 [00:19<00:00,  4.72it/s]\n",
            "  0%|          | 0/300 [00:00<?, ?it/s]\n",
            "Procesos train : 966:   1%|          | 2/300 [00:00<00:17, 16.89it/s]"
          ],
          "name": "stderr"
        },
        {
          "output_type": "stream",
          "text": [
            "loss_train: 5.42132358233134, loss_valid: 5.373320844438341 , acuraccy_train: 3.676450812841951, acuraccy_valid:8.506669586245124\n"
          ],
          "name": "stdout"
        },
        {
          "output_type": "stream",
          "text": [
            "Procesos train : 966: 100%|██████████| 300/300 [00:17<00:00, 18.45it/s]\n",
            "Procesos train : 966: 100%|██████████| 300/300 [00:17<00:00, 17.39it/s]\n",
            "100%|██████████| 90/90 [00:19<00:00,  4.69it/s]\n",
            "  0%|          | 0/300 [00:00<?, ?it/s]\n",
            "Procesos train : 967:   1%|          | 2/300 [00:00<00:16, 17.66it/s]"
          ],
          "name": "stderr"
        },
        {
          "output_type": "stream",
          "text": [
            "loss_train: 5.394575626055399, loss_valid: 5.373320844438341 , acuraccy_train: 6.381158767257706, acuraccy_valid:8.506669586245128\n"
          ],
          "name": "stdout"
        },
        {
          "output_type": "stream",
          "text": [
            "Procesos train : 967: 100%|██████████| 300/300 [00:16<00:00, 18.27it/s]\n",
            "Procesos train : 967: 100%|██████████| 300/300 [00:16<00:00, 18.39it/s]\n",
            "100%|██████████| 90/90 [00:18<00:00,  4.80it/s]\n",
            "  0%|          | 0/300 [00:00<?, ?it/s]\n",
            "Procesos train : 968:   1%|          | 2/300 [00:00<00:17, 16.86it/s]"
          ],
          "name": "stderr"
        },
        {
          "output_type": "stream",
          "text": [
            "loss_train: 5.394575610160827, loss_valid: 5.373320844438341 , acuraccy_train: 6.381158767257708, acuraccy_valid:8.506669586245131\n"
          ],
          "name": "stdout"
        },
        {
          "output_type": "stream",
          "text": [
            "Procesos train : 968: 100%|██████████| 300/300 [00:16<00:00, 18.35it/s]\n",
            "Procesos train : 968: 100%|██████████| 300/300 [00:16<00:00, 18.34it/s]\n",
            "100%|██████████| 90/90 [00:18<00:00,  4.92it/s]\n",
            "  0%|          | 0/300 [00:00<?, ?it/s]\n",
            "Procesos train : 969:   1%|          | 2/300 [00:00<00:18, 16.53it/s]"
          ],
          "name": "stderr"
        },
        {
          "output_type": "stream",
          "text": [
            "loss_train: 5.39457559744517, loss_valid: 5.373320844438341 , acuraccy_train: 6.381158767257703, acuraccy_valid:8.506669586245131\n"
          ],
          "name": "stdout"
        },
        {
          "output_type": "stream",
          "text": [
            "Procesos train : 969: 100%|██████████| 300/300 [00:17<00:00, 18.04it/s]\n",
            "Procesos train : 969: 100%|██████████| 300/300 [00:17<00:00, 17.33it/s]\n",
            "100%|██████████| 90/90 [00:19<00:00,  4.65it/s]\n",
            "  0%|          | 0/300 [00:00<?, ?it/s]\n",
            "Procesos train : 970:   1%|          | 2/300 [00:00<00:17, 17.33it/s]"
          ],
          "name": "stderr"
        },
        {
          "output_type": "stream",
          "text": [
            "loss_train: 5.39457555770874, loss_valid: 5.373320844438341 , acuraccy_train: 6.3811587672577055, acuraccy_valid:8.506669586245133\n"
          ],
          "name": "stdout"
        },
        {
          "output_type": "stream",
          "text": [
            "Procesos train : 970: 100%|██████████| 300/300 [00:16<00:00, 18.23it/s]\n",
            "Procesos train : 970: 100%|██████████| 300/300 [00:16<00:00, 17.71it/s]\n",
            "100%|██████████| 90/90 [00:18<00:00,  4.77it/s]\n",
            "  0%|          | 0/300 [00:00<?, ?it/s]\n",
            "Procesos train : 971:   1%|          | 2/300 [00:00<00:17, 17.38it/s]"
          ],
          "name": "stderr"
        },
        {
          "output_type": "stream",
          "text": [
            "loss_train: 5.394581697781881, loss_valid: 5.373320791456434 , acuraccy_train: 6.381158767257708, acuraccy_valid:8.506669586245131\n"
          ],
          "name": "stdout"
        },
        {
          "output_type": "stream",
          "text": [
            "Procesos train : 971: 100%|██████████| 300/300 [00:16<00:00, 16.04it/s]\n",
            "Procesos train : 971: 100%|██████████| 300/300 [00:16<00:00, 17.88it/s]\n",
            "100%|██████████| 90/90 [00:18<00:00,  4.81it/s]\n",
            "  0%|          | 0/300 [00:00<?, ?it/s]\n",
            "Procesos train : 972:   1%|          | 2/300 [00:00<00:17, 17.45it/s]"
          ],
          "name": "stderr"
        },
        {
          "output_type": "stream",
          "text": [
            "loss_train: 5.394579405784607, loss_valid: 5.373320817947388 , acuraccy_train: 6.381158767257709, acuraccy_valid:8.506669586245128\n"
          ],
          "name": "stdout"
        },
        {
          "output_type": "stream",
          "text": [
            "Procesos train : 972: 100%|██████████| 300/300 [00:16<00:00, 17.55it/s]\n",
            "Procesos train : 972: 100%|██████████| 300/300 [00:16<00:00, 17.99it/s]\n",
            "100%|██████████| 90/90 [00:18<00:00,  4.80it/s]\n",
            "  0%|          | 0/300 [00:00<?, ?it/s]\n",
            "Procesos train : 973:   1%|          | 2/300 [00:00<00:17, 16.71it/s]"
          ],
          "name": "stderr"
        },
        {
          "output_type": "stream",
          "text": [
            "loss_train: 5.394577412605286, loss_valid: 5.373320844438341 , acuraccy_train: 6.381158767257706, acuraccy_valid:8.506669586245124\n"
          ],
          "name": "stdout"
        },
        {
          "output_type": "stream",
          "text": [
            "Procesos train : 973: 100%|██████████| 300/300 [00:17<00:00, 17.79it/s]\n",
            "Procesos train : 973: 100%|██████████| 300/300 [00:17<00:00, 17.29it/s]\n",
            "100%|██████████| 90/90 [00:19<00:00,  4.65it/s]\n",
            "  0%|          | 0/300 [00:00<?, ?it/s]\n",
            "Procesos train : 974:   1%|          | 2/300 [00:00<00:16, 17.90it/s]"
          ],
          "name": "stderr"
        },
        {
          "output_type": "stream",
          "text": [
            "loss_train: 5.39457536538442, loss_valid: 5.373320764965481 , acuraccy_train: 6.381158767257701, acuraccy_valid:8.506669586245131\n"
          ],
          "name": "stdout"
        },
        {
          "output_type": "stream",
          "text": [
            "Procesos train : 974: 100%|██████████| 300/300 [00:16<00:00, 18.26it/s]\n",
            "Procesos train : 974: 100%|██████████| 300/300 [00:16<00:00, 17.85it/s]\n",
            "100%|██████████| 90/90 [00:18<00:00,  4.80it/s]\n",
            "  0%|          | 0/300 [00:00<?, ?it/s]\n",
            "Procesos train : 975:   1%|          | 2/300 [00:00<00:17, 16.86it/s]"
          ],
          "name": "stderr"
        },
        {
          "output_type": "stream",
          "text": [
            "loss_train: 5.39457545598348, loss_valid: 5.373320844438341 , acuraccy_train: 6.381158767257703, acuraccy_valid:8.506669586245133\n"
          ],
          "name": "stdout"
        },
        {
          "output_type": "stream",
          "text": [
            "Procesos train : 975: 100%|██████████| 300/300 [00:16<00:00, 18.30it/s]\n",
            "Procesos train : 975: 100%|██████████| 300/300 [00:16<00:00, 17.88it/s]\n",
            "100%|██████████| 90/90 [00:18<00:00,  4.80it/s]\n",
            "  0%|          | 0/300 [00:00<?, ?it/s]\n",
            "Procesos train : 976:   1%|          | 2/300 [00:00<00:18, 16.10it/s]"
          ],
          "name": "stderr"
        },
        {
          "output_type": "stream",
          "text": [
            "loss_train: 5.394575796127319, loss_valid: 5.373320817947388 , acuraccy_train: 6.381158767257704, acuraccy_valid:8.506669586245131\n"
          ],
          "name": "stdout"
        },
        {
          "output_type": "stream",
          "text": [
            "Procesos train : 976: 100%|██████████| 300/300 [00:16<00:00, 17.68it/s]\n",
            "Procesos train : 976: 100%|██████████| 300/300 [00:16<00:00, 17.80it/s]\n",
            "100%|██████████| 90/90 [00:19<00:00,  4.65it/s]\n",
            "  0%|          | 0/300 [00:00<?, ?it/s]\n",
            "Procesos train : 977:   1%|          | 2/300 [00:00<00:17, 17.06it/s]"
          ],
          "name": "stderr"
        },
        {
          "output_type": "stream",
          "text": [
            "loss_train: 5.394575411478678, loss_valid: 5.373320844438341 , acuraccy_train: 6.381158767257704, acuraccy_valid:8.506669586245131\n"
          ],
          "name": "stdout"
        },
        {
          "output_type": "stream",
          "text": [
            "Procesos train : 977: 100%|██████████| 300/300 [00:16<00:00, 17.90it/s]\n",
            "Procesos train : 977: 100%|██████████| 300/300 [00:16<00:00, 18.06it/s]\n",
            "100%|██████████| 90/90 [00:18<00:00,  4.83it/s]\n",
            "  0%|          | 0/300 [00:00<?, ?it/s]\n",
            "Procesos train : 978:   1%|          | 2/300 [00:00<00:17, 16.95it/s]"
          ],
          "name": "stderr"
        },
        {
          "output_type": "stream",
          "text": [
            "loss_train: 5.394575489362081, loss_valid: 5.373320844438341 , acuraccy_train: 6.381158767257701, acuraccy_valid:8.506669586245131\n"
          ],
          "name": "stdout"
        },
        {
          "output_type": "stream",
          "text": [
            "Procesos train : 978: 100%|██████████| 300/300 [00:17<00:00, 17.75it/s]\n",
            "Procesos train : 978: 100%|██████████| 300/300 [00:17<00:00, 17.31it/s]\n",
            "100%|██████████| 90/90 [00:19<00:00,  4.64it/s]\n",
            "  0%|          | 0/300 [00:00<?, ?it/s]\n",
            "Procesos train : 979:   1%|          | 2/300 [00:00<00:17, 17.23it/s]"
          ],
          "name": "stderr"
        },
        {
          "output_type": "stream",
          "text": [
            "loss_train: 5.39457558631897, loss_valid: 5.373320817947388 , acuraccy_train: 6.381158767257704, acuraccy_valid:8.50666958624513\n"
          ],
          "name": "stdout"
        },
        {
          "output_type": "stream",
          "text": [
            "Procesos train : 979: 100%|██████████| 300/300 [00:16<00:00, 18.39it/s]\n",
            "Procesos train : 979: 100%|██████████| 300/300 [00:16<00:00, 17.82it/s]\n",
            "100%|██████████| 90/90 [00:18<00:00,  4.79it/s]\n",
            "  0%|          | 0/300 [00:00<?, ?it/s]\n",
            "Procesos train : 980:   1%|          | 2/300 [00:00<00:16, 17.68it/s]"
          ],
          "name": "stderr"
        },
        {
          "output_type": "stream",
          "text": [
            "loss_train: 5.394575591087341, loss_valid: 5.373320791456434 , acuraccy_train: 6.3811587672577055, acuraccy_valid:8.506669586245133\n"
          ],
          "name": "stdout"
        },
        {
          "output_type": "stream",
          "text": [
            "Procesos train : 980: 100%|██████████| 300/300 [00:16<00:00, 11.27it/s]\n",
            "Procesos train : 980: 100%|██████████| 300/300 [00:16<00:00, 17.87it/s]\n",
            "100%|██████████| 90/90 [00:18<00:00,  4.80it/s]\n",
            "  0%|          | 0/300 [00:00<?, ?it/s]\n",
            "Procesos train : 981:   1%|          | 2/300 [00:00<00:17, 16.91it/s]"
          ],
          "name": "stderr"
        },
        {
          "output_type": "stream",
          "text": [
            "loss_train: 5.39457812945048, loss_valid: 5.373320791456434 , acuraccy_train: 6.381158767257706, acuraccy_valid:8.50666958624513\n"
          ],
          "name": "stdout"
        },
        {
          "output_type": "stream",
          "text": [
            "Procesos train : 981: 100%|██████████| 300/300 [00:17<00:00, 18.12it/s]\n",
            "Procesos train : 981: 100%|██████████| 300/300 [00:17<00:00, 17.32it/s]\n",
            "100%|██████████| 90/90 [00:19<00:00,  4.65it/s]\n",
            "  0%|          | 0/300 [00:00<?, ?it/s]\n",
            "Procesos train : 982:   1%|          | 2/300 [00:00<00:17, 16.71it/s]"
          ],
          "name": "stderr"
        },
        {
          "output_type": "stream",
          "text": [
            "loss_train: 5.394654496510824, loss_valid: 5.373336686028375 , acuraccy_train: 6.375043981422417, acuraccy_valid:8.506669586245131\n"
          ],
          "name": "stdout"
        },
        {
          "output_type": "stream",
          "text": [
            "Procesos train : 982: 100%|██████████| 300/300 [00:17<00:00, 18.34it/s]\n",
            "Procesos train : 982: 100%|██████████| 300/300 [00:17<00:00, 17.59it/s]\n",
            "100%|██████████| 90/90 [00:18<00:00,  4.74it/s]\n",
            "  0%|          | 0/300 [00:00<?, ?it/s]\n",
            "Procesos train : 983:   1%|          | 2/300 [00:00<00:16, 17.56it/s]"
          ],
          "name": "stderr"
        },
        {
          "output_type": "stream",
          "text": [
            "loss_train: 5.3946066633860275, loss_valid: 5.373320764965481 , acuraccy_train: 6.381158767257706, acuraccy_valid:8.506669586245131\n"
          ],
          "name": "stdout"
        },
        {
          "output_type": "stream",
          "text": [
            "Procesos train : 983: 100%|██████████| 300/300 [00:16<00:00, 18.34it/s]\n",
            "Procesos train : 983: 100%|██████████| 300/300 [00:16<00:00, 17.88it/s]\n",
            "100%|██████████| 90/90 [00:18<00:00,  4.80it/s]\n",
            "  0%|          | 0/300 [00:00<?, ?it/s]\n",
            "Procesos train : 984:   1%|          | 2/300 [00:00<00:17, 16.84it/s]"
          ],
          "name": "stderr"
        },
        {
          "output_type": "stream",
          "text": [
            "loss_train: 5.394537254969279, loss_valid: 5.374481015735203 , acuraccy_train: 6.384677216651475, acuraccy_valid:8.506669586245131\n"
          ],
          "name": "stdout"
        },
        {
          "output_type": "stream",
          "text": [
            "Procesos train : 984: 100%|██████████| 300/300 [00:16<00:00, 17.73it/s]\n",
            "Procesos train : 984: 100%|██████████| 300/300 [00:16<00:00, 17.72it/s]\n",
            "100%|██████████| 90/90 [00:18<00:00,  4.75it/s]\n",
            "  0%|          | 0/300 [00:00<?, ?it/s]\n",
            "Procesos train : 985:   1%|          | 2/300 [00:00<00:17, 16.61it/s]"
          ],
          "name": "stderr"
        },
        {
          "output_type": "stream",
          "text": [
            "loss_train: 5.394763216972351, loss_valid: 5.373324659135607 , acuraccy_train: 6.36540329667951, acuraccy_valid:8.506669586245131\n"
          ],
          "name": "stdout"
        },
        {
          "output_type": "stream",
          "text": [
            "Procesos train : 985: 100%|██████████| 300/300 [00:16<00:00, 17.77it/s]\n",
            "Procesos train : 985: 100%|██████████| 300/300 [00:16<00:00, 17.80it/s]\n",
            "100%|██████████| 90/90 [00:19<00:00,  4.67it/s]\n",
            "  0%|          | 0/300 [00:00<?, ?it/s]\n",
            "Procesos train : 986:   1%|          | 2/300 [00:00<00:17, 17.18it/s]"
          ],
          "name": "stderr"
        },
        {
          "output_type": "stream",
          "text": [
            "loss_train: 5.394756528536479, loss_valid: 5.373391495810615 , acuraccy_train: 6.369027619716718, acuraccy_valid:8.50666958624513\n"
          ],
          "name": "stdout"
        },
        {
          "output_type": "stream",
          "text": [
            "Procesos train : 986: 100%|██████████| 300/300 [00:16<00:00, 18.33it/s]\n",
            "Procesos train : 986: 100%|██████████| 300/300 [00:16<00:00, 18.38it/s]\n",
            "100%|██████████| 90/90 [00:18<00:00,  4.92it/s]\n",
            "  0%|          | 0/300 [00:00<?, ?it/s]\n",
            "Procesos train : 987:   1%|          | 2/300 [00:00<00:17, 17.10it/s]"
          ],
          "name": "stderr"
        },
        {
          "output_type": "stream",
          "text": [
            "loss_train: 5.394596581459045, loss_valid: 5.373323996861775 , acuraccy_train: 6.381158767257706, acuraccy_valid:8.506669586245131\n"
          ],
          "name": "stdout"
        },
        {
          "output_type": "stream",
          "text": [
            "Procesos train : 987: 100%|██████████| 300/300 [00:16<00:00, 18.22it/s]\n",
            "Procesos train : 987: 100%|██████████| 300/300 [00:16<00:00, 17.83it/s]\n",
            "100%|██████████| 90/90 [00:18<00:00,  4.79it/s]\n",
            "  0%|          | 0/300 [00:00<?, ?it/s]\n",
            "Procesos train : 988:   1%|          | 2/300 [00:00<00:17, 17.29it/s]"
          ],
          "name": "stderr"
        },
        {
          "output_type": "stream",
          "text": [
            "loss_train: 5.3947466850280765, loss_valid: 5.373323122660319 , acuraccy_train: 6.372386837433145, acuraccy_valid:8.506669586245131\n"
          ],
          "name": "stdout"
        },
        {
          "output_type": "stream",
          "text": [
            "Procesos train : 988: 100%|██████████| 300/300 [00:17<00:00, 17.42it/s]\n",
            "Procesos train : 988: 100%|██████████| 300/300 [00:17<00:00, 17.32it/s]\n",
            "100%|██████████| 90/90 [00:19<00:00,  4.65it/s]\n",
            "  0%|          | 0/300 [00:00<?, ?it/s]\n",
            "Procesos train : 989:   1%|          | 2/300 [00:00<00:18, 16.29it/s]"
          ],
          "name": "stderr"
        },
        {
          "output_type": "stream",
          "text": [
            "loss_train: 5.395099579493205, loss_valid: 5.369097608990139 , acuraccy_train: 6.257643355227667, acuraccy_valid:8.970859892431664\n"
          ],
          "name": "stdout"
        },
        {
          "output_type": "stream",
          "text": [
            "Procesos train : 989: 100%|██████████| 300/300 [00:17<00:00,  9.57it/s]\n",
            "Procesos train : 989: 100%|██████████| 300/300 [00:17<00:00, 17.32it/s]\n",
            "100%|██████████| 90/90 [00:19<00:00,  4.67it/s]\n",
            "  0%|          | 0/300 [00:00<?, ?it/s]\n",
            "Procesos train : 990:   1%|          | 2/300 [00:00<00:17, 16.90it/s]"
          ],
          "name": "stderr"
        },
        {
          "output_type": "stream",
          "text": [
            "loss_train: 5.397346680959066, loss_valid: 5.368867333730062 , acuraccy_train: 6.005477164039143, acuraccy_valid:8.970859892431664\n"
          ],
          "name": "stdout"
        },
        {
          "output_type": "stream",
          "text": [
            "Procesos train : 990: 100%|██████████| 300/300 [00:16<00:00, 18.54it/s]\n",
            "Procesos train : 990: 100%|██████████| 300/300 [00:16<00:00, 18.33it/s]\n",
            "100%|██████████| 90/90 [00:18<00:00,  4.91it/s]\n",
            "  0%|          | 0/300 [00:00<?, ?it/s]\n",
            "Procesos train : 991:   1%|          | 2/300 [00:00<00:16, 17.80it/s]"
          ],
          "name": "stderr"
        },
        {
          "output_type": "stream",
          "text": [
            "loss_train: 5.3946434720357255, loss_valid: 5.368626742892795 , acuraccy_train: 6.210697854564816, acuraccy_valid:8.970859892431664\n"
          ],
          "name": "stdout"
        },
        {
          "output_type": "stream",
          "text": [
            "Procesos train : 991: 100%|██████████| 300/300 [00:16<00:00, 17.95it/s]\n",
            "Procesos train : 991: 100%|██████████| 300/300 [00:16<00:00, 17.66it/s]\n",
            "100%|██████████| 90/90 [00:19<00:00,  4.73it/s]\n",
            "  0%|          | 0/300 [00:00<?, ?it/s]\n",
            "Procesos train : 992:   1%|          | 2/300 [00:00<00:17, 16.81it/s]"
          ],
          "name": "stderr"
        },
        {
          "output_type": "stream",
          "text": [
            "loss_train: 5.346062847773234, loss_valid: 5.283613787757026 , acuraccy_train: 11.250456484546643, acuraccy_valid:17.477529478676797\n"
          ],
          "name": "stdout"
        },
        {
          "output_type": "stream",
          "text": [
            "Procesos train : 992: 100%|██████████| 300/300 [00:17<00:00, 18.24it/s]\n",
            "Procesos train : 992: 100%|██████████| 300/300 [00:17<00:00, 17.31it/s]\n",
            "100%|██████████| 90/90 [00:19<00:00,  4.67it/s]\n",
            "  0%|          | 0/300 [00:00<?, ?it/s]\n",
            "Procesos train : 993:   1%|          | 2/300 [00:00<00:16, 17.65it/s]"
          ],
          "name": "stderr"
        },
        {
          "output_type": "stream",
          "text": [
            "loss_train: 5.328269104957581, loss_valid: 5.354246536890666 , acuraccy_train: 13.037181451144924, acuraccy_valid:9.985862492562786\n"
          ],
          "name": "stdout"
        },
        {
          "output_type": "stream",
          "text": [
            "Procesos train : 993: 100%|██████████| 300/300 [00:16<00:00, 18.48it/s]\n",
            "Procesos train : 993: 100%|██████████| 300/300 [00:16<00:00, 17.82it/s]\n",
            "100%|██████████| 90/90 [00:18<00:00,  4.79it/s]\n",
            "  0%|          | 0/300 [00:00<?, ?it/s]\n",
            "Procesos train : 994:   1%|          | 2/300 [00:00<00:17, 17.49it/s]"
          ],
          "name": "stderr"
        },
        {
          "output_type": "stream",
          "text": [
            "loss_train: 5.3241874710718795, loss_valid: 5.272165722317165 , acuraccy_train: 13.436432571775109, acuraccy_valid:18.624807211083056\n"
          ],
          "name": "stdout"
        },
        {
          "output_type": "stream",
          "text": [
            "Procesos train : 994: 100%|██████████| 300/300 [00:16<00:00, 18.63it/s]\n",
            "Procesos train : 994: 100%|██████████| 300/300 [00:16<00:00, 18.36it/s]\n",
            "100%|██████████| 90/90 [00:18<00:00,  4.80it/s]\n",
            "  0%|          | 0/300 [00:00<?, ?it/s]\n",
            "Procesos train : 995:   1%|          | 2/300 [00:00<00:17, 17.39it/s]"
          ],
          "name": "stderr"
        },
        {
          "output_type": "stream",
          "text": [
            "loss_train: 5.31393546740214, loss_valid: 5.272149112489489 , acuraccy_train: 14.456179041090673, acuraccy_valid:18.62480721108305\n"
          ],
          "name": "stdout"
        },
        {
          "output_type": "stream",
          "text": [
            "Procesos train : 995: 100%|██████████| 300/300 [00:16<00:00, 17.93it/s]\n",
            "Procesos train : 995: 100%|██████████| 300/300 [00:16<00:00, 17.87it/s]\n",
            "100%|██████████| 90/90 [00:18<00:00,  4.78it/s]\n",
            "  0%|          | 0/300 [00:00<?, ?it/s]\n",
            "Procesos train : 996:   1%|          | 2/300 [00:00<00:17, 17.06it/s]"
          ],
          "name": "stderr"
        },
        {
          "output_type": "stream",
          "text": [
            "loss_train: 5.392109416325887, loss_valid: 5.368678914176093 , acuraccy_train: 6.606196756022317, acuraccy_valid:8.970859892431665\n"
          ],
          "name": "stdout"
        },
        {
          "output_type": "stream",
          "text": [
            "Procesos train : 996: 100%|██████████| 300/300 [00:17<00:00, 17.70it/s]\n",
            "Procesos train : 996: 100%|██████████| 300/300 [00:17<00:00, 17.57it/s]\n",
            "100%|██████████| 90/90 [00:19<00:00,  4.71it/s]\n",
            "  0%|          | 0/300 [00:00<?, ?it/s]\n",
            "Procesos train : 997:   1%|          | 2/300 [00:00<00:18, 16.34it/s]"
          ],
          "name": "stderr"
        },
        {
          "output_type": "stream",
          "text": [
            "loss_train: 5.392012887001037, loss_valid: 5.434416347079807 , acuraccy_train: 6.623879875396072, acuraccy_valid:2.3971267177248823\n"
          ],
          "name": "stdout"
        },
        {
          "output_type": "stream",
          "text": [
            "Procesos train : 997: 100%|██████████| 300/300 [00:17<00:00, 17.98it/s]\n",
            "Procesos train : 997: 100%|██████████| 300/300 [00:17<00:00, 17.28it/s]\n",
            "100%|██████████| 90/90 [00:19<00:00,  4.64it/s]\n",
            "  0%|          | 0/300 [00:00<?, ?it/s]\n",
            "Procesos train : 998:   1%|          | 2/300 [00:00<00:17, 17.17it/s]"
          ],
          "name": "stderr"
        },
        {
          "output_type": "stream",
          "text": [
            "loss_train: 5.389903583526611, loss_valid: 5.368678914176093 , acuraccy_train: 6.833804626187384, acuraccy_valid:8.970859892431664\n"
          ],
          "name": "stdout"
        },
        {
          "output_type": "stream",
          "text": [
            "Procesos train : 998: 100%|██████████| 300/300 [00:16<00:00, 18.48it/s]\n",
            "Procesos train : 998: 100%|██████████| 300/300 [00:16<00:00, 18.31it/s]\n",
            "100%|██████████| 90/90 [00:18<00:00,  4.78it/s]\n",
            "  0%|          | 0/300 [00:00<?, ?it/s]\n",
            "Procesos train : 999:   1%|          | 2/300 [00:00<00:18, 16.36it/s]"
          ],
          "name": "stderr"
        },
        {
          "output_type": "stream",
          "text": [
            "loss_train: 5.387575092315674, loss_valid: 5.434415287441677 , acuraccy_train: 7.060900601066122, acuraccy_valid:2.397126717724882\n"
          ],
          "name": "stdout"
        },
        {
          "output_type": "stream",
          "text": [
            "Procesos train : 999: 100%|██████████| 300/300 [00:16<00:00, 18.43it/s]\n",
            "Procesos train : 999: 100%|██████████| 300/300 [00:16<00:00, 18.37it/s]\n",
            "100%|██████████| 90/90 [00:18<00:00,  4.92it/s]\n",
            "  0%|          | 0/300 [00:00<?, ?it/s]\n",
            "Procesos train : 1000:   1%|          | 2/300 [00:00<00:17, 16.93it/s]"
          ],
          "name": "stderr"
        },
        {
          "output_type": "stream",
          "text": [
            "loss_train: 5.380986920992533, loss_valid: 5.434416320588854 , acuraccy_train: 7.7347971219838625, acuraccy_valid:2.3971267177248827\n"
          ],
          "name": "stdout"
        },
        {
          "output_type": "stream",
          "text": [
            "Procesos train : 1000: 100%|██████████| 300/300 [00:17<00:00, 17.81it/s]\n",
            "Procesos train : 1000: 100%|██████████| 300/300 [00:17<00:00, 17.47it/s]\n",
            "100%|██████████| 90/90 [00:19<00:00,  4.69it/s]\n",
            "  0%|          | 0/300 [00:00<?, ?it/s]\n",
            "Procesos train : 1001:   1%|          | 2/300 [00:00<00:17, 16.56it/s]"
          ],
          "name": "stderr"
        },
        {
          "output_type": "stream",
          "text": [
            "loss_train: 5.380432747205099, loss_valid: 5.434416347079807 , acuraccy_train: 7.799137971983715, acuraccy_valid:2.397126717724883\n"
          ],
          "name": "stdout"
        },
        {
          "output_type": "stream",
          "text": [
            "Procesos train : 1001: 100%|██████████| 300/300 [00:17<00:00, 18.48it/s]\n",
            "Procesos train : 1001: 100%|██████████| 300/300 [00:17<00:00, 16.97it/s]\n",
            "100%|██████████| 90/90 [00:19<00:00,  4.58it/s]\n",
            "  0%|          | 0/300 [00:00<?, ?it/s]\n",
            "Procesos train : 1002:   1%|          | 2/300 [00:00<00:17, 17.26it/s]"
          ],
          "name": "stderr"
        },
        {
          "output_type": "stream",
          "text": [
            "loss_train: 5.386362946828206, loss_valid: 5.434416347079807 , acuraccy_train: 7.2321860086690375, acuraccy_valid:2.3971267177248823\n"
          ],
          "name": "stdout"
        },
        {
          "output_type": "stream",
          "text": [
            "Procesos train : 1002: 100%|██████████| 300/300 [00:16<00:00, 18.16it/s]\n",
            "Procesos train : 1002: 100%|██████████| 300/300 [00:16<00:00, 17.75it/s]\n",
            "100%|██████████| 90/90 [00:18<00:00,  4.77it/s]\n",
            "  0%|          | 0/300 [00:00<?, ?it/s]\n",
            "Procesos train : 1003:   1%|          | 2/300 [00:00<00:16, 17.66it/s]"
          ],
          "name": "stderr"
        },
        {
          "output_type": "stream",
          "text": [
            "loss_train: 5.38814419746399, loss_valid: 5.434416347079807 , acuraccy_train: 7.022114709327908, acuraccy_valid:2.397126717724883\n"
          ],
          "name": "stdout"
        },
        {
          "output_type": "stream",
          "text": [
            "Procesos train : 1003: 100%|██████████| 300/300 [00:16<00:00, 17.77it/s]\n",
            "Procesos train : 1003: 100%|██████████| 300/300 [00:16<00:00, 18.25it/s]\n",
            "100%|██████████| 90/90 [00:18<00:00,  4.75it/s]\n",
            "  0%|          | 0/300 [00:00<?, ?it/s]\n",
            "Procesos train : 1004:   1%|          | 2/300 [00:00<00:17, 16.64it/s]"
          ],
          "name": "stderr"
        },
        {
          "output_type": "stream",
          "text": [
            "loss_train: 5.379040406545003, loss_valid: 5.434416347079807 , acuraccy_train: 7.951214801396136, acuraccy_valid:2.397126717724883\n"
          ],
          "name": "stdout"
        },
        {
          "output_type": "stream",
          "text": [
            "Procesos train : 1004: 100%|██████████| 300/300 [00:16<00:00, 17.61it/s]\n",
            "Procesos train : 1004: 100%|██████████| 300/300 [00:16<00:00, 17.77it/s]\n",
            "100%|██████████| 90/90 [00:18<00:00,  4.76it/s]\n",
            "  0%|          | 0/300 [00:00<?, ?it/s]\n",
            "Procesos train : 1005:   1%|          | 2/300 [00:00<00:18, 16.16it/s]"
          ],
          "name": "stderr"
        },
        {
          "output_type": "stream",
          "text": [
            "loss_train: 5.379217414855957, loss_valid: 5.434416347079807 , acuraccy_train: 7.912776266944865, acuraccy_valid:2.3971267177248823\n"
          ],
          "name": "stdout"
        },
        {
          "output_type": "stream",
          "text": [
            "Procesos train : 1005: 100%|██████████| 300/300 [00:16<00:00, 18.51it/s]\n",
            "Procesos train : 1005: 100%|██████████| 300/300 [00:16<00:00, 17.70it/s]\n",
            "100%|██████████| 90/90 [00:18<00:00,  4.76it/s]\n",
            "  0%|          | 0/300 [00:00<?, ?it/s]\n",
            "Procesos train : 1006:   1%|          | 2/300 [00:00<00:16, 17.54it/s]"
          ],
          "name": "stderr"
        },
        {
          "output_type": "stream",
          "text": [
            "loss_train: 5.378309634526571, loss_valid: 5.434416347079807 , acuraccy_train: 8.012835249115124, acuraccy_valid:2.3971267177248823\n"
          ],
          "name": "stdout"
        },
        {
          "output_type": "stream",
          "text": [
            "Procesos train : 1006: 100%|██████████| 300/300 [00:16<00:00, 18.47it/s]\n",
            "Procesos train : 1006: 100%|██████████| 300/300 [00:16<00:00, 17.80it/s]\n",
            "100%|██████████| 90/90 [00:18<00:00,  4.78it/s]\n",
            "  0%|          | 0/300 [00:00<?, ?it/s]\n",
            "Procesos train : 1007:   1%|          | 2/300 [00:00<00:17, 17.39it/s]"
          ],
          "name": "stderr"
        },
        {
          "output_type": "stream",
          "text": [
            "loss_train: 5.375176852544149, loss_valid: 5.434416347079807 , acuraccy_train: 8.326828387523044, acuraccy_valid:2.397126717724883\n"
          ],
          "name": "stdout"
        },
        {
          "output_type": "stream",
          "text": [
            "Procesos train : 1007: 100%|██████████| 300/300 [00:16<00:00, 17.90it/s]\n",
            "Procesos train : 1007: 100%|██████████| 300/300 [00:16<00:00, 17.87it/s]\n",
            "100%|██████████| 90/90 [00:19<00:00,  4.66it/s]\n",
            "  0%|          | 0/300 [00:00<?, ?it/s]\n",
            "Procesos train : 1008:   1%|          | 2/300 [00:00<00:17, 17.33it/s]"
          ],
          "name": "stderr"
        },
        {
          "output_type": "stream",
          "text": [
            "loss_train: 5.376338170369466, loss_valid: 5.434416347079807 , acuraccy_train: 8.161695089728845, acuraccy_valid:2.397126717724883\n"
          ],
          "name": "stdout"
        },
        {
          "output_type": "stream",
          "text": [
            "Procesos train : 1008: 100%|██████████| 300/300 [00:16<00:00, 18.65it/s]\n",
            "Procesos train : 1008: 100%|██████████| 300/300 [00:16<00:00, 18.01it/s]\n",
            "100%|██████████| 90/90 [00:18<00:00,  4.84it/s]\n",
            "  0%|          | 0/300 [00:00<?, ?it/s]\n",
            "Procesos train : 1009:   1%|          | 2/300 [00:00<00:17, 16.92it/s]"
          ],
          "name": "stderr"
        },
        {
          "output_type": "stream",
          "text": [
            "loss_train: 5.3791921154658, loss_valid: 5.434416347079807 , acuraccy_train: 7.94308786369445, acuraccy_valid:2.3971267177248823\n"
          ],
          "name": "stdout"
        },
        {
          "output_type": "stream",
          "text": [
            "Procesos train : 1009: 100%|██████████| 300/300 [00:16<00:00, 18.50it/s]\n",
            "Procesos train : 1009: 100%|██████████| 300/300 [00:16<00:00, 17.77it/s]\n",
            "100%|██████████| 90/90 [00:18<00:00,  4.78it/s]\n",
            "  0%|          | 0/300 [00:00<?, ?it/s]\n",
            "Procesos train : 1010:   1%|          | 2/300 [00:00<00:17, 17.24it/s]"
          ],
          "name": "stderr"
        },
        {
          "output_type": "stream",
          "text": [
            "loss_train: 5.3804329427083335, loss_valid: 5.434416347079807 , acuraccy_train: 7.759686748599445, acuraccy_valid:2.3971267177248823\n"
          ],
          "name": "stdout"
        },
        {
          "output_type": "stream",
          "text": [
            "Procesos train : 1010: 100%|██████████| 300/300 [00:16<00:00, 17.89it/s]\n",
            "Procesos train : 1010: 100%|██████████| 300/300 [00:16<00:00, 17.69it/s]\n",
            "100%|██████████| 90/90 [00:18<00:00,  4.74it/s]\n",
            "  0%|          | 0/300 [00:00<?, ?it/s]\n",
            "Procesos train : 1011:   1%|          | 2/300 [00:00<00:18, 16.40it/s]"
          ],
          "name": "stderr"
        },
        {
          "output_type": "stream",
          "text": [
            "loss_train: 5.379147702852885, loss_valid: 5.434416347079807 , acuraccy_train: 7.929277545430083, acuraccy_valid:2.3971267177248827\n"
          ],
          "name": "stdout"
        },
        {
          "output_type": "stream",
          "text": [
            "Procesos train : 1011: 100%|██████████| 300/300 [00:17<00:00, 17.64it/s]\n",
            "Procesos train : 1011: 100%|██████████| 300/300 [00:17<00:00, 17.25it/s]\n",
            "100%|██████████| 90/90 [00:19<00:00,  4.64it/s]\n",
            "  0%|          | 0/300 [00:00<?, ?it/s]\n",
            "Procesos train : 1012:   1%|          | 2/300 [00:00<00:17, 16.96it/s]"
          ],
          "name": "stderr"
        },
        {
          "output_type": "stream",
          "text": [
            "loss_train: 5.37938602288564, loss_valid: 5.434416347079807 , acuraccy_train: 7.915753680212035, acuraccy_valid:2.3971267177248823\n"
          ],
          "name": "stdout"
        },
        {
          "output_type": "stream",
          "text": [
            "Procesos train : 1012: 100%|██████████| 300/300 [00:16<00:00, 17.83it/s]\n",
            "Procesos train : 1012: 100%|██████████| 300/300 [00:16<00:00, 18.00it/s]\n",
            "100%|██████████| 90/90 [00:18<00:00,  4.81it/s]\n",
            "  0%|          | 0/300 [00:00<?, ?it/s]\n",
            "Procesos train : 1013:   1%|          | 2/300 [00:00<00:18, 16.46it/s]"
          ],
          "name": "stderr"
        },
        {
          "output_type": "stream",
          "text": [
            "loss_train: 5.375377257664998, loss_valid: 5.434416347079807 , acuraccy_train: 8.329278304796164, acuraccy_valid:2.397126717724883\n"
          ],
          "name": "stdout"
        },
        {
          "output_type": "stream",
          "text": [
            "Procesos train : 1013: 100%|██████████| 300/300 [00:17<00:00, 18.41it/s]\n",
            "Procesos train : 1013: 100%|██████████| 300/300 [00:17<00:00, 17.29it/s]\n",
            "100%|██████████| 90/90 [00:19<00:00,  4.66it/s]\n",
            "  0%|          | 0/300 [00:00<?, ?it/s]\n",
            "Procesos train : 1014:   1%|          | 2/300 [00:00<00:16, 17.86it/s]"
          ],
          "name": "stderr"
        },
        {
          "output_type": "stream",
          "text": [
            "loss_train: 5.376536010106404, loss_valid: 5.433059353298611 , acuraccy_train: 8.173484679716, acuraccy_valid:2.3971267177248827\n"
          ],
          "name": "stdout"
        },
        {
          "output_type": "stream",
          "text": [
            "Procesos train : 1014: 100%|██████████| 300/300 [00:16<00:00, 18.25it/s]\n",
            "Procesos train : 1014: 100%|██████████| 300/300 [00:16<00:00, 17.80it/s]\n",
            "100%|██████████| 90/90 [00:18<00:00,  4.78it/s]\n",
            "  0%|          | 0/300 [00:00<?, ?it/s]\n",
            "Procesos train : 1015:   1%|          | 2/300 [00:00<00:17, 17.21it/s]"
          ],
          "name": "stderr"
        },
        {
          "output_type": "stream",
          "text": [
            "loss_train: 5.371082361539205, loss_valid: 5.434416347079807 , acuraccy_train: 8.738675586476738, acuraccy_valid:2.397126717724882\n"
          ],
          "name": "stdout"
        },
        {
          "output_type": "stream",
          "text": [
            "Procesos train : 1015: 100%|██████████| 300/300 [00:16<00:00, 18.22it/s]\n",
            "Procesos train : 1015: 100%|██████████| 300/300 [00:16<00:00, 17.74it/s]\n",
            "100%|██████████| 90/90 [00:18<00:00,  4.75it/s]\n",
            "  0%|          | 0/300 [00:00<?, ?it/s]\n",
            "Procesos train : 1016:   1%|          | 2/300 [00:00<00:17, 16.66it/s]"
          ],
          "name": "stderr"
        },
        {
          "output_type": "stream",
          "text": [
            "loss_train: 5.383337198893229, loss_valid: 5.434416347079807 , acuraccy_train: 7.488514665121728, acuraccy_valid:2.3971267177248836\n"
          ],
          "name": "stdout"
        },
        {
          "output_type": "stream",
          "text": [
            "Procesos train : 1016: 100%|██████████| 300/300 [00:16<00:00, 17.82it/s]\n",
            "Procesos train : 1016: 100%|██████████| 300/300 [00:16<00:00, 17.77it/s]\n",
            "100%|██████████| 90/90 [00:19<00:00,  4.64it/s]\n",
            "  0%|          | 0/300 [00:00<?, ?it/s]\n",
            "Procesos train : 1017:   1%|          | 2/300 [00:00<00:18, 15.94it/s]"
          ],
          "name": "stderr"
        },
        {
          "output_type": "stream",
          "text": [
            "loss_train: 5.375642088254293, loss_valid: 5.434416347079807 , acuraccy_train: 8.281236399254183, acuraccy_valid:2.3971267177248827\n"
          ],
          "name": "stdout"
        },
        {
          "output_type": "stream",
          "text": [
            "Procesos train : 1017: 100%|██████████| 300/300 [00:16<00:00, 18.28it/s]\n",
            "Procesos train : 1017: 100%|██████████| 300/300 [00:16<00:00, 18.16it/s]\n",
            "100%|██████████| 90/90 [00:18<00:00,  4.87it/s]\n",
            "  0%|          | 0/300 [00:00<?, ?it/s]\n",
            "Procesos train : 1018:   1%|          | 2/300 [00:00<00:17, 17.17it/s]"
          ],
          "name": "stderr"
        },
        {
          "output_type": "stream",
          "text": [
            "loss_train: 5.376606529553731, loss_valid: 5.434416347079807 , acuraccy_train: 8.181069267753468, acuraccy_valid:2.3971267177248823\n"
          ],
          "name": "stdout"
        },
        {
          "output_type": "stream",
          "text": [
            "Procesos train : 1018: 100%|██████████| 300/300 [00:16<00:00, 18.13it/s]\n",
            "Procesos train : 1018: 100%|██████████| 300/300 [00:16<00:00, 17.74it/s]\n",
            "100%|██████████| 90/90 [00:18<00:00,  4.77it/s]\n",
            "  0%|          | 0/300 [00:00<?, ?it/s]\n",
            "Procesos train : 1019:   1%|          | 2/300 [00:00<00:18, 16.40it/s]"
          ],
          "name": "stderr"
        },
        {
          "output_type": "stream",
          "text": [
            "loss_train: 5.3761422109603885, loss_valid: 5.434416347079807 , acuraccy_train: 8.242452553936522, acuraccy_valid:2.3971267177248823\n"
          ],
          "name": "stdout"
        },
        {
          "output_type": "stream",
          "text": [
            "Procesos train : 1019: 100%|██████████| 300/300 [00:17<00:00, 17.64it/s]\n",
            "Procesos train : 1019: 100%|██████████| 300/300 [00:17<00:00, 17.42it/s]\n",
            "100%|██████████| 90/90 [00:19<00:00,  4.67it/s]\n",
            "  0%|          | 0/300 [00:00<?, ?it/s]\n",
            "Procesos train : 1020:   1%|          | 2/300 [00:00<00:19, 15.64it/s]"
          ],
          "name": "stderr"
        },
        {
          "output_type": "stream",
          "text": [
            "loss_train: 5.379580553372701, loss_valid: 5.434416347079807 , acuraccy_train: 7.882185329546715, acuraccy_valid:2.397126717724882\n"
          ],
          "name": "stdout"
        },
        {
          "output_type": "stream",
          "text": [
            "Procesos train : 1020: 100%|██████████| 300/300 [00:17<00:00, 10.85it/s]\n",
            "Procesos train : 1020: 100%|██████████| 300/300 [00:17<00:00, 17.31it/s]\n",
            "100%|██████████| 90/90 [00:19<00:00,  4.66it/s]\n",
            "  0%|          | 0/300 [00:00<?, ?it/s]\n",
            "Procesos train : 1021:   1%|          | 2/300 [00:00<00:17, 16.71it/s]"
          ],
          "name": "stderr"
        },
        {
          "output_type": "stream",
          "text": [
            "loss_train: 5.378259638150533, loss_valid: 5.434416347079807 , acuraccy_train: 8.010456172105908, acuraccy_valid:2.3971267177248823\n"
          ],
          "name": "stdout"
        },
        {
          "output_type": "stream",
          "text": [
            "Procesos train : 1021: 100%|██████████| 300/300 [00:17<00:00, 18.28it/s]\n",
            "Procesos train : 1021: 100%|██████████| 300/300 [00:17<00:00, 17.58it/s]\n",
            "100%|██████████| 90/90 [00:19<00:00,  4.69it/s]\n",
            "  0%|          | 0/300 [00:00<?, ?it/s]\n",
            "Procesos train : 1022:   1%|          | 2/300 [00:00<00:17, 17.30it/s]"
          ],
          "name": "stderr"
        },
        {
          "output_type": "stream",
          "text": [
            "loss_train: 5.382356584866842, loss_valid: 5.434416347079807 , acuraccy_train: 7.589890917460192, acuraccy_valid:2.3971267177248823\n"
          ],
          "name": "stdout"
        },
        {
          "output_type": "stream",
          "text": [
            "Procesos train : 1022: 100%|██████████| 300/300 [00:17<00:00, 17.36it/s]\n",
            "Procesos train : 1022: 100%|██████████| 300/300 [00:17<00:00, 17.40it/s]\n",
            "100%|██████████| 90/90 [00:19<00:00,  4.66it/s]\n",
            "  0%|          | 0/300 [00:00<?, ?it/s]\n",
            "Procesos train : 1023:   1%|          | 2/300 [00:00<00:18, 16.02it/s]"
          ],
          "name": "stderr"
        },
        {
          "output_type": "stream",
          "text": [
            "loss_train: 5.380185680389404, loss_valid: 5.434416347079807 , acuraccy_train: 7.716956988753225, acuraccy_valid:2.3971267177248823\n"
          ],
          "name": "stdout"
        },
        {
          "output_type": "stream",
          "text": [
            "Procesos train : 1023: 100%|██████████| 300/300 [00:17<00:00, 17.43it/s]\n",
            "Procesos train : 1023: 100%|██████████| 300/300 [00:17<00:00, 16.80it/s]\n",
            "100%|██████████| 90/90 [00:19<00:00,  4.51it/s]\n",
            "  0%|          | 0/300 [00:00<?, ?it/s]\n",
            "Procesos train : 1024:   1%|          | 2/300 [00:00<00:18, 16.18it/s]"
          ],
          "name": "stderr"
        },
        {
          "output_type": "stream",
          "text": [
            "loss_train: 5.377056220372518, loss_valid: 5.434416347079807 , acuraccy_train: 8.115511469989633, acuraccy_valid:2.3971267177248827\n"
          ],
          "name": "stdout"
        },
        {
          "output_type": "stream",
          "text": [
            "Procesos train : 1024: 100%|██████████| 300/300 [00:17<00:00, 18.08it/s]\n",
            "Procesos train : 1024: 100%|██████████| 300/300 [00:17<00:00, 17.64it/s]\n",
            "100%|██████████| 90/90 [00:18<00:00,  4.75it/s]\n",
            "  0%|          | 0/300 [00:00<?, ?it/s]\n",
            "Procesos train : 1025:   1%|          | 2/300 [00:00<00:17, 16.72it/s]"
          ],
          "name": "stderr"
        },
        {
          "output_type": "stream",
          "text": [
            "loss_train: 5.375948065121968, loss_valid: 5.434416347079807 , acuraccy_train: 8.24086339343187, acuraccy_valid:2.397126717724883\n"
          ],
          "name": "stdout"
        },
        {
          "output_type": "stream",
          "text": [
            "Procesos train : 1025: 100%|██████████| 300/300 [00:16<00:00, 18.22it/s]\n",
            "Procesos train : 1025: 100%|██████████| 300/300 [00:16<00:00, 18.20it/s]\n",
            "100%|██████████| 90/90 [00:18<00:00,  4.88it/s]\n",
            "  0%|          | 0/300 [00:00<?, ?it/s]\n",
            "Procesos train : 1026:   1%|          | 2/300 [00:00<00:17, 16.63it/s]"
          ],
          "name": "stderr"
        },
        {
          "output_type": "stream",
          "text": [
            "loss_train: 5.375692114830017, loss_valid: 5.434416347079807 , acuraccy_train: 8.222175972899743, acuraccy_valid:2.3971267177248827\n"
          ],
          "name": "stdout"
        },
        {
          "output_type": "stream",
          "text": [
            "Procesos train : 1026: 100%|██████████| 300/300 [00:17<00:00, 18.04it/s]\n",
            "Procesos train : 1026: 100%|██████████| 300/300 [00:17<00:00, 17.30it/s]\n",
            "100%|██████████| 90/90 [00:19<00:00,  4.65it/s]\n",
            "  0%|          | 0/300 [00:00<?, ?it/s]\n",
            "Procesos train : 1027:   1%|          | 2/300 [00:00<00:18, 15.97it/s]"
          ],
          "name": "stderr"
        },
        {
          "output_type": "stream",
          "text": [
            "loss_train: 5.379049404462179, loss_valid: 5.434416347079807 , acuraccy_train: 7.913164096923682, acuraccy_valid:2.3971267177248827\n"
          ],
          "name": "stdout"
        },
        {
          "output_type": "stream",
          "text": [
            "Procesos train : 1027: 100%|██████████| 300/300 [00:17<00:00, 18.25it/s]\n",
            "Procesos train : 1027: 100%|██████████| 300/300 [00:17<00:00, 17.39it/s]\n",
            "100%|██████████| 90/90 [00:19<00:00,  4.68it/s]\n",
            "  0%|          | 0/300 [00:00<?, ?it/s]\n",
            "Procesos train : 1028:   1%|          | 2/300 [00:00<00:17, 17.27it/s]"
          ],
          "name": "stderr"
        },
        {
          "output_type": "stream",
          "text": [
            "loss_train: 5.376864145596822, loss_valid: 5.434416347079807 , acuraccy_train: 8.093898899919786, acuraccy_valid:2.3971267177248823\n"
          ],
          "name": "stdout"
        },
        {
          "output_type": "stream",
          "text": [
            "Procesos train : 1028: 100%|██████████| 300/300 [00:16<00:00, 18.43it/s]\n",
            "Procesos train : 1028: 100%|██████████| 300/300 [00:16<00:00, 17.74it/s]\n",
            "100%|██████████| 90/90 [00:18<00:00,  4.77it/s]\n",
            "  0%|          | 0/300 [00:00<?, ?it/s]\n",
            "Procesos train : 1029:   1%|          | 2/300 [00:00<00:17, 17.08it/s]"
          ],
          "name": "stderr"
        },
        {
          "output_type": "stream",
          "text": [
            "loss_train: 5.375901066462199, loss_valid: 5.434416347079807 , acuraccy_train: 8.24439150101665, acuraccy_valid:2.3971267177248827\n"
          ],
          "name": "stdout"
        },
        {
          "output_type": "stream",
          "text": [
            "Procesos train : 1029: 100%|██████████| 300/300 [00:16<00:00, 17.68it/s]\n",
            "Procesos train : 1029: 100%|██████████| 300/300 [00:16<00:00, 18.10it/s]\n",
            "100%|██████████| 90/90 [00:19<00:00,  4.72it/s]\n",
            "  0%|          | 0/300 [00:00<?, ?it/s]\n",
            "Procesos train : 1030:   1%|          | 2/300 [00:00<00:18, 16.15it/s]"
          ],
          "name": "stderr"
        },
        {
          "output_type": "stream",
          "text": [
            "loss_train: 5.377531935373942, loss_valid: 5.434416347079807 , acuraccy_train: 8.092836687378176, acuraccy_valid:2.3971267177248823\n"
          ],
          "name": "stdout"
        },
        {
          "output_type": "stream",
          "text": [
            "Procesos train : 1030: 100%|██████████| 300/300 [00:16<00:00, 17.67it/s]\n",
            "Procesos train : 1030: 100%|██████████| 300/300 [00:17<00:00, 17.64it/s]\n",
            "100%|██████████| 90/90 [00:19<00:00,  4.73it/s]\n",
            "  0%|          | 0/300 [00:00<?, ?it/s]\n",
            "Procesos train : 1031:   1%|          | 2/300 [00:00<00:17, 17.06it/s]"
          ],
          "name": "stderr"
        },
        {
          "output_type": "stream",
          "text": [
            "loss_train: 5.376449810663859, loss_valid: 5.434416347079807 , acuraccy_train: 8.204899302109867, acuraccy_valid:2.3971267177248827\n"
          ],
          "name": "stdout"
        },
        {
          "output_type": "stream",
          "text": [
            "Procesos train : 1031: 100%|██████████| 300/300 [00:17<00:00, 17.69it/s]\n",
            "Procesos train : 1031: 100%|██████████| 300/300 [00:17<00:00, 17.34it/s]\n",
            "100%|██████████| 90/90 [00:19<00:00,  4.65it/s]\n",
            "  0%|          | 0/300 [00:00<?, ?it/s]\n",
            "Procesos train : 1032:   1%|          | 2/300 [00:00<00:19, 15.53it/s]"
          ],
          "name": "stderr"
        },
        {
          "output_type": "stream",
          "text": [
            "loss_train: 5.375985930760701, loss_valid: 5.434416347079807 , acuraccy_train: 8.237258899148788, acuraccy_valid:2.3971267177248827\n"
          ],
          "name": "stdout"
        },
        {
          "output_type": "stream",
          "text": [
            "Procesos train : 1032: 100%|██████████| 300/300 [00:17<00:00, 18.30it/s]\n",
            "Procesos train : 1032: 100%|██████████| 300/300 [00:17<00:00, 17.27it/s]\n",
            "100%|██████████| 90/90 [00:19<00:00,  4.65it/s]\n",
            "  0%|          | 0/300 [00:00<?, ?it/s]\n",
            "Procesos train : 1033:   1%|          | 2/300 [00:00<00:17, 17.34it/s]"
          ],
          "name": "stderr"
        },
        {
          "output_type": "stream",
          "text": [
            "loss_train: 5.376474361419678, loss_valid: 5.434416347079807 , acuraccy_train: 8.189493989168323, acuraccy_valid:2.397126717724883\n"
          ],
          "name": "stdout"
        },
        {
          "output_type": "stream",
          "text": [
            "Procesos train : 1033: 100%|██████████| 300/300 [00:16<00:00, 18.31it/s]\n",
            "Procesos train : 1033: 100%|██████████| 300/300 [00:16<00:00, 18.25it/s]\n",
            "100%|██████████| 90/90 [00:18<00:00,  4.77it/s]\n",
            "  0%|          | 0/300 [00:00<?, ?it/s]\n",
            "Procesos train : 1034:   1%|          | 2/300 [00:00<00:18, 16.46it/s]"
          ],
          "name": "stderr"
        },
        {
          "output_type": "stream",
          "text": [
            "loss_train: 5.377955381075541, loss_valid: 5.434416347079807 , acuraccy_train: 8.042568581379916, acuraccy_valid:2.3971267177248827\n"
          ],
          "name": "stdout"
        },
        {
          "output_type": "stream",
          "text": [
            "Procesos train : 1034: 100%|██████████| 300/300 [00:16<00:00, 17.89it/s]\n",
            "Procesos train : 1034: 100%|██████████| 300/300 [00:16<00:00, 18.18it/s]\n",
            "100%|██████████| 90/90 [00:18<00:00,  4.86it/s]\n",
            "  0%|          | 0/300 [00:00<?, ?it/s]\n",
            "Procesos train : 1035:   1%|          | 2/300 [00:00<00:18, 15.95it/s]"
          ],
          "name": "stderr"
        },
        {
          "output_type": "stream",
          "text": [
            "loss_train: 5.377346272468567, loss_valid: 5.434416347079807 , acuraccy_train: 8.065015486879478, acuraccy_valid:2.3971267177248823\n"
          ],
          "name": "stdout"
        },
        {
          "output_type": "stream",
          "text": [
            "Procesos train : 1035: 100%|██████████| 300/300 [00:17<00:00, 17.54it/s]\n",
            "Procesos train : 1035: 100%|██████████| 300/300 [00:17<00:00, 17.09it/s]\n",
            "100%|██████████| 90/90 [00:19<00:00,  4.59it/s]\n",
            "  0%|          | 0/300 [00:00<?, ?it/s]\n",
            "Procesos train : 1036:   1%|          | 2/300 [00:00<00:19, 15.65it/s]"
          ],
          "name": "stderr"
        },
        {
          "output_type": "stream",
          "text": [
            "loss_train: 5.375451587041219, loss_valid: 5.434416347079807 , acuraccy_train: 8.275693870196243, acuraccy_valid:2.3971267177248827\n"
          ],
          "name": "stdout"
        },
        {
          "output_type": "stream",
          "text": [
            "Procesos train : 1036: 100%|██████████| 300/300 [00:17<00:00, 18.24it/s]\n",
            "Procesos train : 1036: 100%|██████████| 300/300 [00:17<00:00, 17.63it/s]\n",
            "100%|██████████| 90/90 [00:19<00:00,  4.73it/s]\n",
            "  0%|          | 0/300 [00:00<?, ?it/s]\n",
            "Procesos train : 1037:   1%|          | 2/300 [00:00<00:17, 16.94it/s]"
          ],
          "name": "stderr"
        },
        {
          "output_type": "stream",
          "text": [
            "loss_train: 5.376823210716248, loss_valid: 5.434416347079807 , acuraccy_train: 8.141780203928219, acuraccy_valid:2.397126717724882\n"
          ],
          "name": "stdout"
        },
        {
          "output_type": "stream",
          "text": [
            "Procesos train : 1037: 100%|██████████| 300/300 [00:16<00:00, 13.94it/s]\n",
            "Procesos train : 1037: 100%|██████████| 300/300 [00:16<00:00, 17.68it/s]\n",
            "100%|██████████| 90/90 [00:18<00:00,  4.75it/s]\n",
            "  0%|          | 0/300 [00:00<?, ?it/s]\n",
            "Procesos train : 1038:   1%|          | 2/300 [00:00<00:17, 17.00it/s]"
          ],
          "name": "stderr"
        },
        {
          "output_type": "stream",
          "text": [
            "loss_train: 5.376113260587056, loss_valid: 5.434416347079807 , acuraccy_train: 8.218183565561645, acuraccy_valid:2.3971267177248836\n"
          ],
          "name": "stdout"
        },
        {
          "output_type": "stream",
          "text": [
            "Procesos train : 1038: 100%|██████████| 300/300 [00:16<00:00, 17.63it/s]\n",
            "Procesos train : 1038: 100%|██████████| 300/300 [00:16<00:00, 17.75it/s]\n",
            "100%|██████████| 90/90 [00:18<00:00,  4.75it/s]\n",
            "  0%|          | 0/300 [00:00<?, ?it/s]\n",
            "Procesos train : 1039:   1%|          | 2/300 [00:00<00:18, 16.44it/s]"
          ],
          "name": "stderr"
        },
        {
          "output_type": "stream",
          "text": [
            "loss_train: 5.3776550801595056, loss_valid: 5.434416267606947 , acuraccy_train: 8.077911298074888, acuraccy_valid:2.3971267177248823\n"
          ],
          "name": "stdout"
        },
        {
          "output_type": "stream",
          "text": [
            "Procesos train : 1039: 100%|██████████| 300/300 [00:17<00:00, 18.36it/s]\n",
            "Procesos train : 1039: 100%|██████████| 300/300 [00:17<00:00, 17.32it/s]\n",
            "100%|██████████| 90/90 [00:19<00:00,  4.67it/s]\n",
            "  0%|          | 0/300 [00:00<?, ?it/s]\n",
            "Procesos train : 1040:   1%|          | 2/300 [00:00<00:17, 17.18it/s]"
          ],
          "name": "stderr"
        },
        {
          "output_type": "stream",
          "text": [
            "loss_train: 5.379082016944885, loss_valid: 5.434416347079807 , acuraccy_train: 7.88571562209092, acuraccy_valid:2.397126717724882\n"
          ],
          "name": "stdout"
        },
        {
          "output_type": "stream",
          "text": [
            "Procesos train : 1040: 100%|██████████| 300/300 [00:16<00:00, 18.35it/s]\n",
            "Procesos train : 1040: 100%|██████████| 300/300 [00:16<00:00, 17.67it/s]\n",
            "100%|██████████| 90/90 [00:18<00:00,  4.75it/s]\n",
            "  0%|          | 0/300 [00:00<?, ?it/s]\n",
            "Procesos train : 1041:   1%|          | 2/300 [00:00<00:18, 15.95it/s]"
          ],
          "name": "stderr"
        },
        {
          "output_type": "stream",
          "text": [
            "loss_train: 5.376349283854167, loss_valid: 5.434416347079807 , acuraccy_train: 8.169649875779086, acuraccy_valid:2.3971267177248827\n"
          ],
          "name": "stdout"
        },
        {
          "output_type": "stream",
          "text": [
            "Procesos train : 1041: 100%|██████████| 300/300 [00:17<00:00, 17.78it/s]\n",
            "Procesos train : 1041: 100%|██████████| 300/300 [00:17<00:00, 17.14it/s]\n",
            "100%|██████████| 90/90 [00:19<00:00,  4.61it/s]\n",
            "  0%|          | 0/300 [00:00<?, ?it/s]\n",
            "Procesos train : 1042:   1%|          | 2/300 [00:00<00:18, 16.19it/s]"
          ],
          "name": "stderr"
        },
        {
          "output_type": "stream",
          "text": [
            "loss_train: 5.375276522636414, loss_valid: 5.434416347079807 , acuraccy_train: 8.320190546772999, acuraccy_valid:2.397126717724883\n"
          ],
          "name": "stdout"
        },
        {
          "output_type": "stream",
          "text": [
            "Procesos train : 1042: 100%|██████████| 300/300 [00:17<00:00, 17.90it/s]\n",
            "Procesos train : 1042: 100%|██████████| 300/300 [00:17<00:00, 17.61it/s]\n",
            "100%|██████████| 90/90 [00:19<00:00,  4.61it/s]\n",
            "  0%|          | 0/300 [00:00<?, ?it/s]\n",
            "Procesos train : 1043:   1%|          | 2/300 [00:00<00:18, 16.32it/s]"
          ],
          "name": "stderr"
        },
        {
          "output_type": "stream",
          "text": [
            "loss_train: 5.375355614026388, loss_valid: 5.434416347079807 , acuraccy_train: 8.307584553552088, acuraccy_valid:2.397126717724882\n"
          ],
          "name": "stdout"
        },
        {
          "output_type": "stream",
          "text": [
            "Procesos train : 1043: 100%|██████████| 300/300 [00:16<00:00, 18.11it/s]\n",
            "Procesos train : 1043: 100%|██████████| 300/300 [00:16<00:00, 18.18it/s]\n",
            "100%|██████████| 90/90 [00:18<00:00,  4.88it/s]\n",
            "  0%|          | 0/300 [00:00<?, ?it/s]\n",
            "Procesos train : 1044:   1%|          | 2/300 [00:00<00:18, 16.01it/s]"
          ],
          "name": "stderr"
        },
        {
          "output_type": "stream",
          "text": [
            "loss_train: 5.375326161384582, loss_valid: 5.434416347079807 , acuraccy_train: 8.30347239413127, acuraccy_valid:2.397126717724883\n"
          ],
          "name": "stdout"
        },
        {
          "output_type": "stream",
          "text": [
            "Procesos train : 1044: 100%|██████████| 300/300 [00:16<00:00, 18.35it/s]\n",
            "Procesos train : 1044: 100%|██████████| 300/300 [00:16<00:00, 17.66it/s]\n",
            "100%|██████████| 90/90 [00:18<00:00,  4.75it/s]\n",
            "  0%|          | 0/300 [00:00<?, ?it/s]\n",
            "Procesos train : 1045:   1%|          | 2/300 [00:00<00:18, 16.50it/s]"
          ],
          "name": "stderr"
        },
        {
          "output_type": "stream",
          "text": [
            "loss_train: 5.375450619061788, loss_valid: 5.434416347079807 , acuraccy_train: 8.299892107057216, acuraccy_valid:2.3971267177248823\n"
          ],
          "name": "stdout"
        },
        {
          "output_type": "stream",
          "text": [
            "Procesos train : 1045: 100%|██████████| 300/300 [00:17<00:00, 17.76it/s]\n",
            "Procesos train : 1045: 100%|██████████| 300/300 [00:17<00:00, 17.24it/s]\n",
            "100%|██████████| 90/90 [00:19<00:00,  4.63it/s]\n",
            "  0%|          | 0/300 [00:00<?, ?it/s]\n",
            "Procesos train : 1046:   1%|          | 2/300 [00:00<00:18, 15.94it/s]"
          ],
          "name": "stderr"
        },
        {
          "output_type": "stream",
          "text": [
            "loss_train: 5.375248354276021, loss_valid: 5.434416347079807 , acuraccy_train: 8.313686151452607, acuraccy_valid:2.3971267177248827\n"
          ],
          "name": "stdout"
        },
        {
          "output_type": "stream",
          "text": [
            "Procesos train : 1046: 100%|██████████| 300/300 [00:17<00:00, 11.01it/s]\n",
            "Procesos train : 1046: 100%|██████████| 300/300 [00:17<00:00, 17.37it/s]\n",
            "100%|██████████| 90/90 [00:19<00:00,  4.66it/s]\n",
            "  0%|          | 0/300 [00:00<?, ?it/s]\n",
            "Procesos train : 1047:   1%|          | 2/300 [00:00<00:18, 16.24it/s]"
          ],
          "name": "stderr"
        },
        {
          "output_type": "stream",
          "text": [
            "loss_train: 5.376114295323689, loss_valid: 5.434416347079807 , acuraccy_train: 8.204001484561353, acuraccy_valid:2.397126717724882\n"
          ],
          "name": "stdout"
        },
        {
          "output_type": "stream",
          "text": [
            "Procesos train : 1047: 100%|██████████| 300/300 [00:17<00:00, 17.42it/s]\n",
            "Procesos train : 1047: 100%|██████████| 300/300 [00:17<00:00, 17.57it/s]\n",
            "100%|██████████| 90/90 [00:19<00:00,  4.71it/s]\n",
            "  0%|          | 0/300 [00:00<?, ?it/s]\n",
            "Procesos train : 1048:   1%|          | 2/300 [00:00<00:18, 15.82it/s]"
          ],
          "name": "stderr"
        },
        {
          "output_type": "stream",
          "text": [
            "loss_train: 5.377628904978434, loss_valid: 5.434416347079807 , acuraccy_train: 8.062731059651457, acuraccy_valid:2.3971267177248823\n"
          ],
          "name": "stdout"
        },
        {
          "output_type": "stream",
          "text": [
            "Procesos train : 1048: 100%|██████████| 300/300 [00:17<00:00, 17.82it/s]\n",
            "Procesos train : 1048: 100%|██████████| 300/300 [00:17<00:00, 17.50it/s]\n",
            "100%|██████████| 90/90 [00:19<00:00,  4.70it/s]\n",
            "  0%|          | 0/300 [00:00<?, ?it/s]\n",
            "Procesos train : 1049:   1%|          | 2/300 [00:00<00:19, 15.13it/s]"
          ],
          "name": "stderr"
        },
        {
          "output_type": "stream",
          "text": [
            "loss_train: 5.376218207677206, loss_valid: 5.434416347079807 , acuraccy_train: 8.216401442008145, acuraccy_valid:2.3971267177248827\n"
          ],
          "name": "stdout"
        },
        {
          "output_type": "stream",
          "text": [
            "Procesos train : 1049: 100%|██████████| 300/300 [00:17<00:00, 18.26it/s]\n",
            "Procesos train : 1049: 100%|██████████| 300/300 [00:17<00:00, 17.54it/s]\n",
            "100%|██████████| 90/90 [00:19<00:00,  4.71it/s]\n",
            "  0%|          | 0/300 [00:00<?, ?it/s]\n",
            "Procesos train : 1050:   1%|          | 2/300 [00:00<00:18, 16.35it/s]"
          ],
          "name": "stderr"
        },
        {
          "output_type": "stream",
          "text": [
            "loss_train: 5.374936636288961, loss_valid: 5.434416347079807 , acuraccy_train: 8.345737469241731, acuraccy_valid:2.3971267177248827\n"
          ],
          "name": "stdout"
        },
        {
          "output_type": "stream",
          "text": [
            "Procesos train : 1050: 100%|██████████| 300/300 [00:17<00:00, 17.43it/s]\n",
            "Procesos train : 1050: 100%|██████████| 300/300 [00:17<00:00, 17.31it/s]\n",
            "100%|██████████| 90/90 [00:19<00:00,  4.64it/s]\n",
            "  0%|          | 0/300 [00:00<?, ?it/s]\n",
            "Procesos train : 1051:   1%|          | 2/300 [00:00<00:17, 16.91it/s]"
          ],
          "name": "stderr"
        },
        {
          "output_type": "stream",
          "text": [
            "loss_train: 5.374488749504089, loss_valid: 5.434416347079807 , acuraccy_train: 8.394940382976133, acuraccy_valid:2.3971267177248823\n"
          ],
          "name": "stdout"
        },
        {
          "output_type": "stream",
          "text": [
            "Procesos train : 1051: 100%|██████████| 300/300 [00:16<00:00, 18.32it/s]\n",
            "Procesos train : 1051: 100%|██████████| 300/300 [00:16<00:00, 17.75it/s]\n",
            "100%|██████████| 90/90 [00:19<00:00,  4.65it/s]\n",
            "  0%|          | 0/300 [00:00<?, ?it/s]\n",
            "Procesos train : 1052:   1%|          | 2/300 [00:00<00:17, 16.89it/s]"
          ],
          "name": "stderr"
        },
        {
          "output_type": "stream",
          "text": [
            "loss_train: 5.375524557431539, loss_valid: 5.434416347079807 , acuraccy_train: 8.286200665561996, acuraccy_valid:2.3971267177248827\n"
          ],
          "name": "stdout"
        },
        {
          "output_type": "stream",
          "text": [
            "Procesos train : 1052: 100%|██████████| 300/300 [00:16<00:00, 18.07it/s]\n",
            "Procesos train : 1052: 100%|██████████| 300/300 [00:16<00:00, 18.10it/s]\n",
            "100%|██████████| 90/90 [00:18<00:00,  4.85it/s]\n",
            "  0%|          | 0/300 [00:00<?, ?it/s]\n",
            "Procesos train : 1053:   1%|          | 2/300 [00:00<00:17, 16.87it/s]"
          ],
          "name": "stderr"
        },
        {
          "output_type": "stream",
          "text": [
            "loss_train: 5.374420159657796, loss_valid: 5.434416347079807 , acuraccy_train: 8.40858784883224, acuraccy_valid:2.3971267177248827\n"
          ],
          "name": "stdout"
        },
        {
          "output_type": "stream",
          "text": [
            "Procesos train : 1053: 100%|██████████| 300/300 [00:17<00:00, 17.17it/s]\n",
            "Procesos train : 1053: 100%|██████████| 300/300 [00:17<00:00, 17.46it/s]\n",
            "100%|██████████| 90/90 [00:19<00:00,  4.67it/s]\n",
            "  0%|          | 0/300 [00:00<?, ?it/s]\n",
            "Procesos train : 1054:   1%|          | 2/300 [00:00<00:19, 15.25it/s]"
          ],
          "name": "stderr"
        },
        {
          "output_type": "stream",
          "text": [
            "loss_train: 5.374400211970012, loss_valid: 5.434416347079807 , acuraccy_train: 8.394050257139885, acuraccy_valid:2.397126717724883\n"
          ],
          "name": "stdout"
        },
        {
          "output_type": "stream",
          "text": [
            "Procesos train : 1054: 100%|██████████| 300/300 [00:17<00:00, 17.56it/s]\n",
            "Procesos train : 1054: 100%|██████████| 300/300 [00:17<00:00, 16.92it/s]\n",
            "100%|██████████| 90/90 [00:19<00:00,  4.55it/s]\n",
            "  0%|          | 0/300 [00:00<?, ?it/s]\n",
            "Procesos train : 1055:   1%|          | 2/300 [00:00<00:18, 15.70it/s]"
          ],
          "name": "stderr"
        },
        {
          "output_type": "stream",
          "text": [
            "loss_train: 5.374364981651306, loss_valid: 5.434416347079807 , acuraccy_train: 8.371939835904865, acuraccy_valid:2.3971267177248823\n"
          ],
          "name": "stdout"
        },
        {
          "output_type": "stream",
          "text": [
            "Procesos train : 1055: 100%|██████████| 300/300 [00:16<00:00, 17.92it/s]\n",
            "Procesos train : 1055: 100%|██████████| 300/300 [00:16<00:00, 17.91it/s]\n",
            "100%|██████████| 90/90 [00:19<00:00,  4.68it/s]\n",
            "  0%|          | 0/300 [00:00<?, ?it/s]\n",
            "Procesos train : 1056:   1%|          | 2/300 [00:00<00:17, 16.88it/s]"
          ],
          "name": "stderr"
        },
        {
          "output_type": "stream",
          "text": [
            "loss_train: 5.376164676348369, loss_valid: 5.434416347079807 , acuraccy_train: 8.20266841866039, acuraccy_valid:2.3971267177248827\n"
          ],
          "name": "stdout"
        },
        {
          "output_type": "stream",
          "text": [
            "Procesos train : 1056: 100%|██████████| 300/300 [00:16<00:00, 18.01it/s]\n",
            "Procesos train : 1056: 100%|██████████| 300/300 [00:16<00:00, 17.98it/s]\n",
            "100%|██████████| 90/90 [00:18<00:00,  4.83it/s]\n",
            "  0%|          | 0/300 [00:00<?, ?it/s]\n",
            "Procesos train : 1057:   1%|          | 2/300 [00:00<00:17, 16.79it/s]"
          ],
          "name": "stderr"
        },
        {
          "output_type": "stream",
          "text": [
            "loss_train: 5.3758190679550175, loss_valid: 5.434416347079807 , acuraccy_train: 8.21339613363678, acuraccy_valid:2.3971267177248827\n"
          ],
          "name": "stdout"
        },
        {
          "output_type": "stream",
          "text": [
            "Procesos train : 1057: 100%|██████████| 300/300 [00:17<00:00, 17.65it/s]\n",
            "Procesos train : 1057: 100%|██████████| 300/300 [00:17<00:00, 17.13it/s]\n",
            "100%|██████████| 90/90 [00:19<00:00,  4.60it/s]\n",
            "  0%|          | 0/300 [00:00<?, ?it/s]\n",
            "Procesos train : 1058:   1%|          | 2/300 [00:00<00:17, 16.61it/s]"
          ],
          "name": "stderr"
        },
        {
          "output_type": "stream",
          "text": [
            "loss_train: 5.375709959665934, loss_valid: 5.434416347079807 , acuraccy_train: 8.274529513602557, acuraccy_valid:2.3971267177248827\n"
          ],
          "name": "stdout"
        },
        {
          "output_type": "stream",
          "text": [
            "Procesos train : 1058: 100%|██████████| 300/300 [00:17<00:00, 18.27it/s]\n",
            "Procesos train : 1058: 100%|██████████| 300/300 [00:17<00:00, 17.31it/s]\n",
            "100%|██████████| 90/90 [00:19<00:00,  4.66it/s]\n",
            "  0%|          | 0/300 [00:00<?, ?it/s]\n",
            "Procesos train : 1059:   1%|          | 2/300 [00:00<00:17, 16.81it/s]"
          ],
          "name": "stderr"
        },
        {
          "output_type": "stream",
          "text": [
            "loss_train: 5.374788365364075, loss_valid: 5.434416347079807 , acuraccy_train: 8.354765515620045, acuraccy_valid:2.397126717724883\n"
          ],
          "name": "stdout"
        },
        {
          "output_type": "stream",
          "text": [
            "Procesos train : 1059: 100%|██████████| 300/300 [00:17<00:00, 18.30it/s]\n",
            "Procesos train : 1059: 100%|██████████| 300/300 [00:17<00:00, 17.62it/s]\n",
            "100%|██████████| 90/90 [00:18<00:00,  4.74it/s]\n",
            "  0%|          | 0/300 [00:00<?, ?it/s]\n",
            "Procesos train : 1060:   1%|          | 2/300 [00:00<00:17, 16.97it/s]"
          ],
          "name": "stderr"
        },
        {
          "output_type": "stream",
          "text": [
            "loss_train: 5.3750999069213865, loss_valid: 5.434416347079807 , acuraccy_train: 8.333521373144594, acuraccy_valid:2.397126717724883\n"
          ],
          "name": "stdout"
        },
        {
          "output_type": "stream",
          "text": [
            "Procesos train : 1060: 100%|██████████| 300/300 [00:16<00:00, 17.49it/s]\n",
            "Procesos train : 1060: 100%|██████████| 300/300 [00:16<00:00, 17.96it/s]\n",
            "100%|██████████| 90/90 [00:18<00:00,  4.80it/s]\n",
            "  0%|          | 0/300 [00:00<?, ?it/s]\n",
            "Procesos train : 1061:   1%|          | 2/300 [00:00<00:18, 15.98it/s]"
          ],
          "name": "stderr"
        },
        {
          "output_type": "stream",
          "text": [
            "loss_train: 5.372633975346883, loss_valid: 5.434416347079807 , acuraccy_train: 8.584585591769098, acuraccy_valid:2.397126717724883\n"
          ],
          "name": "stdout"
        },
        {
          "output_type": "stream",
          "text": [
            "Procesos train : 1061: 100%|██████████| 300/300 [00:18<00:00, 18.12it/s]\n",
            "Procesos train : 1061: 100%|██████████| 300/300 [00:18<00:00, 16.55it/s]\n",
            "100%|██████████| 90/90 [00:20<00:00,  4.48it/s]\n",
            "  0%|          | 0/300 [00:00<?, ?it/s]\n",
            "Procesos train : 1062:   1%|          | 2/300 [00:00<00:18, 16.27it/s]"
          ],
          "name": "stderr"
        },
        {
          "output_type": "stream",
          "text": [
            "loss_train: 5.379915846188863, loss_valid: 5.434416347079807 , acuraccy_train: 7.636785624601318, acuraccy_valid:2.397126717724882\n"
          ],
          "name": "stdout"
        },
        {
          "output_type": "stream",
          "text": [
            "Procesos train : 1062: 100%|██████████| 300/300 [00:17<00:00, 17.42it/s]\n",
            "Procesos train : 1062: 100%|██████████| 300/300 [00:17<00:00, 17.27it/s]\n",
            "100%|██████████| 90/90 [00:19<00:00,  4.64it/s]\n",
            "  0%|          | 0/300 [00:00<?, ?it/s]\n",
            "Procesos train : 1063:   1%|          | 2/300 [00:00<00:18, 15.97it/s]"
          ],
          "name": "stderr"
        },
        {
          "output_type": "stream",
          "text": [
            "loss_train: 5.377403321266175, loss_valid: 5.434416347079807 , acuraccy_train: 8.103190184843369, acuraccy_valid:2.397126717724882\n"
          ],
          "name": "stdout"
        },
        {
          "output_type": "stream",
          "text": [
            "Procesos train : 1063: 100%|██████████| 300/300 [00:17<00:00, 18.42it/s]\n",
            "Procesos train : 1063: 100%|██████████| 300/300 [00:17<00:00, 17.25it/s]\n",
            "100%|██████████| 90/90 [00:19<00:00,  4.65it/s]\n",
            "  0%|          | 0/300 [00:00<?, ?it/s]\n",
            "Procesos train : 1064:   1%|          | 2/300 [00:00<00:17, 16.72it/s]"
          ],
          "name": "stderr"
        },
        {
          "output_type": "stream",
          "text": [
            "loss_train: 5.377006355921427, loss_valid: 5.434416347079807 , acuraccy_train: 7.996928558120856, acuraccy_valid:2.397126717724883\n"
          ],
          "name": "stdout"
        },
        {
          "output_type": "stream",
          "text": [
            "Procesos train : 1064: 100%|██████████| 300/300 [00:16<00:00, 18.21it/s]\n",
            "Procesos train : 1064: 100%|██████████| 300/300 [00:16<00:00, 18.16it/s]\n",
            "100%|██████████| 90/90 [00:18<00:00,  4.75it/s]\n",
            "  0%|          | 0/300 [00:00<?, ?it/s]\n",
            "Procesos train : 1065:   1%|          | 2/300 [00:00<00:17, 16.86it/s]"
          ],
          "name": "stderr"
        },
        {
          "output_type": "stream",
          "text": [
            "loss_train: 5.377332274119059, loss_valid: 5.434416347079807 , acuraccy_train: 8.015226311805765, acuraccy_valid:2.3971267177248823\n"
          ],
          "name": "stdout"
        },
        {
          "output_type": "stream",
          "text": [
            "Procesos train : 1065: 100%|██████████| 300/300 [00:16<00:00, 17.68it/s]\n",
            "Procesos train : 1065: 100%|██████████| 300/300 [00:16<00:00, 18.03it/s]\n",
            "100%|██████████| 90/90 [00:18<00:00,  4.82it/s]\n",
            "  0%|          | 0/300 [00:00<?, ?it/s]\n",
            "Procesos train : 1066:   1%|          | 2/300 [00:00<00:18, 16.11it/s]"
          ],
          "name": "stderr"
        },
        {
          "output_type": "stream",
          "text": [
            "loss_train: 5.377539744377136, loss_valid: 5.434416347079807 , acuraccy_train: 8.1502189190484, acuraccy_valid:2.3971267177248823\n"
          ],
          "name": "stdout"
        },
        {
          "output_type": "stream",
          "text": [
            "Procesos train : 1066: 100%|██████████| 300/300 [00:17<00:00, 17.73it/s]\n",
            "Procesos train : 1066: 100%|██████████| 300/300 [00:17<00:00, 17.03it/s]\n",
            "100%|██████████| 90/90 [00:19<00:00,  4.58it/s]\n",
            "  0%|          | 0/300 [00:00<?, ?it/s]\n",
            "Procesos train : 1067:   1%|          | 2/300 [00:00<00:18, 16.05it/s]"
          ],
          "name": "stderr"
        },
        {
          "output_type": "stream",
          "text": [
            "loss_train: 5.375692505836486, loss_valid: 5.434416347079807 , acuraccy_train: 8.26578039863826, acuraccy_valid:2.3971267177248827\n"
          ],
          "name": "stdout"
        },
        {
          "output_type": "stream",
          "text": [
            "Procesos train : 1067: 100%|██████████| 300/300 [00:17<00:00, 18.11it/s]\n",
            "Procesos train : 1067: 100%|██████████| 300/300 [00:17<00:00, 17.61it/s]\n",
            "100%|██████████| 90/90 [00:19<00:00,  4.74it/s]\n",
            "  0%|          | 0/300 [00:00<?, ?it/s]\n",
            "Procesos train : 1068:   1%|          | 2/300 [00:00<00:17, 16.61it/s]"
          ],
          "name": "stderr"
        },
        {
          "output_type": "stream",
          "text": [
            "loss_train: 5.376626300811767, loss_valid: 5.434416347079807 , acuraccy_train: 8.16653353976683, acuraccy_valid:2.3971267177248827\n"
          ],
          "name": "stdout"
        },
        {
          "output_type": "stream",
          "text": [
            "Procesos train : 1068: 100%|██████████| 300/300 [00:16<00:00, 18.23it/s]\n",
            "Procesos train : 1068: 100%|██████████| 300/300 [00:16<00:00, 18.19it/s]\n",
            "100%|██████████| 90/90 [00:18<00:00,  4.76it/s]\n",
            "  0%|          | 0/300 [00:00<?, ?it/s]\n",
            "Procesos train : 1069:   1%|          | 2/300 [00:00<00:18, 16.51it/s]"
          ],
          "name": "stderr"
        },
        {
          "output_type": "stream",
          "text": [
            "loss_train: 5.374398248990377, loss_valid: 5.434416347079807 , acuraccy_train: 8.377840485251376, acuraccy_valid:2.397126717724883\n"
          ],
          "name": "stdout"
        },
        {
          "output_type": "stream",
          "text": [
            "Procesos train : 1069: 100%|██████████| 300/300 [00:17<00:00, 17.56it/s]\n",
            "Procesos train : 1069: 100%|██████████| 300/300 [00:17<00:00, 17.56it/s]\n",
            "100%|██████████| 90/90 [00:19<00:00,  4.70it/s]\n",
            "  0%|          | 0/300 [00:00<?, ?it/s]\n",
            "Procesos train : 1070:   1%|          | 2/300 [00:00<00:18, 15.79it/s]"
          ],
          "name": "stderr"
        },
        {
          "output_type": "stream",
          "text": [
            "loss_train: 5.377064008712768, loss_valid: 5.434416347079807 , acuraccy_train: 8.112849291368155, acuraccy_valid:2.3971267177248814\n"
          ],
          "name": "stdout"
        },
        {
          "output_type": "stream",
          "text": [
            "Procesos train : 1070: 100%|██████████| 300/300 [00:17<00:00, 18.14it/s]\n",
            "Procesos train : 1070: 100%|██████████| 300/300 [00:17<00:00, 17.03it/s]\n",
            "100%|██████████| 90/90 [00:19<00:00,  4.60it/s]\n",
            "  0%|          | 0/300 [00:00<?, ?it/s]\n",
            "Procesos train : 1071:   1%|          | 2/300 [00:00<00:18, 16.25it/s]"
          ],
          "name": "stderr"
        },
        {
          "output_type": "stream",
          "text": [
            "loss_train: 5.37697182337443, loss_valid: 5.420623615052965 , acuraccy_train: 8.154385232196464, acuraccy_valid:2.397126717724883\n"
          ],
          "name": "stdout"
        },
        {
          "output_type": "stream",
          "text": [
            "Procesos train : 1071: 100%|██████████| 300/300 [00:17<00:00, 18.35it/s]\n",
            "Procesos train : 1071: 100%|██████████| 300/300 [00:17<00:00, 17.61it/s]\n",
            "100%|██████████| 90/90 [00:18<00:00,  4.74it/s]\n",
            "  0%|          | 0/300 [00:00<?, ?it/s]\n",
            "Procesos train : 1072:   1%|          | 2/300 [00:00<00:17, 16.56it/s]"
          ],
          "name": "stderr"
        },
        {
          "output_type": "stream",
          "text": [
            "loss_train: 5.376172750790914, loss_valid: 5.434416347079807 , acuraccy_train: 8.230882898221731, acuraccy_valid:2.3971267177248823\n"
          ],
          "name": "stdout"
        },
        {
          "output_type": "stream",
          "text": [
            "Procesos train : 1072: 100%|██████████| 300/300 [00:17<00:00, 15.94it/s]\n",
            "Procesos train : 1072: 100%|██████████| 300/300 [00:17<00:00, 17.45it/s]\n",
            "100%|██████████| 90/90 [00:19<00:00,  4.68it/s]\n",
            "  0%|          | 0/300 [00:00<?, ?it/s]\n",
            "Procesos train : 1073:   1%|          | 2/300 [00:00<00:18, 16.08it/s]"
          ],
          "name": "stderr"
        },
        {
          "output_type": "stream",
          "text": [
            "loss_train: 5.375262870788574, loss_valid: 5.434416347079807 , acuraccy_train: 8.307873070008434, acuraccy_valid:2.3971267177248823\n"
          ],
          "name": "stdout"
        },
        {
          "output_type": "stream",
          "text": [
            "Procesos train : 1073: 100%|██████████| 300/300 [00:17<00:00, 17.49it/s]\n",
            "Procesos train : 1073: 100%|██████████| 300/300 [00:17<00:00, 17.52it/s]\n",
            "100%|██████████| 90/90 [00:19<00:00,  4.71it/s]\n",
            "  0%|          | 0/300 [00:00<?, ?it/s]\n",
            "Procesos train : 1074:   1%|          | 2/300 [00:00<00:18, 16.16it/s]"
          ],
          "name": "stderr"
        },
        {
          "output_type": "stream",
          "text": [
            "loss_train: 5.375834051767985, loss_valid: 5.434416347079807 , acuraccy_train: 8.243202052339683, acuraccy_valid:2.397126717724883\n"
          ],
          "name": "stdout"
        },
        {
          "output_type": "stream",
          "text": [
            "Procesos train : 1074: 100%|██████████| 300/300 [00:16<00:00, 18.12it/s]\n",
            "Procesos train : 1074: 100%|██████████| 300/300 [00:16<00:00, 17.65it/s]\n",
            "100%|██████████| 90/90 [00:18<00:00,  4.74it/s]\n",
            "  0%|          | 0/300 [00:00<?, ?it/s]\n",
            "Procesos train : 1075:   1%|          | 2/300 [00:00<00:17, 17.19it/s]"
          ],
          "name": "stderr"
        },
        {
          "output_type": "stream",
          "text": [
            "loss_train: 5.378403124809265, loss_valid: 5.434416347079807 , acuraccy_train: 7.982263110594137, acuraccy_valid:2.3971267177248823\n"
          ],
          "name": "stdout"
        },
        {
          "output_type": "stream",
          "text": [
            "Procesos train : 1075: 100%|██████████| 300/300 [00:16<00:00, 18.37it/s]\n",
            "Procesos train : 1075: 100%|██████████| 300/300 [00:16<00:00, 17.67it/s]\n",
            "100%|██████████| 90/90 [00:18<00:00,  4.75it/s]\n",
            "  0%|          | 0/300 [00:00<?, ?it/s]\n",
            "Procesos train : 1076:   1%|          | 2/300 [00:00<00:18, 16.47it/s]"
          ],
          "name": "stderr"
        },
        {
          "output_type": "stream",
          "text": [
            "loss_train: 5.37035897731781, loss_valid: 5.434416347079807 , acuraccy_train: 8.811048925928548, acuraccy_valid:2.3971267177248827\n"
          ],
          "name": "stdout"
        },
        {
          "output_type": "stream",
          "text": [
            "Procesos train : 1076: 100%|██████████| 300/300 [00:17<00:00, 17.65it/s]\n",
            "Procesos train : 1076: 100%|██████████| 300/300 [00:17<00:00, 17.09it/s]\n",
            "100%|██████████| 90/90 [00:19<00:00,  4.59it/s]\n",
            "  0%|          | 0/300 [00:00<?, ?it/s]\n",
            "Procesos train : 1077:   1%|          | 2/300 [00:00<00:19, 15.60it/s]"
          ],
          "name": "stderr"
        },
        {
          "output_type": "stream",
          "text": [
            "loss_train: 5.374763682683309, loss_valid: 5.434416347079807 , acuraccy_train: 8.349582051482232, acuraccy_valid:2.3971267177248823\n"
          ],
          "name": "stdout"
        },
        {
          "output_type": "stream",
          "text": [
            "Procesos train : 1077: 100%|██████████| 300/300 [00:16<00:00, 18.18it/s]\n",
            "Procesos train : 1077: 100%|██████████| 300/300 [00:16<00:00, 17.89it/s]\n",
            "100%|██████████| 90/90 [00:19<00:00,  4.68it/s]\n",
            "  0%|          | 0/300 [00:00<?, ?it/s]\n",
            "Procesos train : 1078:   1%|          | 2/300 [00:00<00:18, 16.53it/s]"
          ],
          "name": "stderr"
        },
        {
          "output_type": "stream",
          "text": [
            "loss_train: 5.372466169993083, loss_valid: 5.434416347079807 , acuraccy_train: 8.593057949581725, acuraccy_valid:2.3971267177248823\n"
          ],
          "name": "stdout"
        },
        {
          "output_type": "stream",
          "text": [
            "Procesos train : 1078: 100%|██████████| 300/300 [00:16<00:00, 18.17it/s]\n",
            "Procesos train : 1078: 100%|██████████| 300/300 [00:16<00:00, 18.11it/s]\n",
            "100%|██████████| 90/90 [00:18<00:00,  4.86it/s]\n",
            "  0%|          | 0/300 [00:00<?, ?it/s]\n",
            "Procesos train : 1079:   1%|          | 2/300 [00:00<00:17, 17.42it/s]"
          ],
          "name": "stderr"
        },
        {
          "output_type": "stream",
          "text": [
            "loss_train: 5.376281124750773, loss_valid: 5.434416347079807 , acuraccy_train: 8.145608834273538, acuraccy_valid:2.3971267177248827\n"
          ],
          "name": "stdout"
        },
        {
          "output_type": "stream",
          "text": [
            "Procesos train : 1079: 100%|██████████| 300/300 [00:17<00:00, 17.45it/s]\n",
            "Procesos train : 1079: 100%|██████████| 300/300 [00:17<00:00, 17.42it/s]\n",
            "100%|██████████| 90/90 [00:19<00:00,  4.67it/s]\n",
            "  0%|          | 0/300 [00:00<?, ?it/s]\n",
            "Procesos train : 1080:   1%|          | 2/300 [00:00<00:18, 15.82it/s]"
          ],
          "name": "stderr"
        },
        {
          "output_type": "stream",
          "text": [
            "loss_train: 5.375292393366496, loss_valid: 5.434416347079807 , acuraccy_train: 8.199611938806862, acuraccy_valid:2.397126717724883\n"
          ],
          "name": "stdout"
        },
        {
          "output_type": "stream",
          "text": [
            "Procesos train : 1080: 100%|██████████| 300/300 [00:17<00:00, 18.33it/s]\n",
            "Procesos train : 1080: 100%|██████████| 300/300 [00:17<00:00, 17.07it/s]\n",
            "100%|██████████| 90/90 [00:19<00:00,  4.60it/s]\n",
            "  0%|          | 0/300 [00:00<?, ?it/s]\n",
            "Procesos train : 1081:   1%|          | 2/300 [00:00<00:18, 16.36it/s]"
          ],
          "name": "stderr"
        },
        {
          "output_type": "stream",
          "text": [
            "loss_train: 5.376306881904602, loss_valid: 5.434416347079807 , acuraccy_train: 8.182219402522405, acuraccy_valid:2.3971267177248827\n"
          ],
          "name": "stdout"
        },
        {
          "output_type": "stream",
          "text": [
            "Procesos train : 1081: 100%|██████████| 300/300 [00:17<00:00, 17.28it/s]\n",
            "Procesos train : 1081: 100%|██████████| 300/300 [00:17<00:00, 16.86it/s]\n",
            "100%|██████████| 90/90 [00:20<00:00,  4.42it/s]\n",
            "  0%|          | 0/300 [00:00<?, ?it/s]\n",
            "Procesos train : 1082:   1%|          | 2/300 [00:00<00:17, 16.57it/s]"
          ],
          "name": "stderr"
        },
        {
          "output_type": "stream",
          "text": [
            "loss_train: 5.377344792683919, loss_valid: 5.434416347079807 , acuraccy_train: 8.082871575629715, acuraccy_valid:2.3971267177248827\n"
          ],
          "name": "stdout"
        },
        {
          "output_type": "stream",
          "text": [
            "Procesos train : 1082: 100%|██████████| 300/300 [00:16<00:00, 18.05it/s]\n",
            "Procesos train : 1082: 100%|██████████| 300/300 [00:16<00:00, 17.75it/s]\n",
            "100%|██████████| 90/90 [00:18<00:00,  4.77it/s]\n",
            "  0%|          | 0/300 [00:00<?, ?it/s]\n",
            "Procesos train : 1083:   1%|          | 2/300 [00:00<00:17, 16.93it/s]"
          ],
          "name": "stderr"
        },
        {
          "output_type": "stream",
          "text": [
            "loss_train: 5.3749137163162235, loss_valid: 5.434416347079807 , acuraccy_train: 8.33830542877987, acuraccy_valid:2.3971267177248827\n"
          ],
          "name": "stdout"
        },
        {
          "output_type": "stream",
          "text": [
            "Procesos train : 1083: 100%|██████████| 300/300 [00:17<00:00, 18.11it/s]\n",
            "Procesos train : 1083: 100%|██████████| 300/300 [00:17<00:00, 17.62it/s]\n",
            "100%|██████████| 90/90 [00:19<00:00,  4.73it/s]\n",
            "  0%|          | 0/300 [00:00<?, ?it/s]\n",
            "Procesos train : 1084:   1%|          | 2/300 [00:00<00:17, 16.66it/s]"
          ],
          "name": "stderr"
        },
        {
          "output_type": "stream",
          "text": [
            "loss_train: 5.374540774027507, loss_valid: 5.434416347079807 , acuraccy_train: 8.415736715154301, acuraccy_valid:2.3971267177248827\n"
          ],
          "name": "stdout"
        },
        {
          "output_type": "stream",
          "text": [
            "Procesos train : 1084: 100%|██████████| 300/300 [00:17<00:00, 17.81it/s]\n",
            "Procesos train : 1084: 100%|██████████| 300/300 [00:17<00:00, 17.42it/s]\n",
            "100%|██████████| 90/90 [00:19<00:00,  4.67it/s]\n",
            "  0%|          | 0/300 [00:00<?, ?it/s]\n",
            "Procesos train : 1085:   1%|          | 2/300 [00:00<00:18, 15.86it/s]"
          ],
          "name": "stderr"
        },
        {
          "output_type": "stream",
          "text": [
            "loss_train: 5.374249148368835, loss_valid: 5.434416347079807 , acuraccy_train: 8.38333720917263, acuraccy_valid:2.3971267177248827\n"
          ],
          "name": "stdout"
        },
        {
          "output_type": "stream",
          "text": [
            "Procesos train : 1085: 100%|██████████| 300/300 [00:17<00:00, 17.21it/s]\n",
            "Procesos train : 1085: 100%|██████████| 300/300 [00:17<00:00, 16.97it/s]\n",
            "100%|██████████| 90/90 [00:19<00:00,  4.58it/s]\n",
            "  0%|          | 0/300 [00:00<?, ?it/s]\n",
            "Procesos train : 1086:   1%|          | 2/300 [00:00<00:17, 16.93it/s]"
          ],
          "name": "stderr"
        },
        {
          "output_type": "stream",
          "text": [
            "loss_train: 5.374056658744812, loss_valid: 5.434416347079807 , acuraccy_train: 8.44123686125926, acuraccy_valid:2.3971267177248827\n"
          ],
          "name": "stdout"
        },
        {
          "output_type": "stream",
          "text": [
            "Procesos train : 1086: 100%|██████████| 300/300 [00:16<00:00, 18.13it/s]\n",
            "Procesos train : 1086: 100%|██████████| 300/300 [00:16<00:00, 18.00it/s]\n",
            "100%|██████████| 90/90 [00:19<00:00,  4.71it/s]\n",
            "  0%|          | 0/300 [00:00<?, ?it/s]\n",
            "Procesos train : 1087:   1%|          | 2/300 [00:00<00:18, 16.51it/s]"
          ],
          "name": "stderr"
        },
        {
          "output_type": "stream",
          "text": [
            "loss_train: 5.377056029637655, loss_valid: 5.434416347079807 , acuraccy_train: 8.111076413309517, acuraccy_valid:2.3971267177248823\n"
          ],
          "name": "stdout"
        },
        {
          "output_type": "stream",
          "text": [
            "Procesos train : 1087: 100%|██████████| 300/300 [00:16<00:00, 17.93it/s]\n",
            "Procesos train : 1087: 100%|██████████| 300/300 [00:16<00:00, 18.08it/s]\n",
            "100%|██████████| 90/90 [00:18<00:00,  4.85it/s]\n",
            "  0%|          | 0/300 [00:00<?, ?it/s]\n",
            "Procesos train : 1088:   1%|          | 2/300 [00:00<00:17, 16.75it/s]"
          ],
          "name": "stderr"
        },
        {
          "output_type": "stream",
          "text": [
            "loss_train: 5.3752338457107545, loss_valid: 5.434416347079807 , acuraccy_train: 8.332562758236872, acuraccy_valid:2.3971267177248823\n"
          ],
          "name": "stdout"
        },
        {
          "output_type": "stream",
          "text": [
            "Procesos train : 1088: 100%|██████████| 300/300 [00:17<00:00, 17.47it/s]\n",
            "Procesos train : 1088: 100%|██████████| 300/300 [00:17<00:00, 17.04it/s]\n",
            "100%|██████████| 90/90 [00:19<00:00,  4.58it/s]\n",
            "  0%|          | 0/300 [00:00<?, ?it/s]\n",
            "Procesos train : 1089:   1%|          | 2/300 [00:00<00:18, 15.83it/s]"
          ],
          "name": "stderr"
        },
        {
          "output_type": "stream",
          "text": [
            "loss_train: 5.37637100537618, loss_valid: 5.434416347079807 , acuraccy_train: 8.19336558222613, acuraccy_valid:2.397126717724883\n"
          ],
          "name": "stdout"
        },
        {
          "output_type": "stream",
          "text": [
            "Procesos train : 1089: 100%|██████████| 300/300 [00:17<00:00, 18.08it/s]\n",
            "Procesos train : 1089: 100%|██████████| 300/300 [00:17<00:00, 17.40it/s]\n",
            "100%|██████████| 90/90 [00:19<00:00,  4.68it/s]\n",
            "  0%|          | 0/300 [00:00<?, ?it/s]\n",
            "Procesos train : 1090:   1%|          | 2/300 [00:00<00:17, 17.40it/s]"
          ],
          "name": "stderr"
        },
        {
          "output_type": "stream",
          "text": [
            "loss_train: 5.373981235822042, loss_valid: 5.434416347079807 , acuraccy_train: 8.411425737742825, acuraccy_valid:2.3971267177248823\n"
          ],
          "name": "stdout"
        },
        {
          "output_type": "stream",
          "text": [
            "Procesos train : 1090: 100%|██████████| 300/300 [00:17<00:00, 17.01it/s]\n",
            "Procesos train : 1090: 100%|██████████| 300/300 [00:17<00:00, 17.57it/s]\n",
            "100%|██████████| 90/90 [00:19<00:00,  4.72it/s]\n",
            "  0%|          | 0/300 [00:00<?, ?it/s]\n",
            "Procesos train : 1091:   1%|          | 2/300 [00:00<00:17, 17.11it/s]"
          ],
          "name": "stderr"
        },
        {
          "output_type": "stream",
          "text": [
            "loss_train: 5.377965526580811, loss_valid: 5.434416347079807 , acuraccy_train: 7.991009936338981, acuraccy_valid:2.3971267177248823\n"
          ],
          "name": "stdout"
        },
        {
          "output_type": "stream",
          "text": [
            "Procesos train : 1091: 100%|██████████| 300/300 [00:16<00:00, 17.74it/s]\n",
            "Procesos train : 1091: 100%|██████████| 300/300 [00:16<00:00, 17.80it/s]\n",
            "100%|██████████| 90/90 [00:18<00:00,  4.76it/s]\n",
            "  0%|          | 0/300 [00:00<?, ?it/s]\n",
            "Procesos train : 1092:   1%|          | 2/300 [00:00<00:18, 16.10it/s]"
          ],
          "name": "stderr"
        },
        {
          "output_type": "stream",
          "text": [
            "loss_train: 5.376544888814291, loss_valid: 5.434416347079807 , acuraccy_train: 8.173849669915661, acuraccy_valid:2.3971267177248823\n"
          ],
          "name": "stdout"
        },
        {
          "output_type": "stream",
          "text": [
            "Procesos train : 1092: 100%|██████████| 300/300 [00:17<00:00, 18.32it/s]\n",
            "Procesos train : 1092: 100%|██████████| 300/300 [00:17<00:00, 17.16it/s]\n",
            "100%|██████████| 90/90 [00:19<00:00,  4.63it/s]\n",
            "  0%|          | 0/300 [00:00<?, ?it/s]\n",
            "Procesos train : 1093:   1%|          | 2/300 [00:00<00:17, 16.57it/s]"
          ],
          "name": "stderr"
        },
        {
          "output_type": "stream",
          "text": [
            "loss_train: 5.376073160171509, loss_valid: 5.434416347079807 , acuraccy_train: 8.169200055901522, acuraccy_valid:2.397126717724882\n"
          ],
          "name": "stdout"
        },
        {
          "output_type": "stream",
          "text": [
            "Procesos train : 1093: 100%|██████████| 300/300 [00:17<00:00, 18.37it/s]\n",
            "Procesos train : 1093: 100%|██████████| 300/300 [00:17<00:00, 17.55it/s]\n",
            "100%|██████████| 90/90 [00:19<00:00,  4.72it/s]\n",
            "  0%|          | 0/300 [00:00<?, ?it/s]\n",
            "Procesos train : 1094:   1%|          | 2/300 [00:00<00:18, 16.42it/s]"
          ],
          "name": "stderr"
        },
        {
          "output_type": "stream",
          "text": [
            "loss_train: 5.374838975270589, loss_valid: 5.434416347079807 , acuraccy_train: 8.345504206601815, acuraccy_valid:2.3971267177248823\n"
          ],
          "name": "stdout"
        },
        {
          "output_type": "stream",
          "text": [
            "Procesos train : 1094: 100%|██████████| 300/300 [00:17<00:00, 18.11it/s]\n",
            "Procesos train : 1094: 100%|██████████| 300/300 [00:17<00:00, 17.63it/s]\n",
            "100%|██████████| 90/90 [00:19<00:00,  4.72it/s]\n",
            "  0%|          | 0/300 [00:00<?, ?it/s]\n",
            "Procesos train : 1095:   1%|          | 2/300 [00:00<00:18, 16.21it/s]"
          ],
          "name": "stderr"
        },
        {
          "output_type": "stream",
          "text": [
            "loss_train: 5.375603241920471, loss_valid: 5.434416347079807 , acuraccy_train: 8.282972586061645, acuraccy_valid:2.3971267177248827\n"
          ],
          "name": "stdout"
        },
        {
          "output_type": "stream",
          "text": [
            "Procesos train : 1095: 100%|██████████| 300/300 [00:17<00:00, 17.62it/s]\n",
            "Procesos train : 1095: 100%|██████████| 300/300 [00:17<00:00, 17.15it/s]\n",
            "100%|██████████| 90/90 [00:20<00:00,  4.49it/s]\n",
            "  0%|          | 0/300 [00:00<?, ?it/s]\n",
            "Procesos train : 1096:   1%|          | 2/300 [00:00<00:18, 15.93it/s]"
          ],
          "name": "stderr"
        },
        {
          "output_type": "stream",
          "text": [
            "loss_train: 5.375317409833272, loss_valid: 5.434416347079807 , acuraccy_train: 8.333951860597454, acuraccy_valid:2.397126717724883\n"
          ],
          "name": "stdout"
        },
        {
          "output_type": "stream",
          "text": [
            "Procesos train : 1096: 100%|██████████| 300/300 [00:16<00:00, 17.40it/s]\n",
            "Procesos train : 1096: 100%|██████████| 300/300 [00:16<00:00, 17.70it/s]\n",
            "100%|██████████| 90/90 [00:19<00:00,  4.73it/s]\n",
            "  0%|          | 0/300 [00:00<?, ?it/s]\n",
            "Procesos train : 1097:   1%|          | 2/300 [00:00<00:19, 15.43it/s]"
          ],
          "name": "stderr"
        },
        {
          "output_type": "stream",
          "text": [
            "loss_train: 5.3757648166020715, loss_valid: 5.434416347079807 , acuraccy_train: 8.260045570044124, acuraccy_valid:2.3971267177248827\n"
          ],
          "name": "stdout"
        },
        {
          "output_type": "stream",
          "text": [
            "Procesos train : 1097: 100%|██████████| 300/300 [00:17<00:00, 17.86it/s]\n",
            "Procesos train : 1097: 100%|██████████| 300/300 [00:17<00:00, 16.85it/s]\n",
            "100%|██████████| 90/90 [00:19<00:00,  4.55it/s]\n",
            "  0%|          | 0/300 [00:00<?, ?it/s]\n",
            "Procesos train : 1098:   1%|          | 2/300 [00:00<00:18, 16.15it/s]"
          ],
          "name": "stderr"
        },
        {
          "output_type": "stream",
          "text": [
            "loss_train: 5.377279028892517, loss_valid: 5.434416347079807 , acuraccy_train: 8.136988218257397, acuraccy_valid:2.3971267177248823\n"
          ],
          "name": "stdout"
        },
        {
          "output_type": "stream",
          "text": [
            "Procesos train : 1098: 100%|██████████| 300/300 [00:17<00:00, 17.58it/s]\n",
            "Procesos train : 1098: 100%|██████████| 300/300 [00:17<00:00, 16.95it/s]\n",
            "100%|██████████| 90/90 [00:19<00:00,  4.57it/s]\n",
            "  0%|          | 0/300 [00:00<?, ?it/s]\n",
            "Procesos train : 1099:   1%|          | 2/300 [00:00<00:18, 16.26it/s]"
          ],
          "name": "stderr"
        },
        {
          "output_type": "stream",
          "text": [
            "loss_train: 5.373974553743998, loss_valid: 5.434416347079807 , acuraccy_train: 8.451680792056981, acuraccy_valid:2.397126717724883\n"
          ],
          "name": "stdout"
        },
        {
          "output_type": "stream",
          "text": [
            "Procesos train : 1099: 100%|██████████| 300/300 [00:16<00:00, 17.27it/s]\n",
            "Procesos train : 1099: 100%|██████████| 300/300 [00:16<00:00, 17.89it/s]\n",
            "100%|██████████| 90/90 [00:19<00:00,  4.66it/s]\n",
            "  0%|          | 0/300 [00:00<?, ?it/s]\n",
            "Procesos train : 1100:   1%|          | 2/300 [00:00<00:19, 15.64it/s]"
          ],
          "name": "stderr"
        },
        {
          "output_type": "stream",
          "text": [
            "loss_train: 5.377282190322876, loss_valid: 5.434416347079807 , acuraccy_train: 8.111225484420755, acuraccy_valid:2.3971267177248827\n"
          ],
          "name": "stdout"
        },
        {
          "output_type": "stream",
          "text": [
            "Procesos train : 1100: 100%|██████████| 300/300 [00:17<00:00, 17.17it/s]\n",
            "Procesos train : 1100: 100%|██████████| 300/300 [00:17<00:00, 17.25it/s]\n",
            "100%|██████████| 90/90 [00:19<00:00,  4.62it/s]\n"
          ],
          "name": "stderr"
        },
        {
          "output_type": "stream",
          "text": [
            "loss_train: 5.374629298845927, loss_valid: 5.434416347079807 , acuraccy_train: 8.392350683760716, acuraccy_valid:2.3971267177248827\n"
          ],
          "name": "stdout"
        }
      ]
    },
    {
      "cell_type": "code",
      "metadata": {
        "id": "ZoekBe-oNQmC"
      },
      "source": [
        "tensorboard --logdir runs\n"
      ],
      "execution_count": null,
      "outputs": []
    },
    {
      "cell_type": "code",
      "metadata": {
        "id": "8W-o4TqGIkDb"
      },
      "source": [
        "device = torch.device('cuda:0' if torch.cuda.is_available() else 'cpu')\n",
        "modelo =load_model_predic(\"../checkpoint/forma2/transMusica-300.pkl\",model,device)\n",
        "modelo=modelo.to(device)\n",
        "# modelo"
      ],
      "execution_count": null,
      "outputs": []
    },
    {
      "cell_type": "code",
      "metadata": {
        "id": "IXbSbMduInDg"
      },
      "source": [
        "ys = torch.ones(1, 1).fill_(2).type(torch.long)\n",
        "ys"
      ],
      "execution_count": null,
      "outputs": []
    },
    {
      "cell_type": "code",
      "metadata": {
        "id": "gUiuYESFIpiq"
      },
      "source": [
        "def traslate(model,wave_mfcc,initToken,device,wave_comple,max_len=10):\n",
        "  model.eval()\n",
        "  \n",
        "  # initToken=initToken.to(device)\n",
        "  salidaMemory=model.memoria(wave_mfcc,wave_comple)\n",
        "  ys = torch.ones(1, 1).fill_(initToken).type(torch.long).to(device)\n",
        "  for i in range(max_len):\n",
        "    # ys=ys.transpose(1,0)\n",
        "    out=model.decoder(salidaMemory,ys) #[2,N,120]\n",
        "    print(\"salida de decoder \"+str(out.shape))\n",
        "    out=out.transpose(1,0)\n",
        "    print(\"viendo entrada al linear \"+str(out[:, -1].shape))\n",
        "    out2=model.fc2_linear(out[:, -1])\n",
        "    print(\"salida del linear \"+str(out2.shape))\n",
        "    \n",
        "    aplicaSoftmax=nn.Softmax(dim=2)\n",
        "\n",
        "    otraSalida=aplicaSoftmax(out2)\n",
        "    otraSalida= torch.argmax(otraSalida,dim=2)\n",
        "    print(\"otra Salida \"+str(otraSalida))\n",
        "    _, next_word = torch.max(out2, dim=1)\n",
        "    \n",
        "    \n",
        "    # print(\"next word \"+str(next_word.item()))\n",
        "    # print(\"next word shape\"+str(next_word.shape))\n",
        "    next_word=next_word.item()\n",
        "    \n",
        "    ys = torch.cat([ys,torch.ones(1, 1).type_as(wave_mfcc.data).fill_(next_word)], dim=1)\n",
        "    print(\"//////////////////\")\n",
        "    print(\"ys -----> \"+str(ys))\n",
        "    \n",
        "    print(\"ys -----> \"+str(ys.shape))\n",
        "    print(\"----------cambio\")\n",
        "\n",
        "def traslate2(model,wave_mfcc,initToken,device,wave_comple,max_len=10):\n",
        "  with torch.no_grad():\n",
        "    model.eval()\n",
        "\n",
        "    # initToken=initToken.to(device)\n",
        "    salidaMemory=model.memoria(wave_mfcc,wave_comple)\n",
        "    ys = torch.ones(1, 1).fill_(initToken).type(torch.long).to(device)\n",
        "    for i in range(max_len):\n",
        "      # ys=ys.transpose(1,0)\n",
        "      out=model.decoder(salidaMemory,ys)\n",
        "      print(\"salida de decoder \"+str(out.shape))\n",
        "      out=out.transpose(1,0)\n",
        "      print(\"viendo entrada al linear \"+str(out[:, -1].shape))\n",
        "      out2=model.fc2_linear(out[:, -1])\n",
        "      print(\"salida del linear \"+str(out2.shape))\n",
        "      \n",
        "      \n",
        "      _, next_word = torch.max(out2, dim=1)\n",
        "      \n",
        "      \n",
        "      print(\"next word \"+str(next_word.item()))\n",
        "      print(\"next word shape\"+str(next_word.shape))\n",
        "      next_word=next_word.item()\n",
        "      \n",
        "      ys = torch.cat([ys,torch.ones(1, 1).type_as(wave_mfcc.data).fill_(next_word)], dim=1)\n",
        "      print(\"//////////////////\")\n",
        "      print(\"ys -----> \"+str(ys))\n",
        "      \n",
        "      print(\"ys -----> \"+str(ys.shape))\n",
        "      print(\"----------cambio\")"
      ],
      "execution_count": null,
      "outputs": []
    },
    {
      "cell_type": "code",
      "metadata": {
        "id": "Ft7Y43WrItG1"
      },
      "source": [
        "dataset_train =obtenerDatos(pathPartituras='../datos2/partituras',pathVocabulario='../datos2/vocabulario2.json',\n",
        "                          pathArchivoNPY='../datos2/archivosnumpy/train_audio_nombre.npy',pathcomple='../datos2/archivosnumpy/train_sinrecorte.npy')\n",
        "dataloader_train = DataLoader(dataset_train, batch_size=1, collate_fn=collate_fn_nuevo ,shuffle=True )\n",
        "\n",
        "for data in dataloader_train:\n",
        "  partitura_tokenizada,wave_mfcc,len_partitura,wave_Comple = data\n",
        "  wave_mfcc=wave_mfcc.to(device)\n",
        "  wave_Comple=wave_Comple.to(device)\n",
        "  partitura_tokenizada=partitura_tokenizada.to(device)\n",
        "  print(\"partitura_ tokenizada //////////////// dimencion : \"+str(partitura_tokenizada.shape))\n",
        "  # print(partitura_tokenizada)\n",
        "\n",
        "  # print(\"wave_mfcc //////////////// dimencion: \"+str(wave_mfcc.shape))\n",
        "  # print(wave_mfcc)\n",
        "  # print(\"len paritura //////////////// dimencion: \"+str(len_partitura.shape))\n",
        "  # print(len_partitura)\n",
        "  salid=modelo(wave_mfcc,partitura_tokenizada,wave_Comple)\n",
        "  # print(salid)\n",
        "  traslate2(modelo,wave_mfcc,1,device,wave_Comple)\n",
        "  break"
      ],
      "execution_count": null,
      "outputs": []
    },
    {
      "cell_type": "code",
      "metadata": {
        "id": "stsn0YOiMr07"
      },
      "source": [
        "from torchsummary import summary\n",
        "\n",
        "# need device to instantiate model\n",
        "device = torch.device('cuda:0' if torch.cuda.is_available() else 'cpu')\n",
        "\n",
        "# instantiate model for 8 emotions and move to GPU \n",
        "model=TmusicTrasforms(tgt_vocabulario=tgt_vocabulario)\n",
        "model=model.to(device)\n",
        "\n",
        "# include input feature map dims in call to summary()\n",
        "summary(model,[(1,40,1723),(50,)])\n"
      ],
      "execution_count": null,
      "outputs": []
    },
    {
      "cell_type": "code",
      "metadata": {
        "id": "dcJR6Yq31a1w"
      },
      "source": [
        "# import torch\n",
        "inputt = torch.randn(1,1, 40,1723, requires_grad=True)\n",
        "partitura = torch.randint( 0,132, (2,100))\n",
        "pato = torch.randn(1,40,430, requires_grad=True)\n",
        "lenParitura = torch.randint( 30,50, (2,))\n",
        "prueba = torch.randn(100,2,512, requires_grad=True)\n",
        "print(inputt.shape)\n",
        "print(partitura.shape)\n",
        "print(lenParitura)\n",
        "print(prueba.shape[0])"
      ],
      "execution_count": null,
      "outputs": []
    },
    {
      "cell_type": "code",
      "metadata": {
        "id": "-BSv_Iw8ddcv"
      },
      "source": [
        "print(pato.shape)\n",
        "salida=torch.cat((pato,pato,pato))\n",
        "print(salida.shape)"
      ],
      "execution_count": null,
      "outputs": []
    },
    {
      "cell_type": "code",
      "metadata": {
        "id": "bYD4kVeYrVjE"
      },
      "source": [
        "pruebaconv2=nn.Conv2d(\n",
        "            in_channels=1, # input volume depth == input channel dim == 1\n",
        "            out_channels=2, # expand output feature map volume's depth to 16\n",
        "            kernel_size=3, # typical 3*3 stride 1 kernel\n",
        "            stride=1,\n",
        "            padding=1,\n",
        "            \n",
        "                  )"
      ],
      "execution_count": null,
      "outputs": []
    },
    {
      "cell_type": "code",
      "metadata": {
        "id": "3D44eEjwrZ2B"
      },
      "source": [
        "ress= pruebaconv2(inputt)\n",
        "ress.shape"
      ],
      "execution_count": null,
      "outputs": []
    },
    {
      "cell_type": "code",
      "metadata": {
        "id": "Rki0KL29nA3i"
      },
      "source": [
        "reducir = nn.MaxPool2d(kernel_size=[2,1], stride=[2,1])\n",
        "salida=reducir(inputt)\n",
        "salida.shape"
      ],
      "execution_count": null,
      "outputs": []
    },
    {
      "cell_type": "code",
      "metadata": {
        "id": "BWJLUZNobXQ8"
      },
      "source": [
        "cambiarReshampe = torch.randn(1,10, 4,430, requires_grad=True)\n",
        "cambiarReshampe.shape"
      ],
      "execution_count": null,
      "outputs": []
    },
    {
      "cell_type": "code",
      "metadata": {
        "id": "PDem5fCTvhc5"
      },
      "source": [
        "cambiarReshampe = cambiarReshampe.reshape(cambiarReshampe.shape[0],-1,cambiarReshampe.shape[-1])\n",
        "cambiarReshampe.shape"
      ],
      "execution_count": null,
      "outputs": []
    },
    {
      "cell_type": "code",
      "metadata": {
        "id": "WyJdOJjfcHKW"
      },
      "source": [
        "cambiarReshampe = cambiarReshampe.permute(1,2,0) \n",
        "cambiarReshampe.shape"
      ],
      "execution_count": null,
      "outputs": []
    },
    {
      "cell_type": "code",
      "metadata": {
        "id": "m43CD3mgLEhD"
      },
      "source": [
        "model=TmusicTrasforms(tgt_vocabulario=233)\n",
        "DEVICE = torch.device('cuda:0' if torch.cuda.is_available() else 'cpu')\n",
        "\n",
        "model=model.to(DEVICE)\n",
        "for p in model.parameters():\n",
        "    if p.dim() > 1:\n",
        "        nn.init.xavier_uniform_(p)"
      ],
      "execution_count": null,
      "outputs": []
    },
    {
      "cell_type": "code",
      "metadata": {
        "id": "dDcs6SUZG1cg"
      },
      "source": [
        "optimizer = torch.optim.Adam(model.parameters(), lr=0.0001, betas=(0.9, 0.98), eps=1e-9)\n",
        "criterion = nn.CTCLoss()"
      ],
      "execution_count": null,
      "outputs": []
    },
    {
      "cell_type": "code",
      "metadata": {
        "id": "Medw2EI8GmDl"
      },
      "source": [
        ""
      ],
      "execution_count": null,
      "outputs": []
    },
    {
      "cell_type": "code",
      "metadata": {
        "id": "nNx6zXYmuQCw"
      },
      "source": [
        "train_step=make_train_step(model,criterion,optimizer)\n",
        "loss=train_step(inputt,partitura,lenParitura)\n",
        "loss"
      ],
      "execution_count": null,
      "outputs": []
    },
    {
      "cell_type": "code",
      "metadata": {
        "id": "Omrl7QgsLsrC"
      },
      "source": [
        "model.train()\n",
        "ouput=model(inputt,partitura)\n",
        "ouput"
      ],
      "execution_count": null,
      "outputs": []
    },
    {
      "cell_type": "code",
      "metadata": {
        "id": "1nG1FU1ZlJVD"
      },
      "source": [
        "alto=torch.max(pato)\n",
        "alto"
      ],
      "execution_count": null,
      "outputs": []
    },
    {
      "cell_type": "code",
      "metadata": {
        "id": "QTkaE-eneiis"
      },
      "source": [
        "emnb =nn.Embedding(133,512)\n",
        "\n",
        "salida=emnb(partitura.long())\n",
        "salida.shape"
      ],
      "execution_count": null,
      "outputs": []
    },
    {
      "cell_type": "code",
      "metadata": {
        "id": "kzdmmtabsXku"
      },
      "source": [
        "pato[0]"
      ],
      "execution_count": null,
      "outputs": []
    },
    {
      "cell_type": "code",
      "metadata": {
        "id": "gopw3B0Ss8z5"
      },
      "source": [
        "pato.shape"
      ],
      "execution_count": null,
      "outputs": []
    },
    {
      "cell_type": "code",
      "metadata": {
        "id": "aaGll8Xmjxcp"
      },
      "source": [
        "x = pato.unsqueeze(2)\n",
        "print(x.size())\n",
        "\n",
        "x=x.expand([2,5544,512])\n",
        "print(x.size())"
      ],
      "execution_count": null,
      "outputs": []
    },
    {
      "cell_type": "code",
      "metadata": {
        "id": "JgO5vFlrsgdz"
      },
      "source": [
        "x[0]"
      ],
      "execution_count": null,
      "outputs": []
    },
    {
      "cell_type": "code",
      "metadata": {
        "id": "E47vyryr5z-v"
      },
      "source": [
        "ys = torch.ones(1, 1).fill_(1).type(torch.long)\n",
        "ys.shape"
      ],
      "execution_count": null,
      "outputs": []
    },
    {
      "cell_type": "code",
      "metadata": {
        "id": "fh95UHmSPrwl"
      },
      "source": [
        "ys = torch.cat([ys,torch.ones(1, 1).type_as().fill_(45)], dim=0)"
      ],
      "execution_count": null,
      "outputs": []
    },
    {
      "cell_type": "code",
      "metadata": {
        "id": "OfL1qVyHJnM3"
      },
      "source": [
        "log_probs = torch.randn(1,40, 233).softmax(2).detach().requires_grad_()\n",
        "log_probs = log_probs.reshape(-1, 233)\n",
        "print(log_probs.shape)#salida del modelo\n",
        "targets = torch.randint(0, 233, (40,), dtype=torch.long)\n",
        "#targets = F.one_hot(targets, num_classes=233)\n",
        "print(targets.shape)#tokens del las partituras\n",
        "input_lengths = torch.full((1,), 40, dtype=torch.long)\n",
        "print(input_lengths)#salida de 100 caracteristicas salida decoder\n",
        "target_lengths = torch.full((1,), 40, dtype=torch.long)\n",
        "print(target_lengths)#tamanio de las partituras"
      ],
      "execution_count": null,
      "outputs": []
    },
    {
      "cell_type": "code",
      "metadata": {
        "id": "lMP6KnWfp4mG"
      },
      "source": [
        "log_probs"
      ],
      "execution_count": null,
      "outputs": []
    },
    {
      "cell_type": "code",
      "metadata": {
        "id": "qy_9liC4DTmu"
      },
      "source": [
        "targets.shape"
      ],
      "execution_count": null,
      "outputs": []
    },
    {
      "cell_type": "code",
      "metadata": {
        "id": "jY14yO5pKMea"
      },
      "source": [
        "import torch.nn.functional as F  \n",
        "criterion =nn.CrossEntropyLoss()\n",
        "loss=criterion(log_probs, targets)\n",
        "loss"
      ],
      "execution_count": null,
      "outputs": []
    },
    {
      "cell_type": "code",
      "metadata": {
        "id": "6k898qI1qNIf"
      },
      "source": [
        ""
      ],
      "execution_count": null,
      "outputs": []
    }
  ]
}